{
 "cells": [
  {
   "cell_type": "code",
   "execution_count": 6,
   "id": "78ce6e77",
   "metadata": {},
   "outputs": [
    {
     "data": {
      "text/html": [
       "<div>\n",
       "<style scoped>\n",
       "    .dataframe tbody tr th:only-of-type {\n",
       "        vertical-align: middle;\n",
       "    }\n",
       "\n",
       "    .dataframe tbody tr th {\n",
       "        vertical-align: top;\n",
       "    }\n",
       "\n",
       "    .dataframe thead th {\n",
       "        text-align: right;\n",
       "    }\n",
       "</style>\n",
       "<table border=\"1\" class=\"dataframe\">\n",
       "  <thead>\n",
       "    <tr style=\"text-align: right;\">\n",
       "      <th></th>\n",
       "      <th>question</th>\n",
       "      <th>answer</th>\n",
       "    </tr>\n",
       "  </thead>\n",
       "  <tbody>\n",
       "    <tr>\n",
       "      <th>0</th>\n",
       "      <td>What kinds of data can a machine learning mode...</td>\n",
       "      <td>Machine learning models can only train on nume...</td>\n",
       "    </tr>\n",
       "    <tr>\n",
       "      <th>1</th>\n",
       "      <td>What are the basic variable data types in python?</td>\n",
       "      <td>`float`, `int`, `str`, and `bool`</td>\n",
       "    </tr>\n",
       "    <tr>\n",
       "      <th>2</th>\n",
       "      <td>What is a static model or distribution?</td>\n",
       "      <td>A probability distribution or model whose unde...</td>\n",
       "    </tr>\n",
       "    <tr>\n",
       "      <th>3</th>\n",
       "      <td>What is a leverage plot and what should I look...</td>\n",
       "      <td>I don't know.</td>\n",
       "    </tr>\n",
       "    <tr>\n",
       "      <th>4</th>\n",
       "      <td>What are replicants in the context of bootstra...</td>\n",
       "      <td>I don't know but I imagine they are the duplic...</td>\n",
       "    </tr>\n",
       "  </tbody>\n",
       "</table>\n",
       "</div>"
      ],
      "text/plain": [
       "                                            question  \\\n",
       "0  What kinds of data can a machine learning mode...   \n",
       "1  What are the basic variable data types in python?   \n",
       "2            What is a static model or distribution?   \n",
       "3  What is a leverage plot and what should I look...   \n",
       "4  What are replicants in the context of bootstra...   \n",
       "\n",
       "                                              answer  \n",
       "0  Machine learning models can only train on nume...  \n",
       "1                  `float`, `int`, `str`, and `bool`  \n",
       "2  A probability distribution or model whose unde...  \n",
       "3                                      I don't know.  \n",
       "4  I don't know but I imagine they are the duplic...  "
      ]
     },
     "execution_count": 6,
     "metadata": {},
     "output_type": "execute_result"
    }
   ],
   "source": [
    "import pandas as pd\n",
    "\n",
    "            #https://gitlab.com/tangibleai/community/qary-cli/-/blob/main/src/qary/data/faq/short-faqs.csv\n",
    "#url = \"https://gitlab.com/tangibleai/community/qary-cli/-/blob/main/src/qary/data/faq/short-faqs.csv\"\n",
    "#REPO_URL = 'https://gitlab.com/tangibleai/community/qary-cli/-/blob/main'\n",
    "#FAQ_DIR = 'src/qary/data/faq'\n",
    "#FAQ_FILENAME = 'short-faqs.csv'\n",
    "#DS_FAQ_URL = '/'.join([REPO_URL, FAQ_DIR, FAQ_FILENAME])\n",
    "df = pd.read_csv('short-faqs.csv')\n",
    "\n",
    "df.head()"
   ]
  },
  {
   "cell_type": "code",
   "execution_count": 45,
   "id": "a9420d5f",
   "metadata": {},
   "outputs": [],
   "source": [
    "from sklearn.feature_extraction.text import TfidfVectorizer\n",
    "from sklearn.decomposition import TruncatedSVD\n",
    "\n",
    "vectorizer = TfidfVectorizer()\n",
    "vectorizer.fit(df['question'])\n",
    "tfidfvectors = vectorizer.transform(df['question'])\n",
    "svd = TruncatedSVD(n_components=16, n_iter=100)\n",
    "tfidfvectors_16d = svd.fit_transform(tfidfvectors)"
   ]
  },
  {
   "cell_type": "code",
   "execution_count": 46,
   "id": "6a53a29d",
   "metadata": {},
   "outputs": [],
   "source": [
    "import numpy as np\n",
    "\n",
    "def bot_reply(question):\n",
    "    question_tfidf = vectorizer.transform([question]).todense()\n",
    "    question_tfidf = np.asarray(question_tfidf)\n",
    "    question_16d = svd.transform(question_tfidf)\n",
    "    idx = question_16d.dot(tfidfvectors_16d.T).argmax()\n",
    "    \n",
    "    print(\n",
    "            f\"idx is: {idx}\\n\\n\"\n",
    "            f\"Your question:\\n  {question}\\n\\n\"\n",
    "            f\"Most similar FAQ question:\\n  {df['question'][idx]}\\n\\n\"\n",
    "            f\"Answer to that FAQ question:\\n  {df['answer'][idx]}\\n\\n\"\n",
    "          )"
   ]
  },
  {
   "cell_type": "code",
   "execution_count": 47,
   "id": "b9525c8e",
   "metadata": {},
   "outputs": [
    {
     "name": "stdout",
     "output_type": "stream",
     "text": [
      "idx is: 71\n",
      "\n",
      "Your question:\n",
      "  What's overfitting a model?\n",
      "\n",
      "Most similar FAQ question:\n",
      "  How to reduce overfitting and improve test set accuracy for a LogisticRegression model?\n",
      "\n",
      "Answer to that FAQ question:\n",
      "  Decrease the C value, this increases the regularization strength.\n",
      "\n",
      "\n"
     ]
    }
   ],
   "source": [
    "bot_reply(\"What's overfitting a model?\")"
   ]
  },
  {
   "cell_type": "code",
   "execution_count": 49,
   "id": "a43f6e2f",
   "metadata": {},
   "outputs": [
    {
     "name": "stdout",
     "output_type": "stream",
     "text": [
      "idx is: 0\n",
      "\n",
      "Your question:\n",
      "  What kinds of data can a machine learning\n",
      "\n",
      "Most similar FAQ question:\n",
      "  What kinds of data can a machine learning model train on?\n",
      "\n",
      "Answer to that FAQ question:\n",
      "  Machine learning models can only train on numerical data.\n",
      "\n",
      "\n"
     ]
    }
   ],
   "source": [
    "bot_reply(\"What kinds of data can a machine learning\")"
   ]
  },
  {
   "cell_type": "code",
   "execution_count": 36,
   "id": "eb925dec",
   "metadata": {},
   "outputs": [],
   "source": [
    "# question = \"What's overfitting a model?\"\n",
    "# question_tfidf = vectorizer.transform([question]).todense()\n",
    "# question_tfidf = np.asarray(question_tfidf)\n",
    "# question_16d = svd.transform(question_tfidf)\n",
    "# idx2= question_16d.dot(tfidfvectors_16d.T)\n",
    "# max(idx2[0])"
   ]
  }
 ],
 "metadata": {
  "kernelspec": {
   "display_name": "Python 3 (ipykernel)",
   "language": "python",
   "name": "python3"
  },
  "language_info": {
   "codemirror_mode": {
    "name": "ipython",
    "version": 3
   },
   "file_extension": ".py",
   "mimetype": "text/x-python",
   "name": "python",
   "nbconvert_exporter": "python",
   "pygments_lexer": "ipython3",
   "version": "3.11.5"
  }
 },
 "nbformat": 4,
 "nbformat_minor": 5
}
