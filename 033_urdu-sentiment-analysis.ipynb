{
 "cells": [
  {
   "cell_type": "code",
   "execution_count": 1,
   "id": "6185d71d",
   "metadata": {},
   "outputs": [],
   "source": [
    "import pandas as pd\n",
    "import numpy as np\n",
    "\n",
    "import warnings\n",
    "warnings.filterwarnings(\"ignore\")\n",
    "\n",
    "pd.set_option('display.max_colwidth', None)"
   ]
  },
  {
   "cell_type": "code",
   "execution_count": 2,
   "id": "5ebbdbeb",
   "metadata": {},
   "outputs": [
    {
     "data": {
      "text/html": [
       "<div>\n",
       "<style scoped>\n",
       "    .dataframe tbody tr th:only-of-type {\n",
       "        vertical-align: middle;\n",
       "    }\n",
       "\n",
       "    .dataframe tbody tr th {\n",
       "        vertical-align: top;\n",
       "    }\n",
       "\n",
       "    .dataframe thead th {\n",
       "        text-align: right;\n",
       "    }\n",
       "</style>\n",
       "<table border=\"1\" class=\"dataframe\">\n",
       "  <thead>\n",
       "    <tr style=\"text-align: right;\">\n",
       "      <th></th>\n",
       "      <th>Tweet</th>\n",
       "      <th>Class</th>\n",
       "    </tr>\n",
       "  </thead>\n",
       "  <tbody>\n",
       "    <tr>\n",
       "      <th>659</th>\n",
       "      <td>اللہ جانے وے ماہی تیرا پیار کی اے دل دی اوداسی نی جاندی</td>\n",
       "      <td>N</td>\n",
       "    </tr>\n",
       "    <tr>\n",
       "      <th>264</th>\n",
       "      <td>میں حُر ہوں ابھی لشکرِ یزید میں ھوں میرا حسینؑ ابھی کربلا نہیں پہنچا</td>\n",
       "      <td>P</td>\n",
       "    </tr>\n",
       "    <tr>\n",
       "      <th>399</th>\n",
       "      <td>پنجاب: مزید 23 افراد ڈینگی وائرس کا شکار</td>\n",
       "      <td>N</td>\n",
       "    </tr>\n",
       "    <tr>\n",
       "      <th>730</th>\n",
       "      <td>کے اہتمام علماء کا انوکا اجتماع جس میں سنی، شیعہ،بریلوی، دیوبند اور اہلحدیث تمام مکاتب فکرکے علماء 1 چھت کے نیچے جمع،1 جگہ باجماعت نمازکی ادائیگی</td>\n",
       "      <td>P</td>\n",
       "    </tr>\n",
       "    <tr>\n",
       "      <th>986</th>\n",
       "      <td>مہاجر اپنے حصے کا پاکستان ساتھ لیکر آئے تھے ، خواجہ اظہار الحسن۔۔۔ العجب</td>\n",
       "      <td>P</td>\n",
       "    </tr>\n",
       "  </tbody>\n",
       "</table>\n",
       "</div>"
      ],
      "text/plain": [
       "                                                                                                                                                  Tweet  \\\n",
       "659                                                                                            اللہ جانے وے ماہی تیرا پیار کی اے دل دی اوداسی نی جاندی    \n",
       "264                                                                                میں حُر ہوں ابھی لشکرِ یزید میں ھوں میرا حسینؑ ابھی کربلا نہیں پہنچا   \n",
       "399                                                                                                           پنجاب: مزید 23 افراد ڈینگی وائرس کا شکار    \n",
       "730   کے اہتمام علماء کا انوکا اجتماع جس میں سنی، شیعہ،بریلوی، دیوبند اور اہلحدیث تمام مکاتب فکرکے علماء 1 چھت کے نیچے جمع،1 جگہ باجماعت نمازکی ادائیگی   \n",
       "986                                                                            مہاجر اپنے حصے کا پاکستان ساتھ لیکر آئے تھے ، خواجہ اظہار الحسن۔۔۔ العجب   \n",
       "\n",
       "    Class  \n",
       "659     N  \n",
       "264     P  \n",
       "399     N  \n",
       "730     P  \n",
       "986     P  "
      ]
     },
     "execution_count": 2,
     "metadata": {},
     "output_type": "execute_result"
    }
   ],
   "source": [
    "data = pd.read_csv(\"urdu-sentiment-corpus-v1.tsv\", sep='\\t')\n",
    "data.sample(5)"
   ]
  },
  {
   "cell_type": "code",
   "execution_count": 3,
   "id": "77349a20",
   "metadata": {},
   "outputs": [
    {
     "data": {
      "text/plain": [
       "Class\n",
       "N    499\n",
       "P    480\n",
       "O     20\n",
       "Name: count, dtype: int64"
      ]
     },
     "execution_count": 3,
     "metadata": {},
     "output_type": "execute_result"
    }
   ],
   "source": [
    "data['Class'].value_counts()"
   ]
  },
  {
   "cell_type": "markdown",
   "id": "28f77750",
   "metadata": {},
   "source": [
    "# Investigating instances of all classes"
   ]
  },
  {
   "cell_type": "code",
   "execution_count": 4,
   "id": "d0a08e3a",
   "metadata": {},
   "outputs": [
    {
     "data": {
      "text/html": [
       "<div>\n",
       "<style scoped>\n",
       "    .dataframe tbody tr th:only-of-type {\n",
       "        vertical-align: middle;\n",
       "    }\n",
       "\n",
       "    .dataframe tbody tr th {\n",
       "        vertical-align: top;\n",
       "    }\n",
       "\n",
       "    .dataframe thead th {\n",
       "        text-align: right;\n",
       "    }\n",
       "</style>\n",
       "<table border=\"1\" class=\"dataframe\">\n",
       "  <thead>\n",
       "    <tr style=\"text-align: right;\">\n",
       "      <th></th>\n",
       "      <th>Tweet</th>\n",
       "      <th>Class</th>\n",
       "    </tr>\n",
       "  </thead>\n",
       "  <tbody>\n",
       "    <tr>\n",
       "      <th>453</th>\n",
       "      <td>ایک گھنٹے بعد کیا کرو گی؟</td>\n",
       "      <td>O</td>\n",
       "    </tr>\n",
       "    <tr>\n",
       "      <th>886</th>\n",
       "      <td>وجہ کیا تھی؟</td>\n",
       "      <td>O</td>\n",
       "    </tr>\n",
       "    <tr>\n",
       "      <th>477</th>\n",
       "      <td>ایک آدمی نے اپنے بیٹے کو سمجھانے کے لیے اسے ایک شیشے کے سامنے کھڑا کر کے پوچھا بیٹا اس شیشے میں تمہیں کیا نظر آ۔۔۔</td>\n",
       "      <td>O</td>\n",
       "    </tr>\n",
       "    <tr>\n",
       "      <th>614</th>\n",
       "      <td>انصافیوں کے ٹرینڈ کا احوال: 1۔ اوریجنل ٹرینڈ = 20۔5 %2۔ ریٹویٹس = 75۔7 %3۔ ریپلائیز = 3۔8 %</td>\n",
       "      <td>O</td>\n",
       "    </tr>\n",
       "    <tr>\n",
       "      <th>587</th>\n",
       "      <td>اگر ٹرین کی رفتار 120 کلومیٹر فی گھنٹہ ہو، تو 2 منٹ کی وڈیو میں ٹرین کی تقریباً لمبائی کیا ہوسکتی ہے ؟؟؟</td>\n",
       "      <td>O</td>\n",
       "    </tr>\n",
       "  </tbody>\n",
       "</table>\n",
       "</div>"
      ],
      "text/plain": [
       "                                                                                                                   Tweet  \\\n",
       "453                                                                                            ایک گھنٹے بعد کیا کرو گی؟   \n",
       "886                                                                                                         وجہ کیا تھی؟   \n",
       "477  ایک آدمی نے اپنے بیٹے کو سمجھانے کے لیے اسے ایک شیشے کے سامنے کھڑا کر کے پوچھا بیٹا اس شیشے میں تمہیں کیا نظر آ۔۔۔    \n",
       "614                          انصافیوں کے ٹرینڈ کا احوال: 1۔ اوریجنل ٹرینڈ = 20۔5 %2۔ ریٹویٹس = 75۔7 %3۔ ریپلائیز = 3۔8 %   \n",
       "587            اگر ٹرین کی رفتار 120 کلومیٹر فی گھنٹہ ہو، تو 2 منٹ کی وڈیو میں ٹرین کی تقریباً لمبائی کیا ہوسکتی ہے ؟؟؟    \n",
       "\n",
       "    Class  \n",
       "453     O  \n",
       "886     O  \n",
       "477     O  \n",
       "614     O  \n",
       "587     O  "
      ]
     },
     "execution_count": 4,
     "metadata": {},
     "output_type": "execute_result"
    }
   ],
   "source": [
    "data[data['Class']==\"O\"].sample(5)"
   ]
  },
  {
   "cell_type": "code",
   "execution_count": 5,
   "id": "51551e98",
   "metadata": {},
   "outputs": [
    {
     "data": {
      "text/html": [
       "<div>\n",
       "<style scoped>\n",
       "    .dataframe tbody tr th:only-of-type {\n",
       "        vertical-align: middle;\n",
       "    }\n",
       "\n",
       "    .dataframe tbody tr th {\n",
       "        vertical-align: top;\n",
       "    }\n",
       "\n",
       "    .dataframe thead th {\n",
       "        text-align: right;\n",
       "    }\n",
       "</style>\n",
       "<table border=\"1\" class=\"dataframe\">\n",
       "  <thead>\n",
       "    <tr style=\"text-align: right;\">\n",
       "      <th></th>\n",
       "      <th>Tweet</th>\n",
       "      <th>Class</th>\n",
       "    </tr>\n",
       "  </thead>\n",
       "  <tbody>\n",
       "    <tr>\n",
       "      <th>230</th>\n",
       "      <td>کچھ لوگوں کو شکریہ کہنا ہے جو۔۔۔پٹوریوں کو ان کی زبان میں جواب دیتے ہے اورکا دفاع کرتے ہے وغیرہ کو</td>\n",
       "      <td>P</td>\n",
       "    </tr>\n",
       "    <tr>\n",
       "      <th>177</th>\n",
       "      <td>: ایم کیو ایم کو منانے کی کوئی کوشش نہیں کی،رحمان ملک گویا اس بار خود ہی ذلیل ہو کہ واپس آ جاویں گے جیسے طاھر کینیڈوی ذلیل و رسوا ہو کہ آ گئے</td>\n",
       "      <td>P</td>\n",
       "    </tr>\n",
       "    <tr>\n",
       "      <th>407</th>\n",
       "      <td>اسلام علیکم الله آپ کو خوش اور سلامت رکھے ۔آمین۔ صبح جمعہ مبارک!</td>\n",
       "      <td>P</td>\n",
       "    </tr>\n",
       "    <tr>\n",
       "      <th>974</th>\n",
       "      <td>بہت بہت شکریہ۔ خیر مُبارک, آپکو بھی مُبارک ہو</td>\n",
       "      <td>P</td>\n",
       "    </tr>\n",
       "    <tr>\n",
       "      <th>44</th>\n",
       "      <td>اتنا کام پڑا ہے اور میں کھیل رہی ہوں اردو کی بورڈ سے</td>\n",
       "      <td>P</td>\n",
       "    </tr>\n",
       "  </tbody>\n",
       "</table>\n",
       "</div>"
      ],
      "text/plain": [
       "                                                                                                                                              Tweet  \\\n",
       "230                                              کچھ لوگوں کو شکریہ کہنا ہے جو۔۔۔پٹوریوں کو ان کی زبان میں جواب دیتے ہے اورکا دفاع کرتے ہے وغیرہ کو   \n",
       "177  : ایم کیو ایم کو منانے کی کوئی کوشش نہیں کی،رحمان ملک گویا اس بار خود ہی ذلیل ہو کہ واپس آ جاویں گے جیسے طاھر کینیڈوی ذلیل و رسوا ہو کہ آ گئے    \n",
       "407                                                                                اسلام علیکم الله آپ کو خوش اور سلامت رکھے ۔آمین۔ صبح جمعہ مبارک!   \n",
       "974                                                                                                  بہت بہت شکریہ۔ خیر مُبارک, آپکو بھی مُبارک ہو    \n",
       "44                                                                                            اتنا کام پڑا ہے اور میں کھیل رہی ہوں اردو کی بورڈ سے    \n",
       "\n",
       "    Class  \n",
       "230     P  \n",
       "177     P  \n",
       "407     P  \n",
       "974     P  \n",
       "44      P  "
      ]
     },
     "execution_count": 5,
     "metadata": {},
     "output_type": "execute_result"
    }
   ],
   "source": [
    "data[data['Class']==\"P\"].sample(5)"
   ]
  },
  {
   "cell_type": "code",
   "execution_count": 6,
   "id": "92af5e99",
   "metadata": {},
   "outputs": [
    {
     "data": {
      "text/html": [
       "<div>\n",
       "<style scoped>\n",
       "    .dataframe tbody tr th:only-of-type {\n",
       "        vertical-align: middle;\n",
       "    }\n",
       "\n",
       "    .dataframe tbody tr th {\n",
       "        vertical-align: top;\n",
       "    }\n",
       "\n",
       "    .dataframe thead th {\n",
       "        text-align: right;\n",
       "    }\n",
       "</style>\n",
       "<table border=\"1\" class=\"dataframe\">\n",
       "  <thead>\n",
       "    <tr style=\"text-align: right;\">\n",
       "      <th></th>\n",
       "      <th>Tweet</th>\n",
       "      <th>Class</th>\n",
       "    </tr>\n",
       "  </thead>\n",
       "  <tbody>\n",
       "    <tr>\n",
       "      <th>184</th>\n",
       "      <td>اپنے باپ شوبازشریف کو بول پہلے وہ پنجاب کو بچالے اور تو اپنی بجلی پر توجہ دے ۔ ماما نا بن خیبر پختونخواہ کا۔جعلی معزز بهڑوے سالے</td>\n",
       "      <td>N</td>\n",
       "    </tr>\n",
       "    <tr>\n",
       "      <th>650</th>\n",
       "      <td>میں نے پوچھا کہ زندگی کیا ہے ہنس دئیے پھول، رو پڑی شبنم</td>\n",
       "      <td>N</td>\n",
       "    </tr>\n",
       "    <tr>\n",
       "      <th>954</th>\n",
       "      <td>مگر ہم بیان ہوں کیسے رسوائیوں سے ڈرتا ہوں شاید</td>\n",
       "      <td>N</td>\n",
       "    </tr>\n",
       "    <tr>\n",
       "      <th>659</th>\n",
       "      <td>اللہ جانے وے ماہی تیرا پیار کی اے دل دی اوداسی نی جاندی</td>\n",
       "      <td>N</td>\n",
       "    </tr>\n",
       "    <tr>\n",
       "      <th>909</th>\n",
       "      <td>طاہر القادری کے نام کیسی انوکھی داستان سب کو سنا گیاایک شخص سارے ملک کو ماموں بن بنا گیا</td>\n",
       "      <td>N</td>\n",
       "    </tr>\n",
       "  </tbody>\n",
       "</table>\n",
       "</div>"
      ],
      "text/plain": [
       "                                                                                                                                  Tweet  \\\n",
       "184   اپنے باپ شوبازشریف کو بول پہلے وہ پنجاب کو بچالے اور تو اپنی بجلی پر توجہ دے ۔ ماما نا بن خیبر پختونخواہ کا۔جعلی معزز بهڑوے سالے    \n",
       "650                                                                             میں نے پوچھا کہ زندگی کیا ہے ہنس دئیے پھول، رو پڑی شبنم   \n",
       "954                                                                                      مگر ہم بیان ہوں کیسے رسوائیوں سے ڈرتا ہوں شاید   \n",
       "659                                                                            اللہ جانے وے ماہی تیرا پیار کی اے دل دی اوداسی نی جاندی    \n",
       "909                                            طاہر القادری کے نام کیسی انوکھی داستان سب کو سنا گیاایک شخص سارے ملک کو ماموں بن بنا گیا   \n",
       "\n",
       "    Class  \n",
       "184     N  \n",
       "650     N  \n",
       "954     N  \n",
       "659     N  \n",
       "909     N  "
      ]
     },
     "execution_count": 6,
     "metadata": {},
     "output_type": "execute_result"
    }
   ],
   "source": [
    "data[data['Class']==\"N\"].sample(5)"
   ]
  },
  {
   "cell_type": "markdown",
   "id": "009a7b2b",
   "metadata": {},
   "source": [
    "We have instances belonging to three different sentiment classes:\n",
    "1. \"P\" - Positive Sentiment\n",
    "2. \"N\" - Negative Sentiment\n",
    "3. \"O\" - Other/Neutral Sentiment"
   ]
  },
  {
   "cell_type": "markdown",
   "id": "132c5b17",
   "metadata": {},
   "source": [
    "# Preprocessing"
   ]
  },
  {
   "cell_type": "markdown",
   "id": "4157ca2d",
   "metadata": {},
   "source": [
    "### Dropping instances with nan labels"
   ]
  },
  {
   "cell_type": "code",
   "execution_count": 7,
   "id": "67de3cec",
   "metadata": {},
   "outputs": [
    {
     "data": {
      "text/plain": [
       "array(['P', 'N', 'O', nan], dtype=object)"
      ]
     },
     "execution_count": 7,
     "metadata": {},
     "output_type": "execute_result"
    }
   ],
   "source": [
    "data['Class'].unique()"
   ]
  },
  {
   "cell_type": "code",
   "execution_count": 8,
   "id": "63a56f7b",
   "metadata": {},
   "outputs": [],
   "source": [
    "data.dropna(subset=['Class'], inplace=True)  #drop rows with NaN values in 'Class' column\n",
    "data.reset_index(drop=True, inplace=True)  #reset index"
   ]
  },
  {
   "cell_type": "code",
   "execution_count": 9,
   "id": "021339a2",
   "metadata": {},
   "outputs": [
    {
     "data": {
      "text/plain": [
       "array(['P', 'N', 'O'], dtype=object)"
      ]
     },
     "execution_count": 9,
     "metadata": {},
     "output_type": "execute_result"
    }
   ],
   "source": [
    "data['Class'].unique()"
   ]
  },
  {
   "cell_type": "markdown",
   "id": "fa1264c8",
   "metadata": {},
   "source": [
    "### Encoding target column labels"
   ]
  },
  {
   "cell_type": "code",
   "execution_count": 10,
   "id": "6478e694",
   "metadata": {},
   "outputs": [],
   "source": [
    "from sklearn.preprocessing import LabelEncoder\n",
    "\n",
    "label_encoder = LabelEncoder()\n",
    "\n",
    "data['Class'] = label_encoder.fit_transform(data['Class'])"
   ]
  },
  {
   "cell_type": "markdown",
   "id": "488d3ada",
   "metadata": {},
   "source": [
    "### Tokenzation"
   ]
  },
  {
   "cell_type": "code",
   "execution_count": 11,
   "id": "a83de058",
   "metadata": {},
   "outputs": [
    {
     "data": {
      "text/html": [
       "<div>\n",
       "<style scoped>\n",
       "    .dataframe tbody tr th:only-of-type {\n",
       "        vertical-align: middle;\n",
       "    }\n",
       "\n",
       "    .dataframe tbody tr th {\n",
       "        vertical-align: top;\n",
       "    }\n",
       "\n",
       "    .dataframe thead th {\n",
       "        text-align: right;\n",
       "    }\n",
       "</style>\n",
       "<table border=\"1\" class=\"dataframe\">\n",
       "  <thead>\n",
       "    <tr style=\"text-align: right;\">\n",
       "      <th></th>\n",
       "      <th>Tweet</th>\n",
       "      <th>Class</th>\n",
       "    </tr>\n",
       "  </thead>\n",
       "  <tbody>\n",
       "    <tr>\n",
       "      <th>214</th>\n",
       "      <td>[سبزے , کو , جب , کہیں , جگہ , نہ , ملی , بن , گیا , روئے , آب , پر , کائی , غالب]</td>\n",
       "      <td>2</td>\n",
       "    </tr>\n",
       "    <tr>\n",
       "      <th>770</th>\n",
       "      <td>[حکومت , سیاسی , قائدین , کوتحفظ , دینے , میں , ناکام , ہوچکی , ہے , شیریں , مزاری]</td>\n",
       "      <td>0</td>\n",
       "    </tr>\n",
       "    <tr>\n",
       "      <th>219</th>\n",
       "      <td>[ﺁﺧﺮﯼ , ﻓﺘﺢ , ﺧﺎﻣﻮﺷﯽ , ﮐﯽ , ﮨﻮﺋﯽ , ﺍﻭﺭ , ﺁﻭﺍﺯ , ﻓﻨﺎ , ﮨﻮ , ﮔﺌﯽ ]</td>\n",
       "      <td>2</td>\n",
       "    </tr>\n",
       "    <tr>\n",
       "      <th>587</th>\n",
       "      <td>[نیوز , چینلز , کے , پرائم , ٹائم , پر , لایا , گیا , انقلاب , اٹھ , گیاخطرہ , ہے , انقلاب , کے , روح , رواں , قبض , شکار , نہ , ہوں , لہذا , وقت , پر , اسبغول , پی , لیا , کریں ]</td>\n",
       "      <td>0</td>\n",
       "    </tr>\n",
       "    <tr>\n",
       "      <th>558</th>\n",
       "      <td>[جمعه , مبارک , دعا , میں , یاد , رکھیں , شکریه]</td>\n",
       "      <td>2</td>\n",
       "    </tr>\n",
       "  </tbody>\n",
       "</table>\n",
       "</div>"
      ],
      "text/plain": [
       "                                                                                                                                                                                   Tweet  \\\n",
       "214                                                                                                   [سبزے , کو , جب , کہیں , جگہ , نہ , ملی , بن , گیا , روئے , آب , پر , کائی , غالب]   \n",
       "770                                                                                                  [حکومت , سیاسی , قائدین , کوتحفظ , دینے , میں , ناکام , ہوچکی , ہے , شیریں , مزاری]   \n",
       "219                                                                                                                     [ﺁﺧﺮﯼ , ﻓﺘﺢ , ﺧﺎﻣﻮﺷﯽ , ﮐﯽ , ﮨﻮﺋﯽ , ﺍﻭﺭ , ﺁﻭﺍﺯ , ﻓﻨﺎ , ﮨﻮ , ﮔﺌﯽ ]   \n",
       "587  [نیوز , چینلز , کے , پرائم , ٹائم , پر , لایا , گیا , انقلاب , اٹھ , گیاخطرہ , ہے , انقلاب , کے , روح , رواں , قبض , شکار , نہ , ہوں , لہذا , وقت , پر , اسبغول , پی , لیا , کریں ]   \n",
       "558                                                                                                                                     [جمعه , مبارک , دعا , میں , یاد , رکھیں , شکریه]   \n",
       "\n",
       "     Class  \n",
       "214      2  \n",
       "770      0  \n",
       "219      2  \n",
       "587      0  \n",
       "558      2  "
      ]
     },
     "execution_count": 11,
     "metadata": {},
     "output_type": "execute_result"
    }
   ],
   "source": [
    "import re\n",
    "\n",
    "def tokenize(row):\n",
    "    words = re.findall(r\"\\w+.\", row)\n",
    "    return words\n",
    "\n",
    "data['Tweet']= data['Tweet'].apply(tokenize)\n",
    "data.sample(5)"
   ]
  },
  {
   "cell_type": "code",
   "execution_count": 12,
   "id": "2e9eb852",
   "metadata": {},
   "outputs": [],
   "source": [
    "def remove_whitespace(tokens):\n",
    "    return [token.strip() for token in tokens]\n",
    "\n",
    "#apply whitespace removal function to each tweet\n",
    "data['Tweet'] = data['Tweet'].apply(remove_whitespace)\n",
    "#data['Tweet'][1]"
   ]
  },
  {
   "cell_type": "markdown",
   "id": "3b569965",
   "metadata": {},
   "source": [
    "### Checking average tokens per tweet count before preprocessing"
   ]
  },
  {
   "cell_type": "code",
   "execution_count": 13,
   "id": "4e9db3fb",
   "metadata": {},
   "outputs": [
    {
     "name": "stdout",
     "output_type": "stream",
     "text": [
      "Average tokens per tweet: 17.26926926926927\n"
     ]
    }
   ],
   "source": [
    "token_count =  data['Tweet'].apply(len)\n",
    "\n",
    "#compute the average number of tokens per tweet\n",
    "average_tokens_per_tweet = token_count.mean()\n",
    "\n",
    "print(\"Average tokens per tweet:\", average_tokens_per_tweet)"
   ]
  },
  {
   "cell_type": "markdown",
   "id": "ec69f8a7",
   "metadata": {},
   "source": [
    "### Filter out tokens containing math integers, English words, punctuations and stopwords"
   ]
  },
  {
   "cell_type": "code",
   "execution_count": 14,
   "id": "9f724b66",
   "metadata": {},
   "outputs": [],
   "source": [
    "#filter integers\n",
    "def filter_integers(tokens):\n",
    "    return [token for token in tokens if not re.search(r'\\d', token)]\n",
    "\n",
    "data['Tweet'] = data['Tweet'].apply(lambda tokens: filter_integers(tokens))\n",
    "#data.iloc[581:582]"
   ]
  },
  {
   "cell_type": "code",
   "execution_count": 15,
   "id": "ea85e530",
   "metadata": {},
   "outputs": [],
   "source": [
    "#filter english words\n",
    "def filter_english(tokens):\n",
    "    return [token for token in tokens if not re.search(r'[A-Z a-z]+.', token)]\n",
    "\n",
    "data['Tweet'] = data['Tweet'].apply(lambda tokens: filter_english(tokens))\n",
    "#data.iloc[581:582]"
   ]
  },
  {
   "cell_type": "code",
   "execution_count": 16,
   "id": "3c4c0717",
   "metadata": {},
   "outputs": [],
   "source": [
    "unwanted_chars = ['،', '؛', '؟', '۔', '٪', '،', '=', '(', ')']\n",
    "\n",
    "#function to remove punctuations and other noisy character tokens\n",
    "def filter_punctuation(tokens):\n",
    "    return [token for token in tokens if token not in unwanted_chars]\n",
    "\n",
    "data['Tweet'] = data['Tweet'].apply(lambda tokens: filter_punctuation(tokens))\n",
    "#data.iloc[600:602]"
   ]
  },
  {
   "cell_type": "code",
   "execution_count": 17,
   "id": "b8fc5ec4",
   "metadata": {},
   "outputs": [],
   "source": [
    "urdu_stopwords = ['کہ', 'کے', 'کی', 'کو', 'سے', 'ہو', 'گا', 'گی', 'ہیں', 'یہ', 'اور', 'یا', 'تھا', 'تھی', 'ہے', 'کر', 'کرکے', 'وغیرہ','میں','سے']\n",
    "\n",
    "#function to remove Urdu stopwords\n",
    "def remove_stopwords(tokens):\n",
    "    return [token for token in tokens if token not in urdu_stopwords]\n",
    "\n",
    "data['Tweet'] = data['Tweet'].apply(lambda tokens: remove_stopwords(tokens))\n",
    "#data.iloc[696:697]"
   ]
  },
  {
   "cell_type": "markdown",
   "id": "b4938fc6",
   "metadata": {},
   "source": [
    "### Checking average tokens per tweet count after preprocessing"
   ]
  },
  {
   "cell_type": "code",
   "execution_count": 18,
   "id": "0317dac2",
   "metadata": {},
   "outputs": [
    {
     "name": "stdout",
     "output_type": "stream",
     "text": [
      "Average tokens per tweet: 14.36936936936937\n"
     ]
    }
   ],
   "source": [
    "token_count =  data['Tweet'].apply(len)\n",
    "\n",
    "#compute the average number of tokens per tweet\n",
    "average_tokens_per_tweet = token_count.mean()\n",
    "\n",
    "print(\"Average tokens per tweet:\", average_tokens_per_tweet)"
   ]
  },
  {
   "cell_type": "code",
   "execution_count": 19,
   "id": "2283c4ea",
   "metadata": {},
   "outputs": [],
   "source": [
    "#saving a copy of the preprocessed dataframe\n",
    "preprocessed_data = data.copy()"
   ]
  },
  {
   "cell_type": "markdown",
   "id": "dfcf73bd",
   "metadata": {},
   "source": [
    "# Feature Extraction"
   ]
  },
  {
   "cell_type": "markdown",
   "id": "7dbffe9f",
   "metadata": {},
   "source": [
    "### Term Frequency - Inverse Document Frequency (TF-IDF)"
   ]
  },
  {
   "cell_type": "code",
   "execution_count": 20,
   "id": "5f2bba04",
   "metadata": {},
   "outputs": [
    {
     "data": {
      "text/html": [
       "<div>\n",
       "<style scoped>\n",
       "    .dataframe tbody tr th:only-of-type {\n",
       "        vertical-align: middle;\n",
       "    }\n",
       "\n",
       "    .dataframe tbody tr th {\n",
       "        vertical-align: top;\n",
       "    }\n",
       "\n",
       "    .dataframe thead th {\n",
       "        text-align: right;\n",
       "    }\n",
       "</style>\n",
       "<table border=\"1\" class=\"dataframe\">\n",
       "  <thead>\n",
       "    <tr style=\"text-align: right;\">\n",
       "      <th></th>\n",
       "      <th>ءاللہ</th>\n",
       "      <th>آؤٹ</th>\n",
       "      <th>آؤے</th>\n",
       "      <th>آئ</th>\n",
       "      <th>آئن</th>\n",
       "      <th>آئندہ</th>\n",
       "      <th>آئوٹ</th>\n",
       "      <th>آئی</th>\n",
       "      <th>آئینہ</th>\n",
       "      <th>آئینی</th>\n",
       "      <th>...</th>\n",
       "      <th>ﻭﺟﮧ</th>\n",
       "      <th>ﻭﺣﺸﺖ</th>\n",
       "      <th>ﻭﺯﺍﺭﺕ</th>\n",
       "      <th>ﻭﻗﺖ</th>\n",
       "      <th>ﻭﻗﻔﮯ</th>\n",
       "      <th>ﻮﭦ</th>\n",
       "      <th>ﻮﮔﻮﮞ</th>\n",
       "      <th>ﻻﮨﻮﺭ</th>\n",
       "      <th>ﻻﺯﻡ</th>\n",
       "      <th>Label</th>\n",
       "    </tr>\n",
       "  </thead>\n",
       "  <tbody>\n",
       "    <tr>\n",
       "      <th>0</th>\n",
       "      <td>0.0</td>\n",
       "      <td>0.0</td>\n",
       "      <td>0.0</td>\n",
       "      <td>0.0</td>\n",
       "      <td>0.0</td>\n",
       "      <td>0.0</td>\n",
       "      <td>0.0</td>\n",
       "      <td>0.0</td>\n",
       "      <td>0.0</td>\n",
       "      <td>0.0</td>\n",
       "      <td>...</td>\n",
       "      <td>0.0</td>\n",
       "      <td>0.0</td>\n",
       "      <td>0.0</td>\n",
       "      <td>0.0</td>\n",
       "      <td>0.0</td>\n",
       "      <td>0.0</td>\n",
       "      <td>0.0</td>\n",
       "      <td>0.0</td>\n",
       "      <td>0.0</td>\n",
       "      <td>2</td>\n",
       "    </tr>\n",
       "    <tr>\n",
       "      <th>1</th>\n",
       "      <td>0.0</td>\n",
       "      <td>0.0</td>\n",
       "      <td>0.0</td>\n",
       "      <td>0.0</td>\n",
       "      <td>0.0</td>\n",
       "      <td>0.0</td>\n",
       "      <td>0.0</td>\n",
       "      <td>0.0</td>\n",
       "      <td>0.0</td>\n",
       "      <td>0.0</td>\n",
       "      <td>...</td>\n",
       "      <td>0.0</td>\n",
       "      <td>0.0</td>\n",
       "      <td>0.0</td>\n",
       "      <td>0.0</td>\n",
       "      <td>0.0</td>\n",
       "      <td>0.0</td>\n",
       "      <td>0.0</td>\n",
       "      <td>0.0</td>\n",
       "      <td>0.0</td>\n",
       "      <td>0</td>\n",
       "    </tr>\n",
       "    <tr>\n",
       "      <th>2</th>\n",
       "      <td>0.0</td>\n",
       "      <td>0.0</td>\n",
       "      <td>0.0</td>\n",
       "      <td>0.0</td>\n",
       "      <td>0.0</td>\n",
       "      <td>0.0</td>\n",
       "      <td>0.0</td>\n",
       "      <td>0.0</td>\n",
       "      <td>0.0</td>\n",
       "      <td>0.0</td>\n",
       "      <td>...</td>\n",
       "      <td>0.0</td>\n",
       "      <td>0.0</td>\n",
       "      <td>0.0</td>\n",
       "      <td>0.0</td>\n",
       "      <td>0.0</td>\n",
       "      <td>0.0</td>\n",
       "      <td>0.0</td>\n",
       "      <td>0.0</td>\n",
       "      <td>0.0</td>\n",
       "      <td>1</td>\n",
       "    </tr>\n",
       "    <tr>\n",
       "      <th>3</th>\n",
       "      <td>0.0</td>\n",
       "      <td>0.0</td>\n",
       "      <td>0.0</td>\n",
       "      <td>0.0</td>\n",
       "      <td>0.0</td>\n",
       "      <td>0.0</td>\n",
       "      <td>0.0</td>\n",
       "      <td>0.0</td>\n",
       "      <td>0.0</td>\n",
       "      <td>0.0</td>\n",
       "      <td>...</td>\n",
       "      <td>0.0</td>\n",
       "      <td>0.0</td>\n",
       "      <td>0.0</td>\n",
       "      <td>0.0</td>\n",
       "      <td>0.0</td>\n",
       "      <td>0.0</td>\n",
       "      <td>0.0</td>\n",
       "      <td>0.0</td>\n",
       "      <td>0.0</td>\n",
       "      <td>2</td>\n",
       "    </tr>\n",
       "    <tr>\n",
       "      <th>4</th>\n",
       "      <td>0.0</td>\n",
       "      <td>0.0</td>\n",
       "      <td>0.0</td>\n",
       "      <td>0.0</td>\n",
       "      <td>0.0</td>\n",
       "      <td>0.0</td>\n",
       "      <td>0.0</td>\n",
       "      <td>0.0</td>\n",
       "      <td>0.0</td>\n",
       "      <td>0.0</td>\n",
       "      <td>...</td>\n",
       "      <td>0.0</td>\n",
       "      <td>0.0</td>\n",
       "      <td>0.0</td>\n",
       "      <td>0.0</td>\n",
       "      <td>0.0</td>\n",
       "      <td>0.0</td>\n",
       "      <td>0.0</td>\n",
       "      <td>0.0</td>\n",
       "      <td>0.0</td>\n",
       "      <td>2</td>\n",
       "    </tr>\n",
       "    <tr>\n",
       "      <th>...</th>\n",
       "      <td>...</td>\n",
       "      <td>...</td>\n",
       "      <td>...</td>\n",
       "      <td>...</td>\n",
       "      <td>...</td>\n",
       "      <td>...</td>\n",
       "      <td>...</td>\n",
       "      <td>...</td>\n",
       "      <td>...</td>\n",
       "      <td>...</td>\n",
       "      <td>...</td>\n",
       "      <td>...</td>\n",
       "      <td>...</td>\n",
       "      <td>...</td>\n",
       "      <td>...</td>\n",
       "      <td>...</td>\n",
       "      <td>...</td>\n",
       "      <td>...</td>\n",
       "      <td>...</td>\n",
       "      <td>...</td>\n",
       "      <td>...</td>\n",
       "    </tr>\n",
       "    <tr>\n",
       "      <th>994</th>\n",
       "      <td>0.0</td>\n",
       "      <td>0.0</td>\n",
       "      <td>0.0</td>\n",
       "      <td>0.0</td>\n",
       "      <td>0.0</td>\n",
       "      <td>0.0</td>\n",
       "      <td>0.0</td>\n",
       "      <td>0.0</td>\n",
       "      <td>0.0</td>\n",
       "      <td>0.0</td>\n",
       "      <td>...</td>\n",
       "      <td>0.0</td>\n",
       "      <td>0.0</td>\n",
       "      <td>0.0</td>\n",
       "      <td>0.0</td>\n",
       "      <td>0.0</td>\n",
       "      <td>0.0</td>\n",
       "      <td>0.0</td>\n",
       "      <td>0.0</td>\n",
       "      <td>0.0</td>\n",
       "      <td>2</td>\n",
       "    </tr>\n",
       "    <tr>\n",
       "      <th>995</th>\n",
       "      <td>0.0</td>\n",
       "      <td>0.0</td>\n",
       "      <td>0.0</td>\n",
       "      <td>0.0</td>\n",
       "      <td>0.0</td>\n",
       "      <td>0.0</td>\n",
       "      <td>0.0</td>\n",
       "      <td>0.0</td>\n",
       "      <td>0.0</td>\n",
       "      <td>0.0</td>\n",
       "      <td>...</td>\n",
       "      <td>0.0</td>\n",
       "      <td>0.0</td>\n",
       "      <td>0.0</td>\n",
       "      <td>0.0</td>\n",
       "      <td>0.0</td>\n",
       "      <td>0.0</td>\n",
       "      <td>0.0</td>\n",
       "      <td>0.0</td>\n",
       "      <td>0.0</td>\n",
       "      <td>2</td>\n",
       "    </tr>\n",
       "    <tr>\n",
       "      <th>996</th>\n",
       "      <td>0.0</td>\n",
       "      <td>0.0</td>\n",
       "      <td>0.0</td>\n",
       "      <td>0.0</td>\n",
       "      <td>0.0</td>\n",
       "      <td>0.0</td>\n",
       "      <td>0.0</td>\n",
       "      <td>0.0</td>\n",
       "      <td>0.0</td>\n",
       "      <td>0.0</td>\n",
       "      <td>...</td>\n",
       "      <td>0.0</td>\n",
       "      <td>0.0</td>\n",
       "      <td>0.0</td>\n",
       "      <td>0.0</td>\n",
       "      <td>0.0</td>\n",
       "      <td>0.0</td>\n",
       "      <td>0.0</td>\n",
       "      <td>0.0</td>\n",
       "      <td>0.0</td>\n",
       "      <td>2</td>\n",
       "    </tr>\n",
       "    <tr>\n",
       "      <th>997</th>\n",
       "      <td>0.0</td>\n",
       "      <td>0.0</td>\n",
       "      <td>0.0</td>\n",
       "      <td>0.0</td>\n",
       "      <td>0.0</td>\n",
       "      <td>0.0</td>\n",
       "      <td>0.0</td>\n",
       "      <td>0.0</td>\n",
       "      <td>0.0</td>\n",
       "      <td>0.0</td>\n",
       "      <td>...</td>\n",
       "      <td>0.0</td>\n",
       "      <td>0.0</td>\n",
       "      <td>0.0</td>\n",
       "      <td>0.0</td>\n",
       "      <td>0.0</td>\n",
       "      <td>0.0</td>\n",
       "      <td>0.0</td>\n",
       "      <td>0.0</td>\n",
       "      <td>0.0</td>\n",
       "      <td>2</td>\n",
       "    </tr>\n",
       "    <tr>\n",
       "      <th>998</th>\n",
       "      <td>0.0</td>\n",
       "      <td>0.0</td>\n",
       "      <td>0.0</td>\n",
       "      <td>0.0</td>\n",
       "      <td>0.0</td>\n",
       "      <td>0.0</td>\n",
       "      <td>0.0</td>\n",
       "      <td>0.0</td>\n",
       "      <td>0.0</td>\n",
       "      <td>0.0</td>\n",
       "      <td>...</td>\n",
       "      <td>0.0</td>\n",
       "      <td>0.0</td>\n",
       "      <td>0.0</td>\n",
       "      <td>0.0</td>\n",
       "      <td>0.0</td>\n",
       "      <td>0.0</td>\n",
       "      <td>0.0</td>\n",
       "      <td>0.0</td>\n",
       "      <td>0.0</td>\n",
       "      <td>2</td>\n",
       "    </tr>\n",
       "  </tbody>\n",
       "</table>\n",
       "<p>999 rows × 4969 columns</p>\n",
       "</div>"
      ],
      "text/plain": [
       "     ءاللہ  آؤٹ  آؤے   آئ  آئن  آئندہ  آئوٹ  آئی  آئینہ  آئینی  ...  ﻭﺟﮧ  \\\n",
       "0      0.0  0.0  0.0  0.0  0.0    0.0   0.0  0.0    0.0    0.0  ...  0.0   \n",
       "1      0.0  0.0  0.0  0.0  0.0    0.0   0.0  0.0    0.0    0.0  ...  0.0   \n",
       "2      0.0  0.0  0.0  0.0  0.0    0.0   0.0  0.0    0.0    0.0  ...  0.0   \n",
       "3      0.0  0.0  0.0  0.0  0.0    0.0   0.0  0.0    0.0    0.0  ...  0.0   \n",
       "4      0.0  0.0  0.0  0.0  0.0    0.0   0.0  0.0    0.0    0.0  ...  0.0   \n",
       "..     ...  ...  ...  ...  ...    ...   ...  ...    ...    ...  ...  ...   \n",
       "994    0.0  0.0  0.0  0.0  0.0    0.0   0.0  0.0    0.0    0.0  ...  0.0   \n",
       "995    0.0  0.0  0.0  0.0  0.0    0.0   0.0  0.0    0.0    0.0  ...  0.0   \n",
       "996    0.0  0.0  0.0  0.0  0.0    0.0   0.0  0.0    0.0    0.0  ...  0.0   \n",
       "997    0.0  0.0  0.0  0.0  0.0    0.0   0.0  0.0    0.0    0.0  ...  0.0   \n",
       "998    0.0  0.0  0.0  0.0  0.0    0.0   0.0  0.0    0.0    0.0  ...  0.0   \n",
       "\n",
       "     ﻭﺣﺸﺖ  ﻭﺯﺍﺭﺕ  ﻭﻗﺖ  ﻭﻗﻔﮯ   ﻮﭦ  ﻮﮔﻮﮞ  ﻻﮨﻮﺭ  ﻻﺯﻡ  Label  \n",
       "0     0.0    0.0  0.0   0.0  0.0   0.0   0.0  0.0      2  \n",
       "1     0.0    0.0  0.0   0.0  0.0   0.0   0.0  0.0      0  \n",
       "2     0.0    0.0  0.0   0.0  0.0   0.0   0.0  0.0      1  \n",
       "3     0.0    0.0  0.0   0.0  0.0   0.0   0.0  0.0      2  \n",
       "4     0.0    0.0  0.0   0.0  0.0   0.0   0.0  0.0      2  \n",
       "..    ...    ...  ...   ...  ...   ...   ...  ...    ...  \n",
       "994   0.0    0.0  0.0   0.0  0.0   0.0   0.0  0.0      2  \n",
       "995   0.0    0.0  0.0   0.0  0.0   0.0   0.0  0.0      2  \n",
       "996   0.0    0.0  0.0   0.0  0.0   0.0   0.0  0.0      2  \n",
       "997   0.0    0.0  0.0   0.0  0.0   0.0   0.0  0.0      2  \n",
       "998   0.0    0.0  0.0   0.0  0.0   0.0   0.0  0.0      2  \n",
       "\n",
       "[999 rows x 4969 columns]"
      ]
     },
     "execution_count": 20,
     "metadata": {},
     "output_type": "execute_result"
    }
   ],
   "source": [
    "from sklearn.feature_extraction.text import TfidfVectorizer\n",
    "\n",
    "#convert tokenized tweets back to strings\n",
    "data['Tweet'] = data['Tweet'].apply(lambda x: ' '.join(x))\n",
    "\n",
    "#initialize TfidfVectorizer\n",
    "tfidf_vectorizer = TfidfVectorizer()\n",
    "\n",
    "tfidf_matrix = tfidf_vectorizer.fit_transform(data['Tweet'])\n",
    "\n",
    "#convert the TF-IDF matrix into a DataFrame\n",
    "tfidf_df = pd.DataFrame(tfidf_matrix.toarray(), columns=tfidf_vectorizer.get_feature_names_out())\n",
    "\n",
    "tfidf_df['Label'] = data['Class']\n",
    "tfidf_df"
   ]
  },
  {
   "cell_type": "code",
   "execution_count": 21,
   "id": "d553b2a1",
   "metadata": {},
   "outputs": [
    {
     "data": {
      "text/plain": [
       "(999, 4969)"
      ]
     },
     "execution_count": 21,
     "metadata": {},
     "output_type": "execute_result"
    }
   ],
   "source": [
    "tfidf_df.shape"
   ]
  },
  {
   "cell_type": "markdown",
   "id": "22923e2a",
   "metadata": {},
   "source": [
    "# Training Model"
   ]
  },
  {
   "cell_type": "code",
   "execution_count": 22,
   "id": "89f439ed",
   "metadata": {},
   "outputs": [
    {
     "data": {
      "text/html": [
       "<style>#sk-container-id-1 {color: black;}#sk-container-id-1 pre{padding: 0;}#sk-container-id-1 div.sk-toggleable {background-color: white;}#sk-container-id-1 label.sk-toggleable__label {cursor: pointer;display: block;width: 100%;margin-bottom: 0;padding: 0.3em;box-sizing: border-box;text-align: center;}#sk-container-id-1 label.sk-toggleable__label-arrow:before {content: \"▸\";float: left;margin-right: 0.25em;color: #696969;}#sk-container-id-1 label.sk-toggleable__label-arrow:hover:before {color: black;}#sk-container-id-1 div.sk-estimator:hover label.sk-toggleable__label-arrow:before {color: black;}#sk-container-id-1 div.sk-toggleable__content {max-height: 0;max-width: 0;overflow: hidden;text-align: left;background-color: #f0f8ff;}#sk-container-id-1 div.sk-toggleable__content pre {margin: 0.2em;color: black;border-radius: 0.25em;background-color: #f0f8ff;}#sk-container-id-1 input.sk-toggleable__control:checked~div.sk-toggleable__content {max-height: 200px;max-width: 100%;overflow: auto;}#sk-container-id-1 input.sk-toggleable__control:checked~label.sk-toggleable__label-arrow:before {content: \"▾\";}#sk-container-id-1 div.sk-estimator input.sk-toggleable__control:checked~label.sk-toggleable__label {background-color: #d4ebff;}#sk-container-id-1 div.sk-label input.sk-toggleable__control:checked~label.sk-toggleable__label {background-color: #d4ebff;}#sk-container-id-1 input.sk-hidden--visually {border: 0;clip: rect(1px 1px 1px 1px);clip: rect(1px, 1px, 1px, 1px);height: 1px;margin: -1px;overflow: hidden;padding: 0;position: absolute;width: 1px;}#sk-container-id-1 div.sk-estimator {font-family: monospace;background-color: #f0f8ff;border: 1px dotted black;border-radius: 0.25em;box-sizing: border-box;margin-bottom: 0.5em;}#sk-container-id-1 div.sk-estimator:hover {background-color: #d4ebff;}#sk-container-id-1 div.sk-parallel-item::after {content: \"\";width: 100%;border-bottom: 1px solid gray;flex-grow: 1;}#sk-container-id-1 div.sk-label:hover label.sk-toggleable__label {background-color: #d4ebff;}#sk-container-id-1 div.sk-serial::before {content: \"\";position: absolute;border-left: 1px solid gray;box-sizing: border-box;top: 0;bottom: 0;left: 50%;z-index: 0;}#sk-container-id-1 div.sk-serial {display: flex;flex-direction: column;align-items: center;background-color: white;padding-right: 0.2em;padding-left: 0.2em;position: relative;}#sk-container-id-1 div.sk-item {position: relative;z-index: 1;}#sk-container-id-1 div.sk-parallel {display: flex;align-items: stretch;justify-content: center;background-color: white;position: relative;}#sk-container-id-1 div.sk-item::before, #sk-container-id-1 div.sk-parallel-item::before {content: \"\";position: absolute;border-left: 1px solid gray;box-sizing: border-box;top: 0;bottom: 0;left: 50%;z-index: -1;}#sk-container-id-1 div.sk-parallel-item {display: flex;flex-direction: column;z-index: 1;position: relative;background-color: white;}#sk-container-id-1 div.sk-parallel-item:first-child::after {align-self: flex-end;width: 50%;}#sk-container-id-1 div.sk-parallel-item:last-child::after {align-self: flex-start;width: 50%;}#sk-container-id-1 div.sk-parallel-item:only-child::after {width: 0;}#sk-container-id-1 div.sk-dashed-wrapped {border: 1px dashed gray;margin: 0 0.4em 0.5em 0.4em;box-sizing: border-box;padding-bottom: 0.4em;background-color: white;}#sk-container-id-1 div.sk-label label {font-family: monospace;font-weight: bold;display: inline-block;line-height: 1.2em;}#sk-container-id-1 div.sk-label-container {text-align: center;}#sk-container-id-1 div.sk-container {/* jupyter's `normalize.less` sets `[hidden] { display: none; }` but bootstrap.min.css set `[hidden] { display: none !important; }` so we also need the `!important` here to be able to override the default hidden behavior on the sphinx rendered scikit-learn.org. See: https://github.com/scikit-learn/scikit-learn/issues/21755 */display: inline-block !important;position: relative;}#sk-container-id-1 div.sk-text-repr-fallback {display: none;}</style><div id=\"sk-container-id-1\" class=\"sk-top-container\"><div class=\"sk-text-repr-fallback\"><pre>LogisticRegression()</pre><b>In a Jupyter environment, please rerun this cell to show the HTML representation or trust the notebook. <br />On GitHub, the HTML representation is unable to render, please try loading this page with nbviewer.org.</b></div><div class=\"sk-container\" hidden><div class=\"sk-item\"><div class=\"sk-estimator sk-toggleable\"><input class=\"sk-toggleable__control sk-hidden--visually\" id=\"sk-estimator-id-1\" type=\"checkbox\" checked><label for=\"sk-estimator-id-1\" class=\"sk-toggleable__label sk-toggleable__label-arrow\">LogisticRegression</label><div class=\"sk-toggleable__content\"><pre>LogisticRegression()</pre></div></div></div></div></div>"
      ],
      "text/plain": [
       "LogisticRegression()"
      ]
     },
     "execution_count": 22,
     "metadata": {},
     "output_type": "execute_result"
    }
   ],
   "source": [
    "from sklearn.model_selection import train_test_split\n",
    "from sklearn.linear_model import LogisticRegression\n",
    "from sklearn.metrics import accuracy_score\n",
    "\n",
    "X = tfidf_df.iloc[:, :-1]  # Selecting all columns except the last one\n",
    "y = tfidf_df.iloc[:, -1]   # Selecting the last column as the target variable\n",
    "\n",
    "#split the data into training and testing sets\n",
    "X_train, X_test, y_train, y_test = train_test_split(X, y, test_size=0.20, random_state=42)\n",
    "\n",
    "#initialize and train model\n",
    "model = LogisticRegression()\n",
    "model.fit(X_train, y_train)"
   ]
  },
  {
   "cell_type": "code",
   "execution_count": 23,
   "id": "6cbcb762",
   "metadata": {},
   "outputs": [
    {
     "name": "stdout",
     "output_type": "stream",
     "text": [
      "Accuracy: 0.665\n"
     ]
    }
   ],
   "source": [
    "#use the trained model for making predictions on test set\n",
    "y_pred = model.predict(X_test)\n",
    "\n",
    "#check accuracy\n",
    "accuracy = accuracy_score(y_test, y_pred)\n",
    "print(\"Accuracy:\", accuracy)"
   ]
  },
  {
   "cell_type": "markdown",
   "id": "c4697c04",
   "metadata": {},
   "source": [
    "# Evaluation"
   ]
  },
  {
   "cell_type": "code",
   "execution_count": 24,
   "id": "313f3005",
   "metadata": {},
   "outputs": [
    {
     "name": "stdout",
     "output_type": "stream",
     "text": [
      "Confusion Matrix:\n"
     ]
    },
    {
     "data": {
      "image/png": "[encoded data removed]",
      "text/plain": [
       "<Figure size 640x480 with 2 Axes>"
      ]
     },
     "metadata": {},
     "output_type": "display_data"
    }
   ],
   "source": [
    "from sklearn.metrics import confusion_matrix, classification_report, ConfusionMatrixDisplay\n",
    "import matplotlib.pyplot as plt\n",
    "\n",
    "#confusion matrix\n",
    "conf_matrix = confusion_matrix(y_test, y_pred)\n",
    "print(\"Confusion Matrix:\")\n",
    "disp = ConfusionMatrixDisplay(confusion_matrix=conf_matrix)\n",
    "disp.plot()\n",
    "plt.show()"
   ]
  },
  {
   "cell_type": "code",
   "execution_count": 25,
   "id": "ef24047f",
   "metadata": {},
   "outputs": [
    {
     "name": "stdout",
     "output_type": "stream",
     "text": [
      "\n",
      "Classification Report:\n",
      "              precision    recall  f1-score   support\n",
      "\n",
      "           0       0.69      0.67      0.68       103\n",
      "           1       0.00      0.00      0.00         3\n",
      "           2       0.64      0.68      0.66        94\n",
      "\n",
      "    accuracy                           0.67       200\n",
      "   macro avg       0.44      0.45      0.45       200\n",
      "weighted avg       0.66      0.67      0.66       200\n",
      "\n"
     ]
    }
   ],
   "source": [
    "#classification report\n",
    "class_report = classification_report(y_test, y_pred)\n",
    "print(\"\\nClassification Report:\")\n",
    "print(class_report)"
   ]
  },
  {
   "cell_type": "markdown",
   "id": "07593554",
   "metadata": {},
   "source": [
    "# Trying different methods for improving scores"
   ]
  },
  {
   "cell_type": "markdown",
   "id": "4017b1d0",
   "metadata": {},
   "source": [
    "## Dropping the minority class"
   ]
  },
  {
   "cell_type": "code",
   "execution_count": 26,
   "id": "70082d66",
   "metadata": {},
   "outputs": [],
   "source": [
    "data = preprocessed_data.copy()"
   ]
  },
  {
   "cell_type": "code",
   "execution_count": 27,
   "id": "8bba6254",
   "metadata": {},
   "outputs": [],
   "source": [
    "#removing minority class instances\n",
    "\n",
    "data = data[data['Class']!=1]\n",
    "data.reset_index(drop=True, inplace=True) "
   ]
  },
  {
   "cell_type": "markdown",
   "id": "28683a43",
   "metadata": {},
   "source": [
    "## Using different method for numerical representations of text"
   ]
  },
  {
   "cell_type": "code",
   "execution_count": 28,
   "id": "72b0cf69",
   "metadata": {},
   "outputs": [
    {
     "data": {
      "text/html": [
       "<div>\n",
       "<style scoped>\n",
       "    .dataframe tbody tr th:only-of-type {\n",
       "        vertical-align: middle;\n",
       "    }\n",
       "\n",
       "    .dataframe tbody tr th {\n",
       "        vertical-align: top;\n",
       "    }\n",
       "\n",
       "    .dataframe thead th {\n",
       "        text-align: right;\n",
       "    }\n",
       "</style>\n",
       "<table border=\"1\" class=\"dataframe\">\n",
       "  <thead>\n",
       "    <tr style=\"text-align: right;\">\n",
       "      <th></th>\n",
       "      <th>ءاللہ</th>\n",
       "      <th>آؤٹ</th>\n",
       "      <th>آؤے</th>\n",
       "      <th>آئ</th>\n",
       "      <th>آئن</th>\n",
       "      <th>آئندہ</th>\n",
       "      <th>آئوٹ</th>\n",
       "      <th>آئی</th>\n",
       "      <th>آئینہ</th>\n",
       "      <th>آئینی</th>\n",
       "      <th>...</th>\n",
       "      <th>ﻭﺟﮧ</th>\n",
       "      <th>ﻭﺣﺸﺖ</th>\n",
       "      <th>ﻭﺯﺍﺭﺕ</th>\n",
       "      <th>ﻭﻗﺖ</th>\n",
       "      <th>ﻭﻗﻔﮯ</th>\n",
       "      <th>ﻮﭦ</th>\n",
       "      <th>ﻮﮔﻮﮞ</th>\n",
       "      <th>ﻻﮨﻮﺭ</th>\n",
       "      <th>ﻻﺯﻡ</th>\n",
       "      <th>Label</th>\n",
       "    </tr>\n",
       "  </thead>\n",
       "  <tbody>\n",
       "    <tr>\n",
       "      <th>0</th>\n",
       "      <td>0</td>\n",
       "      <td>0</td>\n",
       "      <td>0</td>\n",
       "      <td>0</td>\n",
       "      <td>0</td>\n",
       "      <td>0</td>\n",
       "      <td>0</td>\n",
       "      <td>0</td>\n",
       "      <td>0</td>\n",
       "      <td>0</td>\n",
       "      <td>...</td>\n",
       "      <td>0</td>\n",
       "      <td>0</td>\n",
       "      <td>0</td>\n",
       "      <td>0</td>\n",
       "      <td>0</td>\n",
       "      <td>0</td>\n",
       "      <td>0</td>\n",
       "      <td>0</td>\n",
       "      <td>0</td>\n",
       "      <td>2</td>\n",
       "    </tr>\n",
       "    <tr>\n",
       "      <th>1</th>\n",
       "      <td>0</td>\n",
       "      <td>0</td>\n",
       "      <td>0</td>\n",
       "      <td>0</td>\n",
       "      <td>0</td>\n",
       "      <td>0</td>\n",
       "      <td>0</td>\n",
       "      <td>0</td>\n",
       "      <td>0</td>\n",
       "      <td>0</td>\n",
       "      <td>...</td>\n",
       "      <td>0</td>\n",
       "      <td>0</td>\n",
       "      <td>0</td>\n",
       "      <td>0</td>\n",
       "      <td>0</td>\n",
       "      <td>0</td>\n",
       "      <td>0</td>\n",
       "      <td>0</td>\n",
       "      <td>0</td>\n",
       "      <td>0</td>\n",
       "    </tr>\n",
       "    <tr>\n",
       "      <th>2</th>\n",
       "      <td>0</td>\n",
       "      <td>0</td>\n",
       "      <td>0</td>\n",
       "      <td>0</td>\n",
       "      <td>0</td>\n",
       "      <td>0</td>\n",
       "      <td>0</td>\n",
       "      <td>0</td>\n",
       "      <td>0</td>\n",
       "      <td>0</td>\n",
       "      <td>...</td>\n",
       "      <td>0</td>\n",
       "      <td>0</td>\n",
       "      <td>0</td>\n",
       "      <td>0</td>\n",
       "      <td>0</td>\n",
       "      <td>0</td>\n",
       "      <td>0</td>\n",
       "      <td>0</td>\n",
       "      <td>0</td>\n",
       "      <td>2</td>\n",
       "    </tr>\n",
       "    <tr>\n",
       "      <th>3</th>\n",
       "      <td>0</td>\n",
       "      <td>0</td>\n",
       "      <td>0</td>\n",
       "      <td>0</td>\n",
       "      <td>0</td>\n",
       "      <td>0</td>\n",
       "      <td>0</td>\n",
       "      <td>0</td>\n",
       "      <td>0</td>\n",
       "      <td>0</td>\n",
       "      <td>...</td>\n",
       "      <td>0</td>\n",
       "      <td>0</td>\n",
       "      <td>0</td>\n",
       "      <td>0</td>\n",
       "      <td>0</td>\n",
       "      <td>0</td>\n",
       "      <td>0</td>\n",
       "      <td>0</td>\n",
       "      <td>0</td>\n",
       "      <td>2</td>\n",
       "    </tr>\n",
       "    <tr>\n",
       "      <th>4</th>\n",
       "      <td>0</td>\n",
       "      <td>0</td>\n",
       "      <td>0</td>\n",
       "      <td>0</td>\n",
       "      <td>0</td>\n",
       "      <td>0</td>\n",
       "      <td>0</td>\n",
       "      <td>0</td>\n",
       "      <td>0</td>\n",
       "      <td>0</td>\n",
       "      <td>...</td>\n",
       "      <td>0</td>\n",
       "      <td>0</td>\n",
       "      <td>0</td>\n",
       "      <td>0</td>\n",
       "      <td>0</td>\n",
       "      <td>0</td>\n",
       "      <td>0</td>\n",
       "      <td>0</td>\n",
       "      <td>0</td>\n",
       "      <td>0</td>\n",
       "    </tr>\n",
       "    <tr>\n",
       "      <th>...</th>\n",
       "      <td>...</td>\n",
       "      <td>...</td>\n",
       "      <td>...</td>\n",
       "      <td>...</td>\n",
       "      <td>...</td>\n",
       "      <td>...</td>\n",
       "      <td>...</td>\n",
       "      <td>...</td>\n",
       "      <td>...</td>\n",
       "      <td>...</td>\n",
       "      <td>...</td>\n",
       "      <td>...</td>\n",
       "      <td>...</td>\n",
       "      <td>...</td>\n",
       "      <td>...</td>\n",
       "      <td>...</td>\n",
       "      <td>...</td>\n",
       "      <td>...</td>\n",
       "      <td>...</td>\n",
       "      <td>...</td>\n",
       "      <td>...</td>\n",
       "    </tr>\n",
       "    <tr>\n",
       "      <th>974</th>\n",
       "      <td>0</td>\n",
       "      <td>0</td>\n",
       "      <td>0</td>\n",
       "      <td>0</td>\n",
       "      <td>0</td>\n",
       "      <td>0</td>\n",
       "      <td>0</td>\n",
       "      <td>0</td>\n",
       "      <td>0</td>\n",
       "      <td>0</td>\n",
       "      <td>...</td>\n",
       "      <td>0</td>\n",
       "      <td>0</td>\n",
       "      <td>0</td>\n",
       "      <td>0</td>\n",
       "      <td>0</td>\n",
       "      <td>0</td>\n",
       "      <td>0</td>\n",
       "      <td>0</td>\n",
       "      <td>0</td>\n",
       "      <td>2</td>\n",
       "    </tr>\n",
       "    <tr>\n",
       "      <th>975</th>\n",
       "      <td>0</td>\n",
       "      <td>0</td>\n",
       "      <td>0</td>\n",
       "      <td>0</td>\n",
       "      <td>0</td>\n",
       "      <td>0</td>\n",
       "      <td>0</td>\n",
       "      <td>0</td>\n",
       "      <td>0</td>\n",
       "      <td>0</td>\n",
       "      <td>...</td>\n",
       "      <td>0</td>\n",
       "      <td>0</td>\n",
       "      <td>0</td>\n",
       "      <td>0</td>\n",
       "      <td>0</td>\n",
       "      <td>0</td>\n",
       "      <td>0</td>\n",
       "      <td>0</td>\n",
       "      <td>0</td>\n",
       "      <td>2</td>\n",
       "    </tr>\n",
       "    <tr>\n",
       "      <th>976</th>\n",
       "      <td>0</td>\n",
       "      <td>0</td>\n",
       "      <td>0</td>\n",
       "      <td>0</td>\n",
       "      <td>0</td>\n",
       "      <td>0</td>\n",
       "      <td>0</td>\n",
       "      <td>0</td>\n",
       "      <td>0</td>\n",
       "      <td>0</td>\n",
       "      <td>...</td>\n",
       "      <td>0</td>\n",
       "      <td>0</td>\n",
       "      <td>0</td>\n",
       "      <td>0</td>\n",
       "      <td>0</td>\n",
       "      <td>0</td>\n",
       "      <td>0</td>\n",
       "      <td>0</td>\n",
       "      <td>0</td>\n",
       "      <td>2</td>\n",
       "    </tr>\n",
       "    <tr>\n",
       "      <th>977</th>\n",
       "      <td>0</td>\n",
       "      <td>0</td>\n",
       "      <td>0</td>\n",
       "      <td>0</td>\n",
       "      <td>0</td>\n",
       "      <td>0</td>\n",
       "      <td>0</td>\n",
       "      <td>0</td>\n",
       "      <td>0</td>\n",
       "      <td>0</td>\n",
       "      <td>...</td>\n",
       "      <td>0</td>\n",
       "      <td>0</td>\n",
       "      <td>0</td>\n",
       "      <td>0</td>\n",
       "      <td>0</td>\n",
       "      <td>0</td>\n",
       "      <td>0</td>\n",
       "      <td>0</td>\n",
       "      <td>0</td>\n",
       "      <td>2</td>\n",
       "    </tr>\n",
       "    <tr>\n",
       "      <th>978</th>\n",
       "      <td>0</td>\n",
       "      <td>0</td>\n",
       "      <td>0</td>\n",
       "      <td>0</td>\n",
       "      <td>0</td>\n",
       "      <td>0</td>\n",
       "      <td>0</td>\n",
       "      <td>0</td>\n",
       "      <td>0</td>\n",
       "      <td>0</td>\n",
       "      <td>...</td>\n",
       "      <td>0</td>\n",
       "      <td>0</td>\n",
       "      <td>0</td>\n",
       "      <td>0</td>\n",
       "      <td>0</td>\n",
       "      <td>0</td>\n",
       "      <td>0</td>\n",
       "      <td>0</td>\n",
       "      <td>0</td>\n",
       "      <td>2</td>\n",
       "    </tr>\n",
       "  </tbody>\n",
       "</table>\n",
       "<p>979 rows × 4923 columns</p>\n",
       "</div>"
      ],
      "text/plain": [
       "     ءاللہ  آؤٹ  آؤے  آئ  آئن  آئندہ  آئوٹ  آئی  آئینہ  آئینی  ...  ﻭﺟﮧ  ﻭﺣﺸﺖ  \\\n",
       "0        0    0    0   0    0      0     0    0      0      0  ...    0     0   \n",
       "1        0    0    0   0    0      0     0    0      0      0  ...    0     0   \n",
       "2        0    0    0   0    0      0     0    0      0      0  ...    0     0   \n",
       "3        0    0    0   0    0      0     0    0      0      0  ...    0     0   \n",
       "4        0    0    0   0    0      0     0    0      0      0  ...    0     0   \n",
       "..     ...  ...  ...  ..  ...    ...   ...  ...    ...    ...  ...  ...   ...   \n",
       "974      0    0    0   0    0      0     0    0      0      0  ...    0     0   \n",
       "975      0    0    0   0    0      0     0    0      0      0  ...    0     0   \n",
       "976      0    0    0   0    0      0     0    0      0      0  ...    0     0   \n",
       "977      0    0    0   0    0      0     0    0      0      0  ...    0     0   \n",
       "978      0    0    0   0    0      0     0    0      0      0  ...    0     0   \n",
       "\n",
       "     ﻭﺯﺍﺭﺕ  ﻭﻗﺖ  ﻭﻗﻔﮯ  ﻮﭦ  ﻮﮔﻮﮞ  ﻻﮨﻮﺭ  ﻻﺯﻡ  Label  \n",
       "0        0    0     0   0     0     0    0      2  \n",
       "1        0    0     0   0     0     0    0      0  \n",
       "2        0    0     0   0     0     0    0      2  \n",
       "3        0    0     0   0     0     0    0      2  \n",
       "4        0    0     0   0     0     0    0      0  \n",
       "..     ...  ...   ...  ..   ...   ...  ...    ...  \n",
       "974      0    0     0   0     0     0    0      2  \n",
       "975      0    0     0   0     0     0    0      2  \n",
       "976      0    0     0   0     0     0    0      2  \n",
       "977      0    0     0   0     0     0    0      2  \n",
       "978      0    0     0   0     0     0    0      2  \n",
       "\n",
       "[979 rows x 4923 columns]"
      ]
     },
     "execution_count": 28,
     "metadata": {},
     "output_type": "execute_result"
    }
   ],
   "source": [
    "from sklearn.feature_extraction.text import CountVectorizer\n",
    "\n",
    "#convert the list of tokens into space-separated strings for CountVectorizer\n",
    "corpus = [' '.join(tokens) for tokens in data['Tweet']]\n",
    "\n",
    "vectorizer = CountVectorizer()\n",
    "vectorizer.fit(corpus)\n",
    "\n",
    "bow_matrix = vectorizer.transform(corpus)\n",
    "\n",
    "#convert the BoW matrix to dataframe\n",
    "bow_df = pd.DataFrame(bow_matrix.toarray(), columns=vectorizer.get_feature_names_out())\n",
    "\n",
    "#join the target column with bow_df\n",
    "bow_df['Label'] = data['Class']\n",
    "\n",
    "bow_df"
   ]
  },
  {
   "cell_type": "markdown",
   "id": "dd786710",
   "metadata": {},
   "source": [
    "## Retrain the model again and see if there's any improvement"
   ]
  },
  {
   "cell_type": "code",
   "execution_count": 29,
   "id": "7bcc1750",
   "metadata": {},
   "outputs": [
    {
     "data": {
      "text/html": [
       "<style>#sk-container-id-2 {color: black;}#sk-container-id-2 pre{padding: 0;}#sk-container-id-2 div.sk-toggleable {background-color: white;}#sk-container-id-2 label.sk-toggleable__label {cursor: pointer;display: block;width: 100%;margin-bottom: 0;padding: 0.3em;box-sizing: border-box;text-align: center;}#sk-container-id-2 label.sk-toggleable__label-arrow:before {content: \"▸\";float: left;margin-right: 0.25em;color: #696969;}#sk-container-id-2 label.sk-toggleable__label-arrow:hover:before {color: black;}#sk-container-id-2 div.sk-estimator:hover label.sk-toggleable__label-arrow:before {color: black;}#sk-container-id-2 div.sk-toggleable__content {max-height: 0;max-width: 0;overflow: hidden;text-align: left;background-color: #f0f8ff;}#sk-container-id-2 div.sk-toggleable__content pre {margin: 0.2em;color: black;border-radius: 0.25em;background-color: #f0f8ff;}#sk-container-id-2 input.sk-toggleable__control:checked~div.sk-toggleable__content {max-height: 200px;max-width: 100%;overflow: auto;}#sk-container-id-2 input.sk-toggleable__control:checked~label.sk-toggleable__label-arrow:before {content: \"▾\";}#sk-container-id-2 div.sk-estimator input.sk-toggleable__control:checked~label.sk-toggleable__label {background-color: #d4ebff;}#sk-container-id-2 div.sk-label input.sk-toggleable__control:checked~label.sk-toggleable__label {background-color: #d4ebff;}#sk-container-id-2 input.sk-hidden--visually {border: 0;clip: rect(1px 1px 1px 1px);clip: rect(1px, 1px, 1px, 1px);height: 1px;margin: -1px;overflow: hidden;padding: 0;position: absolute;width: 1px;}#sk-container-id-2 div.sk-estimator {font-family: monospace;background-color: #f0f8ff;border: 1px dotted black;border-radius: 0.25em;box-sizing: border-box;margin-bottom: 0.5em;}#sk-container-id-2 div.sk-estimator:hover {background-color: #d4ebff;}#sk-container-id-2 div.sk-parallel-item::after {content: \"\";width: 100%;border-bottom: 1px solid gray;flex-grow: 1;}#sk-container-id-2 div.sk-label:hover label.sk-toggleable__label {background-color: #d4ebff;}#sk-container-id-2 div.sk-serial::before {content: \"\";position: absolute;border-left: 1px solid gray;box-sizing: border-box;top: 0;bottom: 0;left: 50%;z-index: 0;}#sk-container-id-2 div.sk-serial {display: flex;flex-direction: column;align-items: center;background-color: white;padding-right: 0.2em;padding-left: 0.2em;position: relative;}#sk-container-id-2 div.sk-item {position: relative;z-index: 1;}#sk-container-id-2 div.sk-parallel {display: flex;align-items: stretch;justify-content: center;background-color: white;position: relative;}#sk-container-id-2 div.sk-item::before, #sk-container-id-2 div.sk-parallel-item::before {content: \"\";position: absolute;border-left: 1px solid gray;box-sizing: border-box;top: 0;bottom: 0;left: 50%;z-index: -1;}#sk-container-id-2 div.sk-parallel-item {display: flex;flex-direction: column;z-index: 1;position: relative;background-color: white;}#sk-container-id-2 div.sk-parallel-item:first-child::after {align-self: flex-end;width: 50%;}#sk-container-id-2 div.sk-parallel-item:last-child::after {align-self: flex-start;width: 50%;}#sk-container-id-2 div.sk-parallel-item:only-child::after {width: 0;}#sk-container-id-2 div.sk-dashed-wrapped {border: 1px dashed gray;margin: 0 0.4em 0.5em 0.4em;box-sizing: border-box;padding-bottom: 0.4em;background-color: white;}#sk-container-id-2 div.sk-label label {font-family: monospace;font-weight: bold;display: inline-block;line-height: 1.2em;}#sk-container-id-2 div.sk-label-container {text-align: center;}#sk-container-id-2 div.sk-container {/* jupyter's `normalize.less` sets `[hidden] { display: none; }` but bootstrap.min.css set `[hidden] { display: none !important; }` so we also need the `!important` here to be able to override the default hidden behavior on the sphinx rendered scikit-learn.org. See: https://github.com/scikit-learn/scikit-learn/issues/21755 */display: inline-block !important;position: relative;}#sk-container-id-2 div.sk-text-repr-fallback {display: none;}</style><div id=\"sk-container-id-2\" class=\"sk-top-container\"><div class=\"sk-text-repr-fallback\"><pre>LogisticRegression()</pre><b>In a Jupyter environment, please rerun this cell to show the HTML representation or trust the notebook. <br />On GitHub, the HTML representation is unable to render, please try loading this page with nbviewer.org.</b></div><div class=\"sk-container\" hidden><div class=\"sk-item\"><div class=\"sk-estimator sk-toggleable\"><input class=\"sk-toggleable__control sk-hidden--visually\" id=\"sk-estimator-id-2\" type=\"checkbox\" checked><label for=\"sk-estimator-id-2\" class=\"sk-toggleable__label sk-toggleable__label-arrow\">LogisticRegression</label><div class=\"sk-toggleable__content\"><pre>LogisticRegression()</pre></div></div></div></div></div>"
      ],
      "text/plain": [
       "LogisticRegression()"
      ]
     },
     "execution_count": 29,
     "metadata": {},
     "output_type": "execute_result"
    }
   ],
   "source": [
    "X = bow_df.iloc[:, :-1]  #selecting all columns except the last one\n",
    "y = bow_df.iloc[:, -1]   #selecting the last column as the target variable\n",
    "\n",
    "#split the data into training and testing sets\n",
    "X_train, X_test, y_train, y_test = train_test_split(X, y, test_size=0.20, random_state=42)\n",
    "\n",
    "#initialize and train model\n",
    "model = LogisticRegression()\n",
    "model.fit(X_train, y_train)"
   ]
  },
  {
   "cell_type": "code",
   "execution_count": 30,
   "id": "628a0e03",
   "metadata": {},
   "outputs": [
    {
     "name": "stdout",
     "output_type": "stream",
     "text": [
      "Accuracy: 0.5969387755102041\n"
     ]
    }
   ],
   "source": [
    "#use the trained model for making predictions on test set\n",
    "y_pred = model.predict(X_test)\n",
    "\n",
    "#check accuracy\n",
    "accuracy = accuracy_score(y_test, y_pred)\n",
    "print(\"Accuracy:\", accuracy)"
   ]
  },
  {
   "cell_type": "code",
   "execution_count": 31,
   "id": "3c72b4b3",
   "metadata": {},
   "outputs": [
    {
     "name": "stdout",
     "output_type": "stream",
     "text": [
      "Confusion Matrix:\n"
     ]
    },
    {
     "data": {
      "image/png": "[encoded data removed]",
      "text/plain": [
       "<Figure size 640x480 with 2 Axes>"
      ]
     },
     "metadata": {},
     "output_type": "display_data"
    }
   ],
   "source": [
    "#confusion matrix\n",
    "conf_matrix = confusion_matrix(y_test, y_pred)\n",
    "print(\"Confusion Matrix:\")\n",
    "disp = ConfusionMatrixDisplay(confusion_matrix=conf_matrix)\n",
    "disp.plot()\n",
    "plt.show()"
   ]
  },
  {
   "cell_type": "code",
   "execution_count": null,
   "id": "0e90447f",
   "metadata": {},
   "outputs": [],
   "source": []
  }
 ],
 "metadata": {
  "kernelspec": {
   "display_name": "Python 3 (ipykernel)",
   "language": "python",
   "name": "python3"
  },
  "language_info": {
   "codemirror_mode": {
    "name": "ipython",
    "version": 3
   },
   "file_extension": ".py",
   "mimetype": "text/x-python",
   "name": "python",
   "nbconvert_exporter": "python",
   "pygments_lexer": "ipython3",
   "version": "3.11.5"
  }
 },
 "nbformat": 4,
 "nbformat_minor": 5
}
