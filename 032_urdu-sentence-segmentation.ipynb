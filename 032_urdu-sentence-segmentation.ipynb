{
 "cells": [
  {
   "cell_type": "markdown",
   "id": "25cc3212",
   "metadata": {},
   "source": [
    "<center> <b>NLP- Assignment 1</b> </center>\n",
    "<center> <b> Owais Tahir (MS-DS) - 238004 </b> </center>"
   ]
  },
  {
   "cell_type": "markdown",
   "id": "b5ad7951",
   "metadata": {},
   "source": [
    "## Read sample text"
   ]
  },
  {
   "cell_type": "code",
   "execution_count": 1,
   "id": "48fe612d",
   "metadata": {},
   "outputs": [
    {
     "name": "stdout",
     "output_type": "stream",
     "text": [
      "عقل خان کے مطابق اس خوبصورت چراگاہ کو کنڈیل شئی بانال کہا جاتا ہے کنڈیل شئی بانال کے اس خوبصورت میدان کو اگر سویٹزرلینڈ کے کسی ہرے بھرے میدانی علاقے سے تشبیہہ دی جائے تو کچھ غلط نہیں ہوگا میدان میں داخل ہوتے ہی کچھ دیر آرام کرنے کی میری خواہش پر سب نے لبیک کہا ایسا لگا جیسے ان کی دل کی بات میرے لبوں سے ادا ہوئی ہو۔\n"
     ]
    }
   ],
   "source": [
    "import csv\n",
    "\n",
    "with open('sent-test.txt', 'rt', encoding=\"utf-8\") as f:\n",
    "    reader = csv.reader(f)\n",
    "    passage = list(reader)\n",
    "f.close()\n",
    "text = passage[0][0]\n",
    "print(text)"
   ]
  },
  {
   "cell_type": "markdown",
   "id": "400fdc08",
   "metadata": {},
   "source": [
    "## Word Segmentation / Tokenization"
   ]
  },
  {
   "cell_type": "code",
   "execution_count": 2,
   "id": "b75d96cf",
   "metadata": {},
   "outputs": [],
   "source": [
    "import re\n",
    "\n",
    "def word_segments(sentence):\n",
    "    pattern = r'\\b\\w+\\b'\n",
    "    words = re.findall(pattern, sentence)\n",
    "\n",
    "    return words"
   ]
  },
  {
   "cell_type": "code",
   "execution_count": 3,
   "id": "ef51f4fa",
   "metadata": {},
   "outputs": [
    {
     "name": "stdout",
     "output_type": "stream",
     "text": [
      "['عقل', 'خان', 'کے', 'مطابق', 'اس', 'خوبصورت', 'چراگاہ', 'کو', 'کنڈیل', 'شئی', 'بانال', 'کہا', 'جاتا', 'ہے', 'کنڈیل', 'شئی', 'بانال', 'کے', 'اس', 'خوبصورت', 'میدان', 'کو', 'اگر', 'سویٹزرلینڈ', 'کے', 'کسی', 'ہرے', 'بھرے', 'میدانی', 'علاقے', 'سے', 'تشبیہہ', 'دی', 'جائے', 'تو', 'کچھ', 'غلط', 'نہیں', 'ہوگا', 'میدان', 'میں', 'داخل', 'ہوتے', 'ہی', 'کچھ', 'دیر', 'ا', 'رام', 'کرنے', 'کی', 'میری', 'خواہش', 'پر', 'سب', 'نے', 'لبیک', 'کہا', 'ایسا', 'لگا', 'جیسے', 'ان', 'کی', 'دل', 'کی', 'بات', 'میرے', 'لبوں', 'سے', 'ادا', 'ہوئی', 'ہو']\n"
     ]
    }
   ],
   "source": [
    "segmented_words = word_segments(text)\n",
    "print(segmented_words)"
   ]
  },
  {
   "cell_type": "markdown",
   "id": "014365ad",
   "metadata": {},
   "source": [
    "## Sentence Segmentation\n",
    "- In order to perform sentence segmentation it is important to identify the endwords of sentences from plain text.\n",
    "- The fact that there are no '-' (وقف لازم) to indicate the end of sentence in the given text, it is up to us to identify the end-sentence pattern.\n",
    "- This can be very challenging but one of the ways to do that is to take \"common endwords\" and \"common connecting words\" and check whether a word from the given text matches any \"common endword\" and is not followed by any \"common connecting word\" and determine that word as the endword of a sentence. <br> <br>\n",
    "The below implementation is based on the same concept."
   ]
  },
  {
   "cell_type": "code",
   "execution_count": 4,
   "id": "6ac0031e",
   "metadata": {},
   "outputs": [],
   "source": [
    "endwords = ['تھے', 'ہے', 'تھے', 'تھی', 'گا', 'تھیں', 'تھا', 'گے', 'گی', 'ہیں']\n",
    "connecting_words = [\"اور\",\"لیکن\",\"مگر\",\"اگر\",\"تاہم\",\"بلکہ\",\"چونکہ\",\"یا\",\"پر\", \"یعنی\",\"کہ\"]\n",
    "ignore_words = ['\\t', '\\n']\n",
    "\n",
    "def sent_segments(text):\n",
    "    urdu_word_pattern = r'\\b\\w+\\b'\n",
    "    words = re.findall(urdu_word_pattern, text)\n",
    "\n",
    "    segments = []\n",
    "    current_segment = []\n",
    "\n",
    "    for current_word_index, word in enumerate(words):\n",
    "        if word in ignore_words:\n",
    "            current_segment.append('')\n",
    "        else:\n",
    "            current_segment.append(word)\n",
    "\n",
    "            #check if the current word is in endwords and the next word is not in connecting_words\n",
    "            if word in endwords and (words[current_word_index+ 1] not in connecting_words):\n",
    "                segments.append(' '.join(current_segment) + \"-\")\n",
    "                current_segment = []\n",
    "\n",
    "    if current_segment:\n",
    "        segments.append(' '.join(current_segment) + \"-\") #add '-' to the end of each sentence\n",
    "\n",
    "    return segments"
   ]
  },
  {
   "cell_type": "code",
   "execution_count": 5,
   "id": "e5c4eb96",
   "metadata": {},
   "outputs": [],
   "source": [
    "def display_sentences(sentences):\n",
    "    for sentence in sentences:\n",
    "        print(sentence, end=' ')"
   ]
  },
  {
   "cell_type": "code",
   "execution_count": 6,
   "id": "254116c8",
   "metadata": {},
   "outputs": [
    {
     "name": "stdout",
     "output_type": "stream",
     "text": [
      "عقل خان کے مطابق اس خوبصورت چراگاہ کو کنڈیل شئی بانال کہا جاتا ہے- کنڈیل شئی بانال کے اس خوبصورت میدان کو اگر سویٹزرلینڈ کے کسی ہرے بھرے میدانی علاقے سے تشبیہہ دی جائے تو کچھ غلط نہیں ہوگا میدان میں داخل ہوتے ہی کچھ دیر ا رام کرنے کی میری خواہش پر سب نے لبیک کہا ایسا لگا جیسے ان کی دل کی بات میرے لبوں سے ادا ہوئی ہو- "
     ]
    }
   ],
   "source": [
    "result = sent_segments(text)\n",
    "display_sentences(result)"
   ]
  },
  {
   "cell_type": "markdown",
   "id": "f8bd2831",
   "metadata": {},
   "source": [
    "## Testing sentence segmentation on longer text"
   ]
  },
  {
   "cell_type": "code",
   "execution_count": 7,
   "id": "41527b12",
   "metadata": {},
   "outputs": [],
   "source": [
    "with open('urdu-corpus.txt', 'rt', encoding=\"utf-8\") as f:\n",
    "    reader = csv.reader(f)\n",
    "    passage = list(reader)\n",
    "f.close()\n",
    "text = passage[0][0]"
   ]
  },
  {
   "cell_type": "code",
   "execution_count": 8,
   "id": "b2059d3d",
   "metadata": {},
   "outputs": [
    {
     "name": "stdout",
     "output_type": "stream",
     "text": [
      "گزشتہ کئی سالوں سے مختلف بحران آتے جاتے رہے لیکن حالیہ آٹا چینی سمیت دیگر بحران اچانک پید ا ہوئے اور ان پر جے آئی ٹی تشکیل دے دیں گئیں تاکہ عوام کو ریلیف دیا جاسکے دوسری جانب بجلی گیس پانی سمیت دیگر بلوں میں کئی سو گنا اضافہ کردیا گیا صوبائی و وفاقی وزراء نے اپنے اپنے ایوانوں بحران کے ذمہ دار عناصر کو بے نقاب کرنے کے بجائے سب اچھاہے کی رپورٹ پیش کیں ساتھ ہی اورنگزیب کی طرح جواب دیا حقائق کی قبر ذرا گہری کھودنا تاریخی گواہ ہے- بقول ماہرین مبصرین اور صحافیوں کا کہنا اور لکھنا ہے کہ پگڑی بدل بھائی کی رسم کی آڑ میں نادر شاہ نے محمد شاہ رنگیلا سے کوہ نور ہیرا حاصل کیا تھا- 12 مئی 1739 کی شام دہلی میں زبردست چہل پہل شاہجہان آباد میں چراغاں اور لال قلعے میں جشن کا سماں ہے- غریبوں میں شربت پان اور کھانا تقسیم کیا جا رہا ہے- فقیروں گداؤں کو جھولی بھر بھر کر روپے عطا ہو رہے ہیں- آج دربار میں ایرانی بادشاہ نادر شاہ کے سامنے مغلیہ سلطنت کے 13ویں تاجدار محمد شاہ بیٹھے ہیں لیکن اس وقت ان کے سر پر شاہی تاج نہیں ہے- کیوں نادر شاہ نے ڈھائی ماہ قبل ان سے سلطنت چھین لی تھی- 56 دن دہلی میں رہنے کے بعد اب نادر شاہ کے واپس ایران لوٹنے کا وقت آ گیا ہے اور وہ ہندوستان کی باگ ڈور دوبارہ سے محمد شاہ کے حوالے کرنا چاہتا ہے- نادر شاہ نے صدیوں سے جمع کردہ مغل خزانے میں جھاڑو پھیر دی ہے اور شہر کے تمام امرا و روسا کی جیبیں الٹا لی ہیں لیکن اسے دہلی کی ایک طوائف نور بائی نے جس کا ذکر آگے چل کر آئے گا- خفیہ طور پر بتا دیا ہے کہ یہ سب کچھ جو تم نے حاصل کیا ہے- وہ ایسی چیز کے آگے ہیچ ہے- جسے محمد شاہ نے اپنی پگڑی میں چھپا رکھا ہے- نادر شاہ گھاگ سیاستدان اور گھاٹ گھاٹ کا پانی پیے ہوئے تھا- اس موقعے پر وہ چال چلی جسے نہلے پہ دہلا کہا جاتا ہے- اس نے محمد شاہ سے کہا ایران میں رسم چلی آتی ہے کہ بھائی خوشی کے موقعے پر آپس میں پگڑیاں بدل دیتے ہیں- آج سے ہم بھائی بھائی بن گئے ہیں- تو کیوں نہ اسی رسم کا اعادہ کیا جائے محمد شاہ کے پاس سر جھکانے کے علاوہ کوئی چارہ نہیں تھا- نادر شاہ نے اپنی پگڑی اتار کر اس کے سر رکھی اور اس کی پگڑی اپنے سر اور یوں دنیا کا مشہور ترین ہیرا کوہ نور ہندوستان سے نکل کر ایران پہنچ گیا رنگیلا بادشاہ اس ہیرے کے مالک محمد شاہ اپنے پڑدادا اورنگزیب عالمگیر کے دور حکومت میں 1702 میں پیدا ہوئے تھے- ان کا پیدائشی نام تو روشن اختر تھا تاہم 29 ستمبر 1719 کو بادشاہ گر سید برادران نے انھیں صرف 17 برس کی عمر میں سلطنت تیموریہ کے تخت پر بٹھانے کے بعد ابوالفتح نصیر الدین روشن اختر محمد شاہ کا خطاب دیا خود ان کا تخلص سدا رنگیلا تھا- اتنا لمبا نام کون یاد رکھتا چنانچہ عوام نے دونوں کو ملا کر محمد شاہ رنگیلا کر دیا اور وہ آج تک ہندوستان کے طول و عرض میں اسی نام سے جانے اور مانے جاتے ہیں- اورنگزیب عالمگیر نے ہندوستان میں ایک خاص قسم کا کٹر اسلام نافذ کر رکھا تھا- محمد شاہ کی پیدائش کے وقت اورنگزیب عالمگیر نے ہندوستان میں ایک خاص قسم کا کٹر اسلام نافذ کر رکھا تھا- اس کا سب سے پہلا نشانہ وہ فنون لطیفہ بنے جن کے بارے میں تصور تھا کہ وہ اسلامی اصولوں سے مطابقت نہیں رکھتے اس کی ایک دلچسپ مثال اطالوی سیاح نکولو منوچی نے لکھی ہے- وہ کہتے ہیں کہ اورنگزیبی دور میں جب موسیقی پر پابندی لگی تو گویوں اور موسیقاروں کی روٹی روزی بند ہو گئی آخر تنگ آ کر ایک ہزار فنکاروں نے جمعے کے دن دہلی کی جامع مسجد سے ایک جلوس نکالا اور آلات موسیقی کو جنازوں کی شکل میں لے کر روتے پیٹتے گزرنے لگے اورنگزیب نے دیکھا تو حیرت زدہ ہو کر پچھوایا یہ کس کا جنازہ لیے جا رہے ہو جس کی خاطر اس قدر آہ و بکا کیا جا رہا ہے- انھوں نے کہا آپ نے موسیقی قتل کر دی ہے- اسے دفنانے جا رہے ہیں- اورنگزیب نے جواب دیا قبر ذرا گہری کھودنا طبیعیات کا اصول ہے کہ ہر عمل کا رد عمل ہوتا ہے- یہی اصول تاریخ اور انسانی معاشرت پر بھی لاگو ہوتا ہے کہ جس چیز کو جتنی سختی سے دبایا جائے وہ اتنی ہی قوت سے ابھر کر سامنے آتی ہے- چنانچہ اورنگزیب کے بعد بھی یہی کچھ ہوا اور محمد شاہ کے دور میں وہ تمام فنون پوری آب و تاب سے سامنے آ گئے جو اس سے پہلے دب گئے تھے- سب اچھاہے حقائق کی قبر ذرا گہری کھودنا- "
     ]
    }
   ],
   "source": [
    "result = sent_segments(text)\n",
    "display_sentences(result)"
   ]
  },
  {
   "cell_type": "markdown",
   "id": "365e11be",
   "metadata": {},
   "source": [
    "## Problems:\n",
    "The sentences look ok but there's still one more thing to take care of: <br> <b> Finding interrogative sentences </b> and putting '?' at the end of these sentences instead of '-'.\n",
    "    <br> <br>\n",
    "The following are a couple of interrogative sentences in the give text: <br>\n",
    "    - کیوں نادر شاہ نے ڈھائی ماہ قبل ان سے سلطنت چھین لی تھی<br>\n",
    "    \n",
    "<br> <br>\n",
    "The following function deals with these kinds of interrogative sentences"
   ]
  },
  {
   "cell_type": "code",
   "execution_count": 9,
   "id": "8848f7f6",
   "metadata": {},
   "outputs": [],
   "source": [
    "endwords = ['تھے', 'ہے', 'تھے', 'تھی', 'گا', 'تھیں', 'تھا', 'گے', 'گی', 'ہیں']\n",
    "connecting_words = [\"اور\", \"لیکن\", \"مگر\", \"اگر\", \"تاہم\", \"بلکہ\", \"چونکہ\", \"یا\", \"پر\", \"یعنی\", \"کہ\"]\n",
    "interrogative_words = [\"کیا\", \"کیوں\", \"کب\", \"کہاں\", \"کس\", \"کون\", \"کیسے\", \"کتنا\", \"کتنی\", \"کتنے\"]\n",
    "ignore_words = ['\\t', '\\n']\n",
    "\n",
    "def sent_segments(text):\n",
    "    urdu_word_pattern = r'\\b\\w+\\b'\n",
    "    words = re.findall(urdu_word_pattern, text)\n",
    "\n",
    "    segments = []\n",
    "    current_segment = []\n",
    "\n",
    "    for current_word_index, word in enumerate(words):\n",
    "        if word in ignore_words:\n",
    "            current_segment.append('')\n",
    "        else:\n",
    "            current_segment.append(word)\n",
    "\n",
    "            #check if the current word is in endwords and the next word is not in connecting_words\n",
    "            if word in endwords and (words.index(word) == len(words) - 1 or words[current_word_index + 1] not in connecting_words):\n",
    "                #if the current segment starts with an interrogative word, add a question mark at the end\n",
    "                if current_segment[0] in interrogative_words:\n",
    "                    segments.append(' '.join(current_segment) + \"؟\")\n",
    "                else:\n",
    "                    segments.append(' '.join(current_segment) + \"-\")\n",
    "                current_segment = []\n",
    "\n",
    "    if current_segment:\n",
    "        segments.append(' '.join(current_segment) + \"-\")  # add '-' to the end of each sentence\n",
    "\n",
    "    return segments"
   ]
  },
  {
   "cell_type": "code",
   "execution_count": 10,
   "id": "f7c46c12",
   "metadata": {},
   "outputs": [
    {
     "name": "stdout",
     "output_type": "stream",
     "text": [
      "کیوں نادر شاہ نے ڈھائی ماہ قبل ان سے سلطنت چھین لی تھی؟ "
     ]
    }
   ],
   "source": [
    "test_text = \"کیوں نادر شاہ نے ڈھائی ماہ قبل ان سے سلطنت چھین لی تھی\"\n",
    "\n",
    "result = sent_segments(test_text)\n",
    "display_sentences(result)"
   ]
  },
  {
   "cell_type": "markdown",
   "id": "78a0bf41",
   "metadata": {},
   "source": [
    "## More problems:\n",
    "We seem to have handled the previous problem but <b> interrogative words can be anywhere in a sentence, not just at the beginning. </b> <br>\n",
    "For example:\n",
    "- اتنا لمبا نام کون یاد رکھتا\n",
    "\n",
    "So we modify the function to deal with these kinds of sentences:"
   ]
  },
  {
   "cell_type": "code",
   "execution_count": 11,
   "id": "2099414b",
   "metadata": {},
   "outputs": [],
   "source": [
    "def sent_segments(text):\n",
    "    urdu_word_pattern = r'\\b\\w+\\b'\n",
    "    words = re.findall(urdu_word_pattern, text)\n",
    "\n",
    "    segments = []\n",
    "    current_segment = []\n",
    "\n",
    "    for current_word_index, word in enumerate(words):\n",
    "        if word in ignore_words:\n",
    "            current_segment.append('')\n",
    "        else:\n",
    "            current_segment.append(word)\n",
    "\n",
    "            #check if the current word is in endwords and the next word is not in connecting_words\n",
    "            if word in endwords and (words.index(word) == len(words) - 1 or words[current_word_index + 1] not in connecting_words):\n",
    "                #if any word in the current segment is interrogative, add a question mark at the end\n",
    "                if any(interrogative in current_segment for interrogative in interrogative_words):\n",
    "                    segments.append(' '.join(current_segment) + \"؟\")\n",
    "                else:\n",
    "                    segments.append(' '.join(current_segment) + \"-\")\n",
    "                current_segment = []\n",
    "\n",
    "    if current_segment:\n",
    "        segments.append(' '.join(current_segment) + \"-\")  # add '-' to the end of each sentence\n",
    "\n",
    "    return segments"
   ]
  },
  {
   "cell_type": "code",
   "execution_count": 12,
   "id": "c0ac20a7",
   "metadata": {},
   "outputs": [
    {
     "name": "stdout",
     "output_type": "stream",
     "text": [
      "اتنا لمبا نام کون یاد رکھتا ہے؟ کیوں نادر شاہ نے ڈھائی ماہ قبل ان سے سلطنت چھین لی تھی؟ "
     ]
    }
   ],
   "source": [
    "test_text = \"اتنا لمبا نام کون یاد رکھتا ہے کیوں نادر شاہ نے ڈھائی ماہ قبل ان سے سلطنت چھین لی تھی\"\n",
    "\n",
    "result = sent_segments(test_text)\n",
    "display_sentences(result)"
   ]
  },
  {
   "cell_type": "markdown",
   "id": "48114a61",
   "metadata": {},
   "source": [
    "## Final Result"
   ]
  },
  {
   "cell_type": "code",
   "execution_count": 13,
   "id": "e7cab20a",
   "metadata": {},
   "outputs": [
    {
     "name": "stdout",
     "output_type": "stream",
     "text": [
      "گزشتہ کئی سالوں سے مختلف بحران آتے جاتے رہے لیکن حالیہ آٹا چینی سمیت دیگر بحران اچانک پید ا ہوئے اور ان پر جے آئی ٹی تشکیل دے دیں گئیں تاکہ عوام کو ریلیف دیا جاسکے دوسری جانب بجلی گیس پانی سمیت دیگر بلوں میں کئی سو گنا اضافہ کردیا گیا صوبائی و وفاقی وزراء نے اپنے اپنے ایوانوں بحران کے ذمہ دار عناصر کو بے نقاب کرنے کے بجائے سب اچھاہے کی رپورٹ پیش کیں ساتھ ہی اورنگزیب کی طرح جواب دیا حقائق کی قبر ذرا گہری کھودنا تاریخی گواہ ہے- بقول ماہرین مبصرین اور صحافیوں کا کہنا اور لکھنا ہے کہ پگڑی بدل بھائی کی رسم کی آڑ میں نادر شاہ نے محمد شاہ رنگیلا سے کوہ نور ہیرا حاصل کیا تھا؟ 12 مئی 1739 کی شام دہلی میں زبردست چہل پہل شاہجہان آباد میں چراغاں اور لال قلعے میں جشن کا سماں ہے- غریبوں میں شربت پان اور کھانا تقسیم کیا جا رہا ہے؟ فقیروں گداؤں کو جھولی بھر بھر کر روپے عطا ہو رہے ہیں- آج دربار میں ایرانی بادشاہ نادر شاہ کے سامنے مغلیہ سلطنت کے 13ویں تاجدار محمد شاہ بیٹھے ہیں لیکن اس وقت ان کے سر پر شاہی تاج نہیں ہے- کیوں نادر شاہ نے ڈھائی ماہ قبل ان سے سلطنت چھین لی تھی؟ 56 دن دہلی میں رہنے کے بعد اب نادر شاہ کے واپس ایران لوٹنے کا وقت آ گیا ہے اور وہ ہندوستان کی باگ ڈور دوبارہ سے محمد شاہ کے حوالے کرنا چاہتا ہے- نادر شاہ نے صدیوں سے جمع کردہ مغل خزانے میں جھاڑو پھیر دی ہے اور شہر کے تمام امرا و روسا کی جیبیں الٹا لی ہیں لیکن اسے دہلی کی ایک طوائف نور بائی نے جس کا ذکر آگے چل کر آئے گا- خفیہ طور پر بتا دیا ہے کہ یہ سب کچھ جو تم نے حاصل کیا ہے؟ وہ ایسی چیز کے آگے ہیچ ہے- جسے محمد شاہ نے اپنی پگڑی میں چھپا رکھا ہے- نادر شاہ گھاگ سیاستدان اور گھاٹ گھاٹ کا پانی پیے ہوئے تھا- اس موقعے پر وہ چال چلی جسے نہلے پہ دہلا کہا جاتا ہے- اس نے محمد شاہ سے کہا ایران میں رسم چلی آتی ہے کہ بھائی خوشی کے موقعے پر آپس میں پگڑیاں بدل دیتے ہیں- آج سے ہم بھائی بھائی بن گئے ہیں- تو کیوں نہ اسی رسم کا اعادہ کیا جائے محمد شاہ کے پاس سر جھکانے کے علاوہ کوئی چارہ نہیں تھا؟ نادر شاہ نے اپنی پگڑی اتار کر اس کے سر رکھی اور اس کی پگڑی اپنے سر اور یوں دنیا کا مشہور ترین ہیرا کوہ نور ہندوستان سے نکل کر ایران پہنچ گیا رنگیلا بادشاہ اس ہیرے کے مالک محمد شاہ اپنے پڑدادا اورنگزیب عالمگیر کے دور حکومت میں 1702 میں پیدا ہوئے تھے- ان کا پیدائشی نام تو روشن اختر تھا تاہم 29 ستمبر 1719 کو بادشاہ گر سید برادران نے انھیں صرف 17 برس کی عمر میں سلطنت تیموریہ کے تخت پر بٹھانے کے بعد ابوالفتح نصیر الدین روشن اختر محمد شاہ کا خطاب دیا خود ان کا تخلص سدا رنگیلا تھا- اتنا لمبا نام کون یاد رکھتا چنانچہ عوام نے دونوں کو ملا کر محمد شاہ رنگیلا کر دیا اور وہ آج تک ہندوستان کے طول و عرض میں اسی نام سے جانے اور مانے جاتے ہیں؟ اورنگزیب عالمگیر نے ہندوستان میں ایک خاص قسم کا کٹر اسلام نافذ کر رکھا تھا- محمد شاہ کی پیدائش کے وقت اورنگزیب عالمگیر نے ہندوستان میں ایک خاص قسم کا کٹر اسلام نافذ کر رکھا تھا- اس کا سب سے پہلا نشانہ وہ فنون لطیفہ بنے جن کے بارے میں تصور تھا کہ وہ اسلامی اصولوں سے مطابقت نہیں رکھتے اس کی ایک دلچسپ مثال اطالوی سیاح نکولو منوچی نے لکھی ہے- وہ کہتے ہیں کہ اورنگزیبی دور میں جب موسیقی پر پابندی لگی تو گویوں اور موسیقاروں کی روٹی روزی بند ہو گئی آخر تنگ آ کر ایک ہزار فنکاروں نے جمعے کے دن دہلی کی جامع مسجد سے ایک جلوس نکالا اور آلات موسیقی کو جنازوں کی شکل میں لے کر روتے پیٹتے گزرنے لگے اورنگزیب نے دیکھا تو حیرت زدہ ہو کر پچھوایا یہ کس کا جنازہ لیے جا رہے ہو جس کی خاطر اس قدر آہ و بکا کیا جا رہا ہے؟ انھوں نے کہا آپ نے موسیقی قتل کر دی ہے- اسے دفنانے جا رہے ہیں- اورنگزیب نے جواب دیا قبر ذرا گہری کھودنا طبیعیات کا اصول ہے کہ ہر عمل کا رد عمل ہوتا ہے- یہی اصول تاریخ اور انسانی معاشرت پر بھی لاگو ہوتا ہے کہ جس چیز کو جتنی سختی سے دبایا جائے وہ اتنی ہی قوت سے ابھر کر سامنے آتی ہے- چنانچہ اورنگزیب کے بعد بھی یہی کچھ ہوا اور محمد شاہ کے دور میں وہ تمام فنون پوری آب و تاب سے سامنے آ گئے جو اس سے پہلے دب گئے تھے- سب اچھاہے حقائق کی قبر ذرا گہری کھودنا- "
     ]
    }
   ],
   "source": [
    "result = sent_segments(text)\n",
    "display_sentences(result)"
   ]
  },
  {
   "cell_type": "markdown",
   "id": "458f7c31",
   "metadata": {},
   "source": [
    "## Still problems in it that needs further work:\n",
    "The program is not able to deal with sentences of the following kind: <br>\n",
    "- غریبوں میں شربت پان اور کھانا تقسیم کیا جا رہا ہے؟ \n",
    "\n",
    "In the above sentence the word \"کیا\" doesn't indicate an interrogative sentence but the program deals it like one. <br>"
   ]
  }
 ],
 "metadata": {
  "kernelspec": {
   "display_name": "Python 3 (ipykernel)",
   "language": "python",
   "name": "python3"
  },
  "language_info": {
   "codemirror_mode": {
    "name": "ipython",
    "version": 3
   },
   "file_extension": ".py",
   "mimetype": "text/x-python",
   "name": "python",
   "nbconvert_exporter": "python",
   "pygments_lexer": "ipython3",
   "version": "3.11.5"
  }
 },
 "nbformat": 4,
 "nbformat_minor": 5
}
