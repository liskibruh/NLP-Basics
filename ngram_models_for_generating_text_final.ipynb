{
 "cells": [
  {
   "cell_type": "markdown",
   "id": "f355e052",
   "metadata": {},
   "source": [
    "<center> <b> Owais Tahir </b> </center>\n",
    "<center> <b> P23-8004 </b> </center>\n",
    "<center> <b> MS(DS) </b> </center>"
   ]
  },
  {
   "cell_type": "markdown",
   "id": "5cb78e6c",
   "metadata": {},
   "source": [
    "# Task 1"
   ]
  },
  {
   "cell_type": "code",
   "execution_count": 1,
   "id": "45616291",
   "metadata": {},
   "outputs": [],
   "source": [
    "def load_text(path):\n",
    "    with open (path, 'r', encoding='utf-8') as file:\n",
    "        lines = [line.strip() for line in file if line.strip()]\n",
    "    \n",
    "    return lines"
   ]
  },
  {
   "cell_type": "code",
   "execution_count": 2,
   "id": "d53244c9",
   "metadata": {},
   "outputs": [
    {
     "data": {
      "text/plain": [
       "['بازیچۂ اطفال ہے دنیا مرے آگے',\n",
       " 'ہوتا ہے شب و روز تماشا مرے آگے',\n",
       " 'اک کھیل ہے اورنگ سلیماں مرے نزدیک',\n",
       " 'اک بات ہے اعجاز مسیحا مرے آگے',\n",
       " 'جز نام نہیں صورت عالم مجھے منظور']"
      ]
     },
     "execution_count": 2,
     "metadata": {},
     "output_type": "execute_result"
    }
   ],
   "source": [
    "text_file_paths = ['ghalib.txt', 'faiz.txt', 'iqbal.txt']\n",
    "cleaned_text = []\n",
    "lines = []\n",
    "\n",
    "for each_path in text_file_paths:\n",
    "    text = load_text(each_path)\n",
    "    lines.extend(text)\n",
    "    \n",
    "lines[0:5]"
   ]
  },
  {
   "cell_type": "code",
   "execution_count": 3,
   "id": "0bc1c301",
   "metadata": {},
   "outputs": [],
   "source": [
    "import spacy\n",
    "import random\n",
    "\n",
    "def tokenize_text(lines):\n",
    "    nlp = spacy.blank(\"ur\")\n",
    "    tokens = []\n",
    "    for line in lines:\n",
    "        doc = nlp(line)\n",
    "        tokens.extend([token.text for token in doc if not token.is_space])\n",
    "    return tokens"
   ]
  },
  {
   "cell_type": "code",
   "execution_count": 4,
   "id": "1188894f",
   "metadata": {},
   "outputs": [],
   "source": [
    "def train_unigram_model(tokens):\n",
    "    return tokens\n",
    "\n",
    "def train_bigram_model(tokens):\n",
    "    bigrams = [(tokens[i], tokens[i + 1]) for i in range(len(tokens) - 1)]\n",
    "    return bigrams"
   ]
  },
  {
   "cell_type": "code",
   "execution_count": 5,
   "id": "e2c2c51c",
   "metadata": {},
   "outputs": [],
   "source": [
    "def generate_poetry_unigram(tokens, num_stanzas=4, lines_per_stanza=4, words_per_line=7):\n",
    "    generated_poetry = []\n",
    "    for _ in range(num_stanzas):\n",
    "        stanza = []\n",
    "        for _ in range(lines_per_stanza):\n",
    "            line = [random.choice(tokens) for _ in range(words_per_line)]\n",
    "            stanza.append(' '.join(line))\n",
    "        generated_poetry.extend(stanza)\n",
    "        generated_poetry.append('')\n",
    "    return '\\n'.join(generated_poetry)\n",
    "\n",
    "def generate_poetry_bigram(tokens, bigrams, num_stanzas=4, lines_per_stanza=4, words_per_line=7):\n",
    "    generated_poetry = []\n",
    "    for _ in range(num_stanzas):\n",
    "        stanza = []\n",
    "        for _ in range(lines_per_stanza):\n",
    "            line = [random.choice(tokens)]\n",
    "            for _ in range(words_per_line - 1):\n",
    "                last_word = line[-1]\n",
    "                possible_bigrams = [bigram for bigram in bigrams if bigram[0] == last_word]\n",
    "                if possible_bigrams:\n",
    "                    next_word = random.choice(possible_bigrams)[1]\n",
    "                else:\n",
    "                    next_word = random.choice(tokens)\n",
    "                line.append(next_word)\n",
    "            stanza.append(' '.join(line))\n",
    "        generated_poetry.extend(stanza)\n",
    "        generated_poetry.append('')\n",
    "    return '\\n'.join(generated_poetry)"
   ]
  },
  {
   "cell_type": "code",
   "execution_count": 6,
   "id": "4c85ae03",
   "metadata": {},
   "outputs": [
    {
     "name": "stdout",
     "output_type": "stream",
     "text": [
      "Unigram Model Poetry:\n",
      "نہ نہیں بھی چاہے خوب جذب کس\n",
      "پر و یہ غم شہہ حسود امید\n",
      "ہے نہیں فرش مُدّعا تیزیِ ایک سخن\n",
      "کہ مژدہ لینے یاں ' مانندِ راہ\n",
      "\n",
      "‘ تیرے تقلیدِ ! مجال اب نئی\n",
      "اک ھے نظر کے دل ہے کو\n",
      "ملت رنجش رہا ہیں فرہاد سے تپش\n",
      "دشنۂ گئیں بھول تماشا کی ‘ زیاں\n",
      "\n",
      "لذّتِ مقام خشک الفاظ ہے شوخ بھی\n",
      "میں غیّور ہیں آپ تعجب تن کار\n",
      "کا مشتاق امم ، سنبھالے حالِ تابدار\n",
      "سے آتی میں حسرت تماشا ساحل رقص\n",
      "\n",
      "بیزار اور کا خرے بر ظلم کو\n",
      "ہوئے آگاہی مژگان کہ نا مطلب ‘\n",
      "دکان سخن کی آئے ہیں دل یہ\n",
      "ہوئی تمنا میری نعل ترے وہ سے\n",
      "\n",
      "\n",
      "Bigram Model Poetry:\n",
      "سے خراج دِیہ ویراں تر میں ہزاروں\n",
      "دل غریب اگرچہ جاں کی انجمن میں\n",
      "تکلّف دوست خانہ زادِ زلف عنبریں کیوں\n",
      "اس نے مارا مجھے تو نے گوشۂ\n",
      "\n",
      "قناعت نہ وہی فرصت رنج مشکلیں مجھ\n",
      "جہاں اور سہی ہیں بسکہ ہوں جو\n",
      "نیستاں کا نقشِ حیرت ہے سر پر\n",
      "نہ ملخ کھائے کشت گل ، مگر\n",
      "\n",
      "ملامت کو کہ ‘ بہشت شمائل کی\n",
      "فلاطوں میان غیب ‘ ‘ قیامت ہے\n",
      "خراب ہیں کہیں دو فروزاں ہو دفتر\n",
      "غیر کی یارب ! غصۂ کم ہوئے\n",
      "\n",
      "سر انگشت حنائی دیکھ کے بدلنے لگی\n",
      "دلی میں مرگ ہلتے ہیں تمام حلقہ\n",
      "ربطِ سرِ راہ گزار تھا جاتی ہے\n",
      "ہوا ہوں میں جب یار ہوگا قیامت\n",
      "\n"
     ]
    }
   ],
   "source": [
    "# tokenize text\n",
    "tokens = tokenize_text(lines)\n",
    "\n",
    "# train unigram model\n",
    "unigram_model = train_unigram_model(tokens)\n",
    "\n",
    "# train bigram model\n",
    "bigram_model = train_bigram_model(tokens)\n",
    "\n",
    "# generate poetry using the unigram model\n",
    "poetry_unigram = generate_poetry_unigram(tokens)\n",
    "print(\"Unigram Model Poetry:\")\n",
    "print(poetry_unigram)\n",
    "\n",
    "# generate poetry using the bigram model\n",
    "poetry_bigram = generate_poetry_bigram(tokens, bigram_model)\n",
    "print(\"\\nBigram Model Poetry:\")\n",
    "print(poetry_bigram)"
   ]
  },
  {
   "cell_type": "markdown",
   "id": "198e86d6",
   "metadata": {},
   "source": [
    "# Task 2"
   ]
  },
  {
   "cell_type": "code",
   "execution_count": 10,
   "id": "51d6712e",
   "metadata": {},
   "outputs": [
    {
     "data": {
      "text/plain": [
       "['بازیچۂ اطفال ہے دنیا مرے آگے',\n",
       " 'ہوتا ہے شب و روز تماشا مرے آگے',\n",
       " 'اک کھیل ہے اورنگ سلیماں مرے نزدیک',\n",
       " 'اک بات ہے اعجاز مسیحا مرے آگے',\n",
       " 'جز نام نہیں صورت عالم مجھے منظور']"
      ]
     },
     "execution_count": 10,
     "metadata": {},
     "output_type": "execute_result"
    }
   ],
   "source": [
    "#read data\n",
    "import pandas as pd\n",
    "\n",
    "lines = []\n",
    "file_paths = ['ghalib.txt', 'faiz.txt', 'ghalib.txt']\n",
    "\n",
    "def load_text(path):\n",
    "    with open (path, 'r', encoding='utf-8') as file:\n",
    "        lines = [line.strip() for line in file if line.strip()]\n",
    "    \n",
    "    return lines\n",
    "\n",
    "for each_path in file_paths:\n",
    "    text = load_text(each_path)\n",
    "    lines.extend(text)\n",
    "    \n",
    "lines[0:5]"
   ]
  },
  {
   "cell_type": "code",
   "execution_count": 11,
   "id": "5661d285",
   "metadata": {},
   "outputs": [],
   "source": [
    "#tokenize text\n",
    "import re\n",
    "\n",
    "words = []\n",
    "\n",
    "for each_line in lines:\n",
    "    words.extend(re.findall(r'\\b\\w+\\b', each_line))"
   ]
  },
  {
   "cell_type": "code",
   "execution_count": 12,
   "id": "4e9f56fe",
   "metadata": {},
   "outputs": [],
   "source": [
    "#function for creating n-grams\n",
    "\n",
    "def create_ngrams(n, words, backward=False, bidirectional=False):\n",
    "    ngrams = []\n",
    "    for i in range(len(words) - (n - 1)):\n",
    "        if not bidirectional or not backward:\n",
    "            if not backward:\n",
    "                ngram = \" \".join(words[i:i + n])  # regular n-gram\n",
    "            else:\n",
    "                ngram = \" \".join(words[i:i + n][::-1])  # backward n-gram\n",
    "            ngrams.append(ngram)\n",
    "        else:\n",
    "            regular_ngram = \" \".join(words[i:i + n])  # regular n-gram\n",
    "            backward_ngram = \" \".join(words[i:i + n][::-1])  # backward n-gram\n",
    "            ngrams.extend([regular_ngram, backward_ngram]) # bidirectional n-gram\n",
    "    return ngrams"
   ]
  },
  {
   "cell_type": "code",
   "execution_count": 13,
   "id": "0bc77b5d",
   "metadata": {},
   "outputs": [],
   "source": [
    "#function for generating stanzas\n",
    "import random\n",
    "\n",
    "def generate_stanzas(num_stanzas, num_verses, grams_per_verse, grams):\n",
    "    stanzas = []\n",
    "    for _ in range(num_stanzas):\n",
    "        stanza = []\n",
    "        for _ in range(num_verses):\n",
    "            current_verse = []\n",
    "            #append 1st word in the verse\n",
    "            current_verse.append(random.choice(grams))\n",
    "            for _ in range(grams_per_verse - 1):  #we've already appended one gram, so subtract 1\n",
    "                current_verse.append(random.choice(grams))\n",
    "                \n",
    "            #reverse (because Urdu text) and join the words in the verse\n",
    "            current_verse = \" \".join(current_verse[::-1])\n",
    "            stanza.append(current_verse)\n",
    "            \n",
    "        stanzas.append(stanza)\n",
    "        \n",
    "    return stanzas"
   ]
  },
  {
   "cell_type": "code",
   "execution_count": 14,
   "id": "291e96f2",
   "metadata": {},
   "outputs": [],
   "source": [
    "#function for printing the entire poem\n",
    "\n",
    "def print_poem(stanzas):\n",
    "    for stanza in stanzas:\n",
    "        for verse in stanza:\n",
    "            print(verse)\n",
    "        print()  #print an empty line between stanzas"
   ]
  },
  {
   "cell_type": "markdown",
   "id": "133c50eb",
   "metadata": {},
   "source": [
    "### Bigrams Poem"
   ]
  },
  {
   "cell_type": "code",
   "execution_count": 15,
   "id": "a15d53e4",
   "metadata": {},
   "outputs": [
    {
     "name": "stdout",
     "output_type": "stream",
     "text": [
      "م د دل کے اپنا دل کو تقلید\n",
      "اس معمورے اور معین کو بھی اٹھائے کیوں\n",
      "سے بے ہنر کو کو تو طالع لعل\n",
      "جاگنے کو یہ کیا ان کی جانی نہیں\n",
      "\n",
      "کچھ بھی عدو کے ہوا دوست نہیں ہے\n",
      "کیا ہے زاہد اس جائے کیوں پیہم جاں\n",
      "جو کہتا بساط صحبت عدم ہے درد م\n",
      "آ پہنچی ہائے تیز جاوے کف صرفہ ہے\n",
      "\n",
      "بنا جو سادگی سے سے ٹیڑھا پانو فصل\n",
      "تو ہشیار ہے میں حسرت دل خوں جو\n",
      "کی گرمی کہیں ا کو پر تماشا ہے\n",
      "سودائے نگاہ پہ کہیے جو تو کچھ تو\n",
      "\n"
     ]
    }
   ],
   "source": [
    "bigrams = create_ngrams(n=2, words=words)\n",
    "stanzas = generate_stanzas(num_stanzas=3, num_verses=4, grams_per_verse=4, grams=bigrams)\n",
    "print_poem(stanzas)"
   ]
  },
  {
   "cell_type": "markdown",
   "id": "126aa31d",
   "metadata": {},
   "source": [
    "### Trigrams Poem"
   ]
  },
  {
   "cell_type": "code",
   "execution_count": 16,
   "id": "624e3d4e",
   "metadata": {},
   "outputs": [
    {
     "name": "stdout",
     "output_type": "stream",
     "text": [
      "شادی ہے شعر ھے چشم تر بری بلا ہے شاعر بنا ہے\n",
      "نظر نہیں آتی کچھ نہ سمجھ بھر یوں دم و بازو کو\n",
      "را کہیں ا ہے وہ حدیث دل پہ ناز نہ ہو کہیں\n",
      "خوں میں تیرے ا س کو تم کو رضا پھر لگا ک\n",
      "\n",
      "پرونے کا خیال فکر سخن میں آگے ہوتا ہے منہ سے جاوگے\n",
      "ساتھ نہ ہو ساغر ہی سہی کے وہ چپ کو سخن کیا\n",
      "نکلا قیس تصویر خیال کا س بے سوال ھے جو کہا تو\n",
      "دل صدا پایا مکیں کی پا ہوں کہ ہم ہے یا کوئی\n",
      "\n",
      "ایجاد خط سبز صبح بہار پنبہ ہزار نمک داں تمثال کے آگے\n",
      "وحشت بے ربطی جگر کیا ہم اک فرد جہاں اسد بد خو\n",
      "رنگ زرد تھا تو کہتے ہیں کام بھی آساں خفائی غالب میرے\n",
      "سرا نہ ہوا تا قیامت شب نفس مد ت سے شرمندہ سواے\n",
      "\n"
     ]
    }
   ],
   "source": [
    "trigrams = create_ngrams(n=3, words=words)\n",
    "stanzas = generate_stanzas(num_stanzas=3, num_verses=4, grams_per_verse=4, grams=trigrams)\n",
    "print_poem(stanzas)"
   ]
  },
  {
   "cell_type": "markdown",
   "id": "ef06cf9b",
   "metadata": {},
   "source": [
    "### Backward Bigrams Poem"
   ]
  },
  {
   "cell_type": "code",
   "execution_count": 17,
   "id": "4abfa59b",
   "metadata": {},
   "outputs": [
    {
     "name": "stdout",
     "output_type": "stream",
     "text": [
      "بھی غلط ڈر نہیں جس میں خوبرویوں دماغ\n",
      "ہوں گل وہ سے اسد نے بھی غم\n",
      "ترے صبح بند و غریباں گور در ہم\n",
      "کو محبت ٹپکتا سے مجموعہٴ میں تیغ خستۂ\n",
      "\n",
      "وہ ہے جل محابا آج کہ کا باز\n",
      "شوق نہاں گداز جاں کو حرم بھی تار\n",
      "کہ کافر میں ی از غیر قدم نقش\n",
      "کو تم کھل بھرم راتیں ہے اب کو\n",
      "\n",
      "ہوا نہ بے یوں میں سینے میں تاکہ\n",
      "جس بادہ جس ہے نہیں کا وہ ٹپکتا\n",
      "نے جلوے ہے کون دیوار تھا سہی اور\n",
      "کہ کیوں پایا بوریا جب نہیں میں پردے\n",
      "\n"
     ]
    }
   ],
   "source": [
    "back_bigrams = create_ngrams(n=2, words=words, backward=True)\n",
    "stanzas = generate_stanzas(num_stanzas=3, num_verses=4, grams_per_verse=4, grams=back_bigrams)\n",
    "print_poem(stanzas)"
   ]
  },
  {
   "cell_type": "markdown",
   "id": "12a200e7",
   "metadata": {},
   "source": [
    "### Bidirectional Bigrams Poem"
   ]
  },
  {
   "cell_type": "code",
   "execution_count": 18,
   "id": "e5c3c3f1",
   "metadata": {},
   "outputs": [
    {
     "name": "stdout",
     "output_type": "stream",
     "text": [
      "میرا سایہ تھا دفینہ نظارہ ہے رفو کریں\n",
      "رشک ہے الفت قاتل ہوتا ہوا چاہے بچھائے\n",
      "ٹپکانے لگا کشتۂ تغافل مجنوں کو تھیں آشنائیاں\n",
      "ہوائے سر میں میری کے کٹنے نہ مے\n",
      "\n",
      "کو الفت شرار ہوتا سراغ آوارۂ بننے کا\n",
      "دل سے مر گیا اسد غنچۂ آج کیوں\n",
      "رات دن جہاں تیرا عہد وفا موت سے\n",
      "زخم کے کبھی تم کے بازو حضور میں\n",
      "\n",
      "تو پھر فرمائیں گے زنداں میں دار تھا\n",
      "آباد کیا خراب تو کیا علم ہوں بے\n",
      "یہ سیاق رخ یار ہر اک آج بزم\n",
      "منحرف نہ زنداں سے پند ناصح کیلئے یہ\n",
      "\n"
     ]
    }
   ],
   "source": [
    "bidir_bigrams = create_ngrams(n=2, words=words, bidirectional=True)\n",
    "stanzas = generate_stanzas(num_stanzas=3, num_verses=4, grams_per_verse=4, grams=bidir_bigrams)\n",
    "print_poem(stanzas)"
   ]
  }
 ],
 "metadata": {
  "kernelspec": {
   "display_name": "Python 3 (ipykernel)",
   "language": "python",
   "name": "python3"
  },
  "language_info": {
   "codemirror_mode": {
    "name": "ipython",
    "version": 3
   },
   "file_extension": ".py",
   "mimetype": "text/x-python",
   "name": "python",
   "nbconvert_exporter": "python",
   "pygments_lexer": "ipython3",
   "version": "3.11.5"
  }
 },
 "nbformat": 4,
 "nbformat_minor": 5
}
