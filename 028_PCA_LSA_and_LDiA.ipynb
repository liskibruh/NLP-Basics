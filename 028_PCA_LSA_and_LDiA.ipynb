{
 "cells": [
  {
   "cell_type": "code",
   "execution_count": 1,
   "id": "06e133c4-84e9-412e-9ce0-3af9ad9a5e4d",
   "metadata": {},
   "outputs": [],
   "source": [
    "import pandas as pd\n",
    "pd.set_option('display.max_columns', 6)  # <1>\n",
    "from sklearn.decomposition import PCA\n",
    "import seaborn\n",
    "from matplotlib import pyplot as plt\n",
    "\n",
    "DATA_DIR = ('https://gitlab.com/tangibleai/nlpia/'\n",
    "            '-/raw/master/src/nlpia/data')\n",
    "\n",
    "df = pd.read_csv(DATA_DIR + '/pointcloud.csv.gz', index_col=0)"
   ]
  },
  {
   "cell_type": "code",
   "execution_count": 2,
   "id": "1cc4e792-8245-4640-b6ba-d544da8b25ba",
   "metadata": {},
   "outputs": [
    {
     "data": {
      "image/png": "[encoded data removed]",
      "text/plain": [
       "<Figure size 640x480 with 1 Axes>"
      ]
     },
     "metadata": {},
     "output_type": "display_data"
    }
   ],
   "source": [
    "pca = PCA(n_components=2)  # <3>\n",
    "\n",
    "df2d = pd.DataFrame(pca.fit_transform(df), columns=list('xy'))\n",
    "\n",
    "df2d.plot(kind='scatter', x='x', y='y')\n",
    "plt.show()"
   ]
  },
  {
   "cell_type": "code",
   "execution_count": 3,
   "id": "55aa0e19-092e-451a-8b2f-d2ab5fbc5158",
   "metadata": {},
   "outputs": [
    {
     "data": {
      "text/plain": [
       "Index(['x', 'y', 'z'], dtype='object')"
      ]
     },
     "execution_count": 3,
     "metadata": {},
     "output_type": "execute_result"
    }
   ],
   "source": [
    "df.columns"
   ]
  },
  {
   "cell_type": "markdown",
   "id": "b8a75ce8-1514-4583-bd35-daf12197d659",
   "metadata": {},
   "source": [
    "## Truncated SVD"
   ]
  },
  {
   "cell_type": "code",
   "execution_count": 4,
   "id": "69d9b60d-b3bb-4771-8fd2-643f441d2cae",
   "metadata": {},
   "outputs": [],
   "source": [
    "import pandas as pd\n",
    "pd.options.display.width = 120"
   ]
  },
  {
   "cell_type": "code",
   "execution_count": 5,
   "id": "a410d095-d94c-4c9e-a071-15307f0dc909",
   "metadata": {},
   "outputs": [
    {
     "data": {
      "text/plain": [
       "5000"
      ]
     },
     "execution_count": 5,
     "metadata": {},
     "output_type": "execute_result"
    }
   ],
   "source": [
    "DATA_DIR = ('https://gitlab.com/tangibleai/nlpia/'\n",
    "            '-/raw/master/src/nlpia/data')\n",
    "\n",
    "url = DATA_DIR + '/toxic_comment_small.csv'\n",
    "\n",
    "comments = pd.read_csv(url)\n",
    "index = [f'comment {i},{\"!\"*j}' for (i,j) in zip(range(len(comments)), comments.toxic)]\n",
    "comments = pd.DataFrame(comments.values, columns=comments.columns, index=index)\n",
    "mask = comments.toxic.astype(bool).values\n",
    "comments['toxic'] = comments.toxic.astype(int)\n",
    "len(comments)"
   ]
  },
  {
   "cell_type": "code",
   "execution_count": 6,
   "id": "62ce5c15-90a0-443a-827a-4128ee0935cb",
   "metadata": {},
   "outputs": [
    {
     "name": "stderr",
     "output_type": "stream",
     "text": [
      "C:\\Users\\oo_wa\\.conda\\envs\\nlpia2\\Lib\\site-packages\\sklearn\\feature_extraction\\text.py:525: UserWarning: The parameter 'token_pattern' will not be used since 'tokenizer' is not None'\n",
      "  warnings.warn(\n"
     ]
    },
    {
     "data": {
      "text/plain": [
       "(5000, 19160)"
      ]
     },
     "execution_count": 6,
     "metadata": {},
     "output_type": "execute_result"
    }
   ],
   "source": [
    "from sklearn.feature_extraction.text import TfidfVectorizer\n",
    "import spacy\n",
    "nlp = spacy.load(\"en_core_web_sm\")\n",
    "\n",
    "def spacy_tokenize(sentence):\n",
    "    return [token.text for token in nlp(sentence.lower())]\n",
    "\n",
    "tfidf_model = TfidfVectorizer(tokenizer=spacy_tokenize)\n",
    "tfidf_docs = tfidf_model.fit_transform(\\\n",
    "    raw_documents=comments.text).toarray()\n",
    "\n",
    "tfidf_docs.shape"
   ]
  },
  {
   "cell_type": "code",
   "execution_count": 7,
   "id": "d0b28a75-8ac7-43f7-8d31-e2fbc34034f8",
   "metadata": {},
   "outputs": [
    {
     "data": {
      "text/html": [
       "<div>\n",
       "<style scoped>\n",
       "    .dataframe tbody tr th:only-of-type {\n",
       "        vertical-align: middle;\n",
       "    }\n",
       "\n",
       "    .dataframe tbody tr th {\n",
       "        vertical-align: top;\n",
       "    }\n",
       "\n",
       "    .dataframe thead th {\n",
       "        text-align: right;\n",
       "    }\n",
       "</style>\n",
       "<table border=\"1\" class=\"dataframe\">\n",
       "  <thead>\n",
       "    <tr style=\"text-align: right;\">\n",
       "      <th></th>\n",
       "      <th>topic0</th>\n",
       "      <th>topic1</th>\n",
       "      <th>topic2</th>\n",
       "      <th>...</th>\n",
       "      <th>topic13</th>\n",
       "      <th>topic14</th>\n",
       "      <th>topic15</th>\n",
       "    </tr>\n",
       "  </thead>\n",
       "  <tbody>\n",
       "    <tr>\n",
       "      <th>0</th>\n",
       "      <td>0.121</td>\n",
       "      <td>-0.055</td>\n",
       "      <td>0.036</td>\n",
       "      <td>...</td>\n",
       "      <td>0.088</td>\n",
       "      <td>-0.014</td>\n",
       "      <td>-0.004</td>\n",
       "    </tr>\n",
       "    <tr>\n",
       "      <th>1</th>\n",
       "      <td>0.215</td>\n",
       "      <td>0.141</td>\n",
       "      <td>-0.007</td>\n",
       "      <td>...</td>\n",
       "      <td>-0.013</td>\n",
       "      <td>0.054</td>\n",
       "      <td>-0.038</td>\n",
       "    </tr>\n",
       "    <tr>\n",
       "      <th>2</th>\n",
       "      <td>0.342</td>\n",
       "      <td>-0.200</td>\n",
       "      <td>0.046</td>\n",
       "      <td>...</td>\n",
       "      <td>0.025</td>\n",
       "      <td>-0.058</td>\n",
       "      <td>0.036</td>\n",
       "    </tr>\n",
       "    <tr>\n",
       "      <th>3</th>\n",
       "      <td>0.130</td>\n",
       "      <td>-0.074</td>\n",
       "      <td>0.034</td>\n",
       "      <td>...</td>\n",
       "      <td>0.016</td>\n",
       "      <td>-0.066</td>\n",
       "      <td>0.023</td>\n",
       "    </tr>\n",
       "    <tr>\n",
       "      <th>4</th>\n",
       "      <td>0.166</td>\n",
       "      <td>-0.081</td>\n",
       "      <td>0.036</td>\n",
       "      <td>...</td>\n",
       "      <td>0.063</td>\n",
       "      <td>0.018</td>\n",
       "      <td>-0.006</td>\n",
       "    </tr>\n",
       "  </tbody>\n",
       "</table>\n",
       "<p>5 rows × 16 columns</p>\n",
       "</div>"
      ],
      "text/plain": [
       "   topic0  topic1  topic2  ...  topic13  topic14  topic15\n",
       "0   0.121  -0.055   0.036  ...    0.088   -0.014   -0.004\n",
       "1   0.215   0.141  -0.007  ...   -0.013    0.054   -0.038\n",
       "2   0.342  -0.200   0.046  ...    0.025   -0.058    0.036\n",
       "3   0.130  -0.074   0.034  ...    0.016   -0.066    0.023\n",
       "4   0.166  -0.081   0.036  ...    0.063    0.018   -0.006\n",
       "\n",
       "[5 rows x 16 columns]"
      ]
     },
     "execution_count": 7,
     "metadata": {},
     "output_type": "execute_result"
    }
   ],
   "source": [
    "from sklearn.decomposition import TruncatedSVD\n",
    "svd = TruncatedSVD(n_components=16, n_iter=100)  # <1>\n",
    "columns = ['topic{}'.format(i) for i in range(svd.n_components)]\n",
    "\n",
    "svd_topic_vectors = svd.fit_transform(tfidf_docs)\n",
    "svd_topic_vectors = pd.DataFrame(svd_topic_vectors, columns=columns)\n",
    "svd_topic_vectors.round(3).head()"
   ]
  },
  {
   "cell_type": "code",
   "execution_count": 8,
   "id": "23c049e6-7be2-47de-abc4-ad9de7ed2f8c",
   "metadata": {},
   "outputs": [
    {
     "data": {
      "text/plain": [
       "('\\n', '\\n ', '\\n \\n', '\\n \\n ', '\\n  ')"
      ]
     },
     "execution_count": 8,
     "metadata": {},
     "output_type": "execute_result"
    }
   ],
   "source": [
    "# assign words to all the dimensions in your transformation\n",
    "\n",
    "#list(tfidf_model.vocabulary_.items())[:5]\n",
    "column_nums, terms = zip(*sorted(zip(tfidf_model.vocabulary_.values(),\n",
    "                                     tfidf_model.vocabulary_.keys())))  # <2>\n",
    "terms[:5]"
   ]
  },
  {
   "cell_type": "code",
   "execution_count": 9,
   "id": "c2ceb988-4b37-4db0-adff-f735227abb18",
   "metadata": {},
   "outputs": [
    {
     "data": {
      "text/html": [
       "<div>\n",
       "<style scoped>\n",
       "    .dataframe tbody tr th:only-of-type {\n",
       "        vertical-align: middle;\n",
       "    }\n",
       "\n",
       "    .dataframe tbody tr th {\n",
       "        vertical-align: top;\n",
       "    }\n",
       "\n",
       "    .dataframe thead th {\n",
       "        text-align: right;\n",
       "    }\n",
       "</style>\n",
       "<table border=\"1\" class=\"dataframe\">\n",
       "  <thead>\n",
       "    <tr style=\"text-align: right;\">\n",
       "      <th></th>\n",
       "      <th>ᛏ</th>\n",
       "      <th>you;re</th>\n",
       "      <th>cruz</th>\n",
       "      <th>reached</th>\n",
       "      <th>chicago</th>\n",
       "    </tr>\n",
       "  </thead>\n",
       "  <tbody>\n",
       "    <tr>\n",
       "      <th>topic0</th>\n",
       "      <td>0.000558</td>\n",
       "      <td>0.000208</td>\n",
       "      <td>0.000314</td>\n",
       "      <td>0.002004</td>\n",
       "      <td>0.000469</td>\n",
       "    </tr>\n",
       "    <tr>\n",
       "      <th>topic1</th>\n",
       "      <td>-0.000759</td>\n",
       "      <td>-0.000351</td>\n",
       "      <td>-0.000434</td>\n",
       "      <td>-0.000951</td>\n",
       "      <td>0.000315</td>\n",
       "    </tr>\n",
       "    <tr>\n",
       "      <th>topic2</th>\n",
       "      <td>-0.000354</td>\n",
       "      <td>-0.000005</td>\n",
       "      <td>-0.000398</td>\n",
       "      <td>-0.002873</td>\n",
       "      <td>-0.000539</td>\n",
       "    </tr>\n",
       "    <tr>\n",
       "      <th>topic3</th>\n",
       "      <td>0.000081</td>\n",
       "      <td>0.000104</td>\n",
       "      <td>-0.000024</td>\n",
       "      <td>-0.000006</td>\n",
       "      <td>0.000363</td>\n",
       "    </tr>\n",
       "  </tbody>\n",
       "</table>\n",
       "</div>"
      ],
      "text/plain": [
       "               ᛏ    you;re      cruz   reached   chicago\n",
       "topic0  0.000558  0.000208  0.000314  0.002004  0.000469\n",
       "topic1 -0.000759 -0.000351 -0.000434 -0.000951  0.000315\n",
       "topic2 -0.000354 -0.000005 -0.000398 -0.002873 -0.000539\n",
       "topic3  0.000081  0.000104 -0.000024 -0.000006  0.000363"
      ]
     },
     "execution_count": 9,
     "metadata": {},
     "output_type": "execute_result"
    }
   ],
   "source": [
    "pd.options.display.max_columns = 10\n",
    "\n",
    "topic_term_matrix = pd.DataFrame(svd.components_, columns=terms,\n",
    "                                 index=['topic{}'.format(i) for i in range(16)])\n",
    "topic_term_matrix.sample(5, axis='columns',random_state=271828).head(4)  # <1>"
   ]
  },
  {
   "cell_type": "code",
   "execution_count": 10,
   "id": "900360af-47a2-4ad6-94bf-b2675886aaf5",
   "metadata": {},
   "outputs": [
    {
     "data": {
      "text/html": [
       "<div>\n",
       "<style scoped>\n",
       "    .dataframe tbody tr th:only-of-type {\n",
       "        vertical-align: middle;\n",
       "    }\n",
       "\n",
       "    .dataframe tbody tr th {\n",
       "        vertical-align: top;\n",
       "    }\n",
       "\n",
       "    .dataframe thead th {\n",
       "        text-align: right;\n",
       "    }\n",
       "</style>\n",
       "<table border=\"1\" class=\"dataframe\">\n",
       "  <thead>\n",
       "    <tr style=\"text-align: right;\">\n",
       "      <th></th>\n",
       "      <th>pathetic</th>\n",
       "      <th>crazy</th>\n",
       "      <th>stupid</th>\n",
       "      <th>idiot</th>\n",
       "      <th>lazy</th>\n",
       "      <th>hate</th>\n",
       "      <th>die</th>\n",
       "      <th>kill</th>\n",
       "    </tr>\n",
       "  </thead>\n",
       "  <tbody>\n",
       "    <tr>\n",
       "      <th>topic0</th>\n",
       "      <td>0.3</td>\n",
       "      <td>0.1</td>\n",
       "      <td>0.7</td>\n",
       "      <td>0.6</td>\n",
       "      <td>0.1</td>\n",
       "      <td>0.4</td>\n",
       "      <td>0.2</td>\n",
       "      <td>0.2</td>\n",
       "    </tr>\n",
       "    <tr>\n",
       "      <th>topic1</th>\n",
       "      <td>-0.2</td>\n",
       "      <td>0.0</td>\n",
       "      <td>-0.1</td>\n",
       "      <td>-0.3</td>\n",
       "      <td>-0.1</td>\n",
       "      <td>-0.4</td>\n",
       "      <td>-0.1</td>\n",
       "      <td>0.1</td>\n",
       "    </tr>\n",
       "    <tr>\n",
       "      <th>topic2</th>\n",
       "      <td>0.7</td>\n",
       "      <td>0.1</td>\n",
       "      <td>1.1</td>\n",
       "      <td>1.7</td>\n",
       "      <td>-0.0</td>\n",
       "      <td>0.9</td>\n",
       "      <td>0.6</td>\n",
       "      <td>0.8</td>\n",
       "    </tr>\n",
       "    <tr>\n",
       "      <th>topic3</th>\n",
       "      <td>-0.2</td>\n",
       "      <td>0.0</td>\n",
       "      <td>0.0</td>\n",
       "      <td>0.1</td>\n",
       "      <td>0.1</td>\n",
       "      <td>0.0</td>\n",
       "      <td>0.0</td>\n",
       "      <td>0.2</td>\n",
       "    </tr>\n",
       "    <tr>\n",
       "      <th>topic4</th>\n",
       "      <td>0.7</td>\n",
       "      <td>0.2</td>\n",
       "      <td>1.3</td>\n",
       "      <td>1.5</td>\n",
       "      <td>0.3</td>\n",
       "      <td>1.8</td>\n",
       "      <td>0.7</td>\n",
       "      <td>0.0</td>\n",
       "    </tr>\n",
       "    <tr>\n",
       "      <th>topic5</th>\n",
       "      <td>0.4</td>\n",
       "      <td>0.2</td>\n",
       "      <td>0.7</td>\n",
       "      <td>1.9</td>\n",
       "      <td>0.1</td>\n",
       "      <td>-0.3</td>\n",
       "      <td>0.5</td>\n",
       "      <td>0.1</td>\n",
       "    </tr>\n",
       "    <tr>\n",
       "      <th>topic6</th>\n",
       "      <td>-0.2</td>\n",
       "      <td>-0.0</td>\n",
       "      <td>0.4</td>\n",
       "      <td>0.9</td>\n",
       "      <td>-0.1</td>\n",
       "      <td>0.1</td>\n",
       "      <td>0.9</td>\n",
       "      <td>-0.2</td>\n",
       "    </tr>\n",
       "    <tr>\n",
       "      <th>topic7</th>\n",
       "      <td>0.2</td>\n",
       "      <td>0.1</td>\n",
       "      <td>0.1</td>\n",
       "      <td>0.3</td>\n",
       "      <td>0.1</td>\n",
       "      <td>0.3</td>\n",
       "      <td>0.3</td>\n",
       "      <td>-0.2</td>\n",
       "    </tr>\n",
       "    <tr>\n",
       "      <th>topic8</th>\n",
       "      <td>0.0</td>\n",
       "      <td>-0.1</td>\n",
       "      <td>1.1</td>\n",
       "      <td>-0.6</td>\n",
       "      <td>-0.1</td>\n",
       "      <td>-0.7</td>\n",
       "      <td>0.1</td>\n",
       "      <td>-0.3</td>\n",
       "    </tr>\n",
       "    <tr>\n",
       "      <th>topic9</th>\n",
       "      <td>-1.7</td>\n",
       "      <td>-0.2</td>\n",
       "      <td>-2.1</td>\n",
       "      <td>-1.5</td>\n",
       "      <td>-0.4</td>\n",
       "      <td>-1.6</td>\n",
       "      <td>0.7</td>\n",
       "      <td>-0.7</td>\n",
       "    </tr>\n",
       "    <tr>\n",
       "      <th>topic10</th>\n",
       "      <td>0.7</td>\n",
       "      <td>0.1</td>\n",
       "      <td>-0.1</td>\n",
       "      <td>0.3</td>\n",
       "      <td>0.0</td>\n",
       "      <td>-0.2</td>\n",
       "      <td>0.1</td>\n",
       "      <td>0.1</td>\n",
       "    </tr>\n",
       "    <tr>\n",
       "      <th>topic11</th>\n",
       "      <td>1.7</td>\n",
       "      <td>-0.3</td>\n",
       "      <td>1.4</td>\n",
       "      <td>0.6</td>\n",
       "      <td>0.2</td>\n",
       "      <td>0.6</td>\n",
       "      <td>-0.1</td>\n",
       "      <td>-0.1</td>\n",
       "    </tr>\n",
       "    <tr>\n",
       "      <th>topic12</th>\n",
       "      <td>0.2</td>\n",
       "      <td>0.4</td>\n",
       "      <td>-0.4</td>\n",
       "      <td>-1.4</td>\n",
       "      <td>-0.3</td>\n",
       "      <td>-0.1</td>\n",
       "      <td>0.9</td>\n",
       "      <td>0.4</td>\n",
       "    </tr>\n",
       "    <tr>\n",
       "      <th>topic13</th>\n",
       "      <td>1.4</td>\n",
       "      <td>-0.1</td>\n",
       "      <td>-0.7</td>\n",
       "      <td>-0.7</td>\n",
       "      <td>0.0</td>\n",
       "      <td>1.4</td>\n",
       "      <td>0.6</td>\n",
       "      <td>-0.2</td>\n",
       "    </tr>\n",
       "    <tr>\n",
       "      <th>topic14</th>\n",
       "      <td>-0.2</td>\n",
       "      <td>-0.5</td>\n",
       "      <td>-0.4</td>\n",
       "      <td>-1.0</td>\n",
       "      <td>-0.2</td>\n",
       "      <td>-0.9</td>\n",
       "      <td>-0.4</td>\n",
       "      <td>-0.6</td>\n",
       "    </tr>\n",
       "    <tr>\n",
       "      <th>topic15</th>\n",
       "      <td>0.0</td>\n",
       "      <td>0.2</td>\n",
       "      <td>0.5</td>\n",
       "      <td>0.3</td>\n",
       "      <td>0.1</td>\n",
       "      <td>0.6</td>\n",
       "      <td>-0.3</td>\n",
       "      <td>0.1</td>\n",
       "    </tr>\n",
       "  </tbody>\n",
       "</table>\n",
       "</div>"
      ],
      "text/plain": [
       "         pathetic  crazy  stupid  idiot  lazy  hate  die  kill\n",
       "topic0        0.3    0.1     0.7    0.6   0.1   0.4  0.2   0.2\n",
       "topic1       -0.2    0.0    -0.1   -0.3  -0.1  -0.4 -0.1   0.1\n",
       "topic2        0.7    0.1     1.1    1.7  -0.0   0.9  0.6   0.8\n",
       "topic3       -0.2    0.0     0.0    0.1   0.1   0.0  0.0   0.2\n",
       "topic4        0.7    0.2     1.3    1.5   0.3   1.8  0.7   0.0\n",
       "topic5        0.4    0.2     0.7    1.9   0.1  -0.3  0.5   0.1\n",
       "topic6       -0.2   -0.0     0.4    0.9  -0.1   0.1  0.9  -0.2\n",
       "topic7        0.2    0.1     0.1    0.3   0.1   0.3  0.3  -0.2\n",
       "topic8        0.0   -0.1     1.1   -0.6  -0.1  -0.7  0.1  -0.3\n",
       "topic9       -1.7   -0.2    -2.1   -1.5  -0.4  -1.6  0.7  -0.7\n",
       "topic10       0.7    0.1    -0.1    0.3   0.0  -0.2  0.1   0.1\n",
       "topic11       1.7   -0.3     1.4    0.6   0.2   0.6 -0.1  -0.1\n",
       "topic12       0.2    0.4    -0.4   -1.4  -0.3  -0.1  0.9   0.4\n",
       "topic13       1.4   -0.1    -0.7   -0.7   0.0   1.4  0.6  -0.2\n",
       "topic14      -0.2   -0.5    -0.4   -1.0  -0.2  -0.9 -0.4  -0.6\n",
       "topic15       0.0    0.2     0.5    0.3   0.1   0.6 -0.3   0.1"
      ]
     },
     "execution_count": 10,
     "metadata": {},
     "output_type": "execute_result"
    }
   ],
   "source": [
    "pd.options.display.max_columns = 8\n",
    "toxic_terms = topic_term_matrix[\n",
    "    'pathetic crazy stupid idiot lazy hate die kill'.split()\n",
    "    ].round(3) * 100  # <1>\n",
    "toxic_terms"
   ]
  },
  {
   "cell_type": "code",
   "execution_count": 11,
   "id": "5f8cff58-8ed2-4151-9d2f-404c896c0b03",
   "metadata": {},
   "outputs": [
    {
     "data": {
      "text/plain": [
       "topic0     2.6\n",
       "topic1    -1.1\n",
       "topic2     5.9\n",
       "topic3     0.2\n",
       "topic4     6.5\n",
       "topic5     3.6\n",
       "topic6     1.8\n",
       "topic7     1.2\n",
       "topic8    -0.6\n",
       "topic9    -7.5\n",
       "topic10    1.0\n",
       "topic11    4.0\n",
       "topic12   -0.3\n",
       "topic13    1.7\n",
       "topic14   -4.2\n",
       "topic15    1.5\n",
       "dtype: float64"
      ]
     },
     "execution_count": 11,
     "metadata": {},
     "output_type": "execute_result"
    }
   ],
   "source": [
    "toxic_terms.T.sum()"
   ]
  },
  {
   "cell_type": "markdown",
   "id": "8245fa7c-554b-435a-acf3-a82e371ab847",
   "metadata": {},
   "source": [
    "Topics 2 and 4 appear to be more likely to contain toxic sentiment"
   ]
  },
  {
   "cell_type": "code",
   "execution_count": 12,
   "id": "7a20a13b-728b-4cc8-a956-2cf8e804f5f5",
   "metadata": {},
   "outputs": [],
   "source": [
    "#toxic_terms.T.iloc[0:,0:1].sum()\n",
    "#toxic_terms.T"
   ]
  },
  {
   "cell_type": "markdown",
   "id": "489de7f2-4e17-4b5d-85b4-79191d853fe5",
   "metadata": {},
   "source": [
    "## LDA-LSA for toxicity prediction"
   ]
  },
  {
   "cell_type": "code",
   "execution_count": 13,
   "id": "0cce4f4e-4a1d-422e-aa78-5518f79dabd0",
   "metadata": {},
   "outputs": [
    {
     "data": {
      "text/plain": [
       "0.88"
      ]
     },
     "execution_count": 13,
     "metadata": {},
     "output_type": "execute_result"
    }
   ],
   "source": [
    "from sklearn.model_selection import train_test_split\n",
    "from sklearn.discriminant_analysis import LinearDiscriminantAnalysis\n",
    "\n",
    "\n",
    "X_train_16d, X_test_16d, y_train_16d, y_test_16d = train_test_split(\n",
    "    svd_topic_vectors, comments.toxic.values, test_size=0.5,\n",
    "    random_state=271828)\n",
    "lda_lsa = LinearDiscriminantAnalysis(n_components=1)\n",
    "lda_lsa = lda_lsa.fit(X_train_16d, y_train_16d)\n",
    "round(float(lda_lsa.score(X_train_16d, y_train_16d)), 3)"
   ]
  },
  {
   "cell_type": "code",
   "execution_count": 14,
   "id": "4209286f-15a4-4a55-9ea9-c275e947e0cf",
   "metadata": {},
   "outputs": [
    {
     "data": {
      "text/plain": [
       "0.346"
      ]
     },
     "execution_count": 14,
     "metadata": {},
     "output_type": "execute_result"
    }
   ],
   "source": [
    "from sklearn.metrics import f1_score\n",
    "f1_score(y_test_16d, lda_lsa.predict(X_test_16d)).round(3)"
   ]
  },
  {
   "cell_type": "code",
   "execution_count": 15,
   "id": "75325511-ab7e-454a-b302-a6e57ca23d6d",
   "metadata": {},
   "outputs": [],
   "source": [
    "hparam_table = [] #pd.DataFrame()\n",
    "#this score is for a classifier thats trained in another notebook\n",
    "tfidf_performance = {'classifier': 'LDA',\n",
    "                     'features': 'tf-idf (spacy tokenizer)',\n",
    "                     'train_accuracy': 0.99 ,\n",
    "                     'test_accuracy': 0.554,\n",
    "                     'test_precision': 0.383 }"
   ]
  },
  {
   "cell_type": "markdown",
   "id": "6425635e-4508-45e4-ae90-7c3e16a8bee5",
   "metadata": {},
   "source": [
    "### A function that stores model performances"
   ]
  },
  {
   "cell_type": "code",
   "execution_count": 16,
   "id": "d65e146d-f1ec-402c-8cfc-54966699c88a",
   "metadata": {},
   "outputs": [],
   "source": [
    "from sklearn.metrics import precision_score, recall_score\n",
    "\n",
    "# a function that creates a record in hyperparameter table.\n",
    "def hparam_rec(model, X_train, y_train, X_test, y_test,\n",
    "               model_name, features):\n",
    "    return {\n",
    "        'classifier': model_name,\n",
    "        'features': features,\n",
    "        'train_accuracy': float(model.score(X_train, y_train)),\n",
    "        'test_accuracy': float(model.score(X_test, y_test)),\n",
    "        'test_precision':\n",
    "            precision_score(y_test, model.predict(X_test)),\n",
    "        'test_recall':\n",
    "            recall_score(y_test, model.predict(X_test)),\n",
    "        'test_f1': f1_score(y_test, model.predict(X_test))\n",
    "        }"
   ]
  },
  {
   "cell_type": "code",
   "execution_count": 17,
   "id": "c40ec59c-c017-406b-8636-b655ba7633a0",
   "metadata": {},
   "outputs": [],
   "source": [
    "def evaluate_model(X,y, classifier, classifier_name, features):\n",
    "    X_train, X_test, y_train, y_test = train_test_split(\n",
    "        X, y, test_size=0.5, random_state=271828)\n",
    "    classifier = classifier.fit(X_train, y_train)\n",
    "    return hparam_rec(classifier, X_train, y_train, X_test,y_test,\n",
    "                      classifier_name, features)"
   ]
  },
  {
   "cell_type": "code",
   "execution_count": 18,
   "id": "0583962c-6d07-4e34-bb5d-7836caaaeb89",
   "metadata": {},
   "outputs": [],
   "source": [
    "lsa_performance = hparam_rec(lda_lsa, X_train_16d, y_train_16d,\n",
    "       X_test_16d,y_test_16d, 'LDA', 'LSA (16 components)')\n",
    "hparam_table.append(lsa_performance)\n",
    "#hparam_table.T  # <1>"
   ]
  },
  {
   "cell_type": "code",
   "execution_count": 19,
   "id": "a4281c1d-4201-42c9-a7d1-9d6d56fcab1b",
   "metadata": {},
   "outputs": [
    {
     "data": {
      "text/plain": [
       "{'classifier': 'LDA',\n",
       " 'features': 'LSA (16 components)',\n",
       " 'train_accuracy': 0.8796,\n",
       " 'test_accuracy': 0.8804,\n",
       " 'test_precision': 0.6030534351145038,\n",
       " 'test_recall': 0.24233128834355827,\n",
       " 'test_f1': 0.34573304157549234}"
      ]
     },
     "execution_count": 19,
     "metadata": {},
     "output_type": "execute_result"
    }
   ],
   "source": [
    "lsa_performance"
   ]
  },
  {
   "cell_type": "markdown",
   "id": "bf92ed19-65bd-4078-8411-89487b2378fd",
   "metadata": {},
   "source": [
    "## LDiA"
   ]
  },
  {
   "cell_type": "code",
   "execution_count": 20,
   "id": "1d957493-5f15-4823-a76c-1c6c7dac26c7",
   "metadata": {},
   "outputs": [
    {
     "name": "stderr",
     "output_type": "stream",
     "text": [
      "C:\\Users\\oo_wa\\.conda\\envs\\nlpia2\\Lib\\site-packages\\sklearn\\feature_extraction\\text.py:525: UserWarning: The parameter 'token_pattern' will not be used since 'tokenizer' is not None'\n",
      "  warnings.warn(\n"
     ]
    }
   ],
   "source": [
    "from sklearn.feature_extraction.text import CountVectorizer\n",
    "\n",
    "counter = CountVectorizer(tokenizer=spacy_tokenize)\n",
    "index = [f'comment {i}' for i in range(len(comments))]\n",
    "bow_docs = pd.DataFrame(counter.fit_transform(raw_documents=comments.text).toarray(),\n",
    "                       index=index)"
   ]
  },
  {
   "cell_type": "code",
   "execution_count": 21,
   "id": "133661cf-001e-4df9-b719-391116be5d7b",
   "metadata": {},
   "outputs": [
    {
     "data": {
      "text/html": [
       "<div>\n",
       "<style scoped>\n",
       "    .dataframe tbody tr th:only-of-type {\n",
       "        vertical-align: middle;\n",
       "    }\n",
       "\n",
       "    .dataframe tbody tr th {\n",
       "        vertical-align: top;\n",
       "    }\n",
       "\n",
       "    .dataframe thead th {\n",
       "        text-align: right;\n",
       "    }\n",
       "</style>\n",
       "<table border=\"1\" class=\"dataframe\">\n",
       "  <thead>\n",
       "    <tr style=\"text-align: right;\">\n",
       "      <th></th>\n",
       "      <th>0</th>\n",
       "      <th>1</th>\n",
       "      <th>2</th>\n",
       "      <th>3</th>\n",
       "      <th>...</th>\n",
       "      <th>19156</th>\n",
       "      <th>19157</th>\n",
       "      <th>19158</th>\n",
       "      <th>19159</th>\n",
       "    </tr>\n",
       "  </thead>\n",
       "  <tbody>\n",
       "    <tr>\n",
       "      <th>comment 0</th>\n",
       "      <td>0</td>\n",
       "      <td>0</td>\n",
       "      <td>0</td>\n",
       "      <td>0</td>\n",
       "      <td>...</td>\n",
       "      <td>0</td>\n",
       "      <td>0</td>\n",
       "      <td>0</td>\n",
       "      <td>0</td>\n",
       "    </tr>\n",
       "    <tr>\n",
       "      <th>comment 1</th>\n",
       "      <td>0</td>\n",
       "      <td>1</td>\n",
       "      <td>0</td>\n",
       "      <td>0</td>\n",
       "      <td>...</td>\n",
       "      <td>0</td>\n",
       "      <td>0</td>\n",
       "      <td>0</td>\n",
       "      <td>0</td>\n",
       "    </tr>\n",
       "    <tr>\n",
       "      <th>comment 2</th>\n",
       "      <td>0</td>\n",
       "      <td>0</td>\n",
       "      <td>0</td>\n",
       "      <td>0</td>\n",
       "      <td>...</td>\n",
       "      <td>0</td>\n",
       "      <td>0</td>\n",
       "      <td>0</td>\n",
       "      <td>0</td>\n",
       "    </tr>\n",
       "    <tr>\n",
       "      <th>comment 3</th>\n",
       "      <td>0</td>\n",
       "      <td>0</td>\n",
       "      <td>0</td>\n",
       "      <td>0</td>\n",
       "      <td>...</td>\n",
       "      <td>0</td>\n",
       "      <td>0</td>\n",
       "      <td>0</td>\n",
       "      <td>0</td>\n",
       "    </tr>\n",
       "    <tr>\n",
       "      <th>comment 4</th>\n",
       "      <td>0</td>\n",
       "      <td>0</td>\n",
       "      <td>0</td>\n",
       "      <td>0</td>\n",
       "      <td>...</td>\n",
       "      <td>0</td>\n",
       "      <td>0</td>\n",
       "      <td>0</td>\n",
       "      <td>0</td>\n",
       "    </tr>\n",
       "    <tr>\n",
       "      <th>...</th>\n",
       "      <td>...</td>\n",
       "      <td>...</td>\n",
       "      <td>...</td>\n",
       "      <td>...</td>\n",
       "      <td>...</td>\n",
       "      <td>...</td>\n",
       "      <td>...</td>\n",
       "      <td>...</td>\n",
       "      <td>...</td>\n",
       "    </tr>\n",
       "    <tr>\n",
       "      <th>comment 4995</th>\n",
       "      <td>1</td>\n",
       "      <td>0</td>\n",
       "      <td>0</td>\n",
       "      <td>0</td>\n",
       "      <td>...</td>\n",
       "      <td>0</td>\n",
       "      <td>0</td>\n",
       "      <td>0</td>\n",
       "      <td>0</td>\n",
       "    </tr>\n",
       "    <tr>\n",
       "      <th>comment 4996</th>\n",
       "      <td>0</td>\n",
       "      <td>0</td>\n",
       "      <td>0</td>\n",
       "      <td>0</td>\n",
       "      <td>...</td>\n",
       "      <td>0</td>\n",
       "      <td>0</td>\n",
       "      <td>0</td>\n",
       "      <td>0</td>\n",
       "    </tr>\n",
       "    <tr>\n",
       "      <th>comment 4997</th>\n",
       "      <td>1</td>\n",
       "      <td>0</td>\n",
       "      <td>0</td>\n",
       "      <td>0</td>\n",
       "      <td>...</td>\n",
       "      <td>0</td>\n",
       "      <td>0</td>\n",
       "      <td>0</td>\n",
       "      <td>0</td>\n",
       "    </tr>\n",
       "    <tr>\n",
       "      <th>comment 4998</th>\n",
       "      <td>1</td>\n",
       "      <td>0</td>\n",
       "      <td>0</td>\n",
       "      <td>0</td>\n",
       "      <td>...</td>\n",
       "      <td>0</td>\n",
       "      <td>0</td>\n",
       "      <td>0</td>\n",
       "      <td>0</td>\n",
       "    </tr>\n",
       "    <tr>\n",
       "      <th>comment 4999</th>\n",
       "      <td>1</td>\n",
       "      <td>0</td>\n",
       "      <td>0</td>\n",
       "      <td>0</td>\n",
       "      <td>...</td>\n",
       "      <td>0</td>\n",
       "      <td>0</td>\n",
       "      <td>0</td>\n",
       "      <td>0</td>\n",
       "    </tr>\n",
       "  </tbody>\n",
       "</table>\n",
       "<p>5000 rows × 19160 columns</p>\n",
       "</div>"
      ],
      "text/plain": [
       "              0      1      2      3      ...  19156  19157  19158  19159\n",
       "comment 0         0      0      0      0  ...      0      0      0      0\n",
       "comment 1         0      1      0      0  ...      0      0      0      0\n",
       "comment 2         0      0      0      0  ...      0      0      0      0\n",
       "comment 3         0      0      0      0  ...      0      0      0      0\n",
       "comment 4         0      0      0      0  ...      0      0      0      0\n",
       "...             ...    ...    ...    ...  ...    ...    ...    ...    ...\n",
       "comment 4995      1      0      0      0  ...      0      0      0      0\n",
       "comment 4996      0      0      0      0  ...      0      0      0      0\n",
       "comment 4997      1      0      0      0  ...      0      0      0      0\n",
       "comment 4998      1      0      0      0  ...      0      0      0      0\n",
       "comment 4999      1      0      0      0  ...      0      0      0      0\n",
       "\n",
       "[5000 rows x 19160 columns]"
      ]
     },
     "execution_count": 21,
     "metadata": {},
     "output_type": "execute_result"
    }
   ],
   "source": [
    "bow_docs"
   ]
  },
  {
   "cell_type": "code",
   "execution_count": 22,
   "id": "41effc99-de7b-4576-989d-3ddcdd7a799d",
   "metadata": {},
   "outputs": [],
   "source": [
    "column_nums, terms = zip(*sorted(zip(counter.vocabulary_.values(),\n",
    "    counter.vocabulary_.keys())))\n",
    "bow_docs.columns = terms"
   ]
  },
  {
   "cell_type": "code",
   "execution_count": 23,
   "id": "94e30fe3-697e-4dc7-af7d-810d75bcdb5e",
   "metadata": {},
   "outputs": [
    {
     "data": {
      "text/plain": [
       "5000"
      ]
     },
     "execution_count": 23,
     "metadata": {},
     "output_type": "execute_result"
    }
   ],
   "source": [
    "DATA_DIR = ('https://gitlab.com/tangibleai/nlpia/'\n",
    "            '-/raw/master/src/nlpia/data')\n",
    "\n",
    "url = DATA_DIR + '/toxic_comment_small.csv'\n",
    "\n",
    "comments = pd.read_csv(url)\n",
    "index2 = [f'comment {i},{\"!\"*j}' for (i,j) in zip(range(len(comments)), comments.toxic)]\n",
    "comments = pd.DataFrame(comments.values, columns=comments.columns, index=index2)\n",
    "mask = comments.toxic.astype(bool).values\n",
    "#comments['toxic'] = comments.toxic.astype(int)\n",
    "len(comments)"
   ]
  },
  {
   "cell_type": "code",
   "execution_count": 24,
   "id": "524d84da-8a98-4e49-8c8e-cb53ba5525df",
   "metadata": {},
   "outputs": [
    {
     "data": {
      "text/plain": [
       "'you have yet to identify where my edits violated policy.  4 july 2005 02:58 (utc)'"
      ]
     },
     "execution_count": 24,
     "metadata": {},
     "output_type": "execute_result"
    }
   ],
   "source": [
    "comments.loc['comment 0,'].text"
   ]
  },
  {
   "cell_type": "code",
   "execution_count": 25,
   "id": "0cd8da5b-697d-4760-88b6-dcdaa0be582c",
   "metadata": {},
   "outputs": [
    {
     "data": {
      "text/plain": [
       "         1\n",
       "(        1\n",
       ")        1\n",
       ".        1\n",
       "02:58    1\n",
       "Name: comment 0, dtype: int64"
      ]
     },
     "execution_count": 25,
     "metadata": {},
     "output_type": "execute_result"
    }
   ],
   "source": [
    "bow_docs.loc['comment 0'][bow_docs.loc['comment 0'] > 0].head()"
   ]
  },
  {
   "cell_type": "code",
   "execution_count": 26,
   "id": "81cae0a4-6820-476b-ac5e-049527ba7537",
   "metadata": {},
   "outputs": [
    {
     "data": {
      "text/plain": [
       "(16, 19160)"
      ]
     },
     "execution_count": 26,
     "metadata": {},
     "output_type": "execute_result"
    }
   ],
   "source": [
    "from sklearn.decomposition import LatentDirichletAllocation as LDiA\n",
    "\n",
    "ldia = LDiA(n_components=16, learning_method='batch')\n",
    "ldia = ldia.fit(bow_docs)  # <1>\n",
    "ldia.components_.shape"
   ]
  },
  {
   "cell_type": "code",
   "execution_count": 27,
   "id": "667d2745-208c-4a26-a855-bdac031ef9e9",
   "metadata": {},
   "outputs": [
    {
     "data": {
      "text/plain": [
       "array([[3.50359783e+00, 2.97680320e+02, 6.33914548e+02, ...,\n",
       "        7.84656813e+00, 1.39907736e+02, 2.81959732e+01],\n",
       "       [1.86603684e+02, 4.87133589e+01, 7.03711828e+01, ...,\n",
       "        6.25000364e-02, 6.25000028e-02, 6.25000045e-02],\n",
       "       [6.25000000e-02, 6.25000148e-02, 8.15874319e+00, ...,\n",
       "        6.25000108e-02, 6.25000197e-02, 6.25000000e-02],\n",
       "       ...,\n",
       "       [6.25000000e-02, 6.25002299e-02, 1.06249977e+00, ...,\n",
       "        6.25000000e-02, 6.25000000e-02, 6.25000000e-02],\n",
       "       [6.25000000e-02, 6.25001871e-02, 1.06249981e+00, ...,\n",
       "        6.25000000e-02, 6.25000064e-02, 6.25000000e-02],\n",
       "       [1.06249998e+00, 6.25000039e-02, 6.25000000e-02, ...,\n",
       "        6.25000000e-02, 6.25000000e-02, 6.25000000e-02]])"
      ]
     },
     "execution_count": 27,
     "metadata": {},
     "output_type": "execute_result"
    }
   ],
   "source": [
    "ldia.components_.T"
   ]
  },
  {
   "cell_type": "code",
   "execution_count": 28,
   "id": "d762fa7f-bc04-4f01-9a5b-da1d8d41f276",
   "metadata": {},
   "outputs": [
    {
     "data": {
      "text/html": [
       "<div>\n",
       "<style scoped>\n",
       "    .dataframe tbody tr th:only-of-type {\n",
       "        vertical-align: middle;\n",
       "    }\n",
       "\n",
       "    .dataframe tbody tr th {\n",
       "        vertical-align: top;\n",
       "    }\n",
       "\n",
       "    .dataframe thead th {\n",
       "        text-align: right;\n",
       "    }\n",
       "</style>\n",
       "<table border=\"1\" class=\"dataframe\">\n",
       "  <thead>\n",
       "    <tr style=\"text-align: right;\">\n",
       "      <th></th>\n",
       "      <th>topic0</th>\n",
       "      <th>topic1</th>\n",
       "      <th>topic2</th>\n",
       "      <th>topic3</th>\n",
       "      <th>...</th>\n",
       "      <th>topic12</th>\n",
       "      <th>topic13</th>\n",
       "      <th>topic14</th>\n",
       "      <th>topic15</th>\n",
       "    </tr>\n",
       "  </thead>\n",
       "  <tbody>\n",
       "    <tr>\n",
       "      <th>\\n</th>\n",
       "      <td>3.50</td>\n",
       "      <td>297.68</td>\n",
       "      <td>633.91</td>\n",
       "      <td>46.11</td>\n",
       "      <td>...</td>\n",
       "      <td>7.96</td>\n",
       "      <td>7.85</td>\n",
       "      <td>139.91</td>\n",
       "      <td>28.20</td>\n",
       "    </tr>\n",
       "    <tr>\n",
       "      <th>\\n</th>\n",
       "      <td>186.60</td>\n",
       "      <td>48.71</td>\n",
       "      <td>70.37</td>\n",
       "      <td>41.95</td>\n",
       "      <td>...</td>\n",
       "      <td>0.06</td>\n",
       "      <td>0.06</td>\n",
       "      <td>0.06</td>\n",
       "      <td>0.06</td>\n",
       "    </tr>\n",
       "    <tr>\n",
       "      <th>\\n \\n</th>\n",
       "      <td>0.06</td>\n",
       "      <td>0.06</td>\n",
       "      <td>8.16</td>\n",
       "      <td>0.06</td>\n",
       "      <td>...</td>\n",
       "      <td>0.06</td>\n",
       "      <td>0.06</td>\n",
       "      <td>0.06</td>\n",
       "      <td>0.06</td>\n",
       "    </tr>\n",
       "  </tbody>\n",
       "</table>\n",
       "<p>3 rows × 16 columns</p>\n",
       "</div>"
      ],
      "text/plain": [
       "       topic0  topic1  topic2  topic3  ...  topic12  topic13  topic14  \\\n",
       "\\n       3.50  297.68  633.91   46.11  ...     7.96     7.85   139.91   \n",
       "\\n     186.60   48.71   70.37   41.95  ...     0.06     0.06     0.06   \n",
       "\\n \\n    0.06    0.06    8.16    0.06  ...     0.06     0.06     0.06   \n",
       "\n",
       "       topic15  \n",
       "\\n       28.20  \n",
       "\\n        0.06  \n",
       "\\n \\n     0.06  \n",
       "\n",
       "[3 rows x 16 columns]"
      ]
     },
     "execution_count": 28,
     "metadata": {},
     "output_type": "execute_result"
    }
   ],
   "source": [
    "pd.set_option('display.width', 75)\n",
    "term_topic_matrix = pd.DataFrame(ldia.components_.T, index=terms,\n",
    "                                 columns=columns)  # <1>\n",
    "term_topic_matrix.round(2).head(3)"
   ]
  },
  {
   "cell_type": "code",
   "execution_count": 29,
   "id": "f4b2d1af-be00-4b4c-9b35-0c3f8a063253",
   "metadata": {},
   "outputs": [
    {
     "data": {
      "text/html": [
       "<div>\n",
       "<style scoped>\n",
       "    .dataframe tbody tr th:only-of-type {\n",
       "        vertical-align: middle;\n",
       "    }\n",
       "\n",
       "    .dataframe tbody tr th {\n",
       "        vertical-align: top;\n",
       "    }\n",
       "\n",
       "    .dataframe thead th {\n",
       "        text-align: right;\n",
       "    }\n",
       "</style>\n",
       "<table border=\"1\" class=\"dataframe\">\n",
       "  <thead>\n",
       "    <tr style=\"text-align: right;\">\n",
       "      <th></th>\n",
       "      <th>topic7</th>\n",
       "      <th>topic11</th>\n",
       "      <th>topic1</th>\n",
       "      <th>topic14</th>\n",
       "      <th>topic10</th>\n",
       "    </tr>\n",
       "  </thead>\n",
       "  <tbody>\n",
       "    <tr>\n",
       "      <th>\\n</th>\n",
       "      <td>1.546552</td>\n",
       "      <td>22.382313</td>\n",
       "      <td>297.680320</td>\n",
       "      <td>139.907736</td>\n",
       "      <td>72.285955</td>\n",
       "    </tr>\n",
       "    <tr>\n",
       "      <th>\\n</th>\n",
       "      <td>0.815140</td>\n",
       "      <td>0.062500</td>\n",
       "      <td>48.713359</td>\n",
       "      <td>0.062500</td>\n",
       "      <td>6.574988</td>\n",
       "    </tr>\n",
       "    <tr>\n",
       "      <th>\\n \\n</th>\n",
       "      <td>0.062500</td>\n",
       "      <td>0.062500</td>\n",
       "      <td>0.062500</td>\n",
       "      <td>0.062500</td>\n",
       "      <td>1.966256</td>\n",
       "    </tr>\n",
       "    <tr>\n",
       "      <th>\\n \\n</th>\n",
       "      <td>0.062500</td>\n",
       "      <td>0.062500</td>\n",
       "      <td>0.062500</td>\n",
       "      <td>0.062500</td>\n",
       "      <td>0.062500</td>\n",
       "    </tr>\n",
       "  </tbody>\n",
       "</table>\n",
       "</div>"
      ],
      "text/plain": [
       "          topic7    topic11      topic1     topic14    topic10\n",
       "\\n      1.546552  22.382313  297.680320  139.907736  72.285955\n",
       "\\n      0.815140   0.062500   48.713359    0.062500   6.574988\n",
       "\\n \\n   0.062500   0.062500    0.062500    0.062500   1.966256\n",
       "\\n \\n   0.062500   0.062500    0.062500    0.062500   0.062500"
      ]
     },
     "execution_count": 29,
     "metadata": {},
     "output_type": "execute_result"
    }
   ],
   "source": [
    "pd.options.display.max_columns = 10\n",
    "\n",
    "topic_term_matrix = pd.DataFrame(ldia.components_, columns=terms,\n",
    "                                 index=['topic{}'.format(i) for i in range(16)])\n",
    "topic_term_matrix = topic_term_matrix.T\n",
    "topic_term_matrix.sample(5, axis='columns',random_state=271828).head(4)  # <1>"
   ]
  },
  {
   "cell_type": "code",
   "execution_count": 30,
   "id": "338b6e89-9d26-4f25-939e-10888d7dc38d",
   "metadata": {},
   "outputs": [
    {
     "data": {
      "text/html": [
       "<div>\n",
       "<style scoped>\n",
       "    .dataframe tbody tr th:only-of-type {\n",
       "        vertical-align: middle;\n",
       "    }\n",
       "\n",
       "    .dataframe tbody tr th {\n",
       "        vertical-align: top;\n",
       "    }\n",
       "\n",
       "    .dataframe thead th {\n",
       "        text-align: right;\n",
       "    }\n",
       "</style>\n",
       "<table border=\"1\" class=\"dataframe\">\n",
       "  <thead>\n",
       "    <tr style=\"text-align: right;\">\n",
       "      <th></th>\n",
       "      <th>topic0</th>\n",
       "      <th>topic1</th>\n",
       "      <th>topic2</th>\n",
       "      <th>topic3</th>\n",
       "      <th>...</th>\n",
       "      <th>topic12</th>\n",
       "      <th>topic13</th>\n",
       "      <th>topic14</th>\n",
       "      <th>topic15</th>\n",
       "    </tr>\n",
       "  </thead>\n",
       "  <tbody>\n",
       "    <tr>\n",
       "      <th>pathetic</th>\n",
       "      <td>1.110</td>\n",
       "      <td>0.063</td>\n",
       "      <td>0.063</td>\n",
       "      <td>0.063</td>\n",
       "      <td>...</td>\n",
       "      <td>0.063</td>\n",
       "      <td>0.063</td>\n",
       "      <td>0.063</td>\n",
       "      <td>0.063</td>\n",
       "    </tr>\n",
       "    <tr>\n",
       "      <th>crazy</th>\n",
       "      <td>0.063</td>\n",
       "      <td>0.063</td>\n",
       "      <td>3.158</td>\n",
       "      <td>0.063</td>\n",
       "      <td>...</td>\n",
       "      <td>0.063</td>\n",
       "      <td>0.063</td>\n",
       "      <td>0.063</td>\n",
       "      <td>0.063</td>\n",
       "    </tr>\n",
       "    <tr>\n",
       "      <th>stupid</th>\n",
       "      <td>1.606</td>\n",
       "      <td>0.606</td>\n",
       "      <td>8.303</td>\n",
       "      <td>1.141</td>\n",
       "      <td>...</td>\n",
       "      <td>0.063</td>\n",
       "      <td>0.063</td>\n",
       "      <td>1.290</td>\n",
       "      <td>4.213</td>\n",
       "    </tr>\n",
       "    <tr>\n",
       "      <th>idiot</th>\n",
       "      <td>1.169</td>\n",
       "      <td>9.203</td>\n",
       "      <td>0.063</td>\n",
       "      <td>0.063</td>\n",
       "      <td>...</td>\n",
       "      <td>0.063</td>\n",
       "      <td>0.063</td>\n",
       "      <td>0.063</td>\n",
       "      <td>0.063</td>\n",
       "    </tr>\n",
       "    <tr>\n",
       "      <th>lazy</th>\n",
       "      <td>1.794</td>\n",
       "      <td>0.063</td>\n",
       "      <td>1.260</td>\n",
       "      <td>0.063</td>\n",
       "      <td>...</td>\n",
       "      <td>0.063</td>\n",
       "      <td>0.063</td>\n",
       "      <td>0.063</td>\n",
       "      <td>0.063</td>\n",
       "    </tr>\n",
       "    <tr>\n",
       "      <th>hate</th>\n",
       "      <td>0.063</td>\n",
       "      <td>0.063</td>\n",
       "      <td>0.063</td>\n",
       "      <td>0.063</td>\n",
       "      <td>...</td>\n",
       "      <td>0.063</td>\n",
       "      <td>0.063</td>\n",
       "      <td>0.063</td>\n",
       "      <td>0.063</td>\n",
       "    </tr>\n",
       "    <tr>\n",
       "      <th>die</th>\n",
       "      <td>0.063</td>\n",
       "      <td>0.063</td>\n",
       "      <td>0.063</td>\n",
       "      <td>0.063</td>\n",
       "      <td>...</td>\n",
       "      <td>0.063</td>\n",
       "      <td>0.063</td>\n",
       "      <td>0.063</td>\n",
       "      <td>0.063</td>\n",
       "    </tr>\n",
       "    <tr>\n",
       "      <th>kill</th>\n",
       "      <td>0.063</td>\n",
       "      <td>2.986</td>\n",
       "      <td>1.065</td>\n",
       "      <td>0.063</td>\n",
       "      <td>...</td>\n",
       "      <td>0.063</td>\n",
       "      <td>0.063</td>\n",
       "      <td>31.450</td>\n",
       "      <td>0.063</td>\n",
       "    </tr>\n",
       "  </tbody>\n",
       "</table>\n",
       "<p>8 rows × 16 columns</p>\n",
       "</div>"
      ],
      "text/plain": [
       "          topic0  topic1  topic2  topic3  ...  topic12  topic13  topic14  \\\n",
       "pathetic   1.110   0.063   0.063   0.063  ...    0.063    0.063    0.063   \n",
       "crazy      0.063   0.063   3.158   0.063  ...    0.063    0.063    0.063   \n",
       "stupid     1.606   0.606   8.303   1.141  ...    0.063    0.063    1.290   \n",
       "idiot      1.169   9.203   0.063   0.063  ...    0.063    0.063    0.063   \n",
       "lazy       1.794   0.063   1.260   0.063  ...    0.063    0.063    0.063   \n",
       "hate       0.063   0.063   0.063   0.063  ...    0.063    0.063    0.063   \n",
       "die        0.063   0.063   0.063   0.063  ...    0.063    0.063    0.063   \n",
       "kill       0.063   2.986   1.065   0.063  ...    0.063    0.063   31.450   \n",
       "\n",
       "          topic15  \n",
       "pathetic    0.063  \n",
       "crazy       0.063  \n",
       "stupid      4.213  \n",
       "idiot       0.063  \n",
       "lazy        0.063  \n",
       "hate        0.063  \n",
       "die         0.063  \n",
       "kill        0.063  \n",
       "\n",
       "[8 rows x 16 columns]"
      ]
     },
     "execution_count": 30,
     "metadata": {},
     "output_type": "execute_result"
    }
   ],
   "source": [
    "pd.options.display.max_columns = 8\n",
    "toxic_terms = topic_term_matrix.loc[\n",
    "    'pathetic crazy stupid idiot lazy hate die kill'.split()\n",
    "    ].round(3) # <1>\n",
    "toxic_terms"
   ]
  },
  {
   "cell_type": "code",
   "execution_count": 31,
   "id": "6ffb9e29-b2ed-4325-95c3-f1075a26e633",
   "metadata": {},
   "outputs": [
    {
     "data": {
      "text/plain": [
       "that         2009.021405\n",
       "this         1200.169049\n",
       "article      1097.343368\n",
       "have          995.088012\n",
       "with          628.201093\n",
       "                ...     \n",
       "satin           0.062500\n",
       "knowles         0.062500\n",
       "dorridge        0.062500\n",
       "downloads       0.062500\n",
       "usstate         0.062500\n",
       "Name: topic2, Length: 15129, dtype: float64"
      ]
     },
     "execution_count": 31,
     "metadata": {},
     "output_type": "execute_result"
    }
   ],
   "source": [
    "non_trivial_terms = [term for term in topic_term_matrix.index \n",
    "                     if term.isalpha() and len(term)>3]\n",
    "\n",
    "topic_term_matrix.topic2.loc[non_trivial_terms].sort_values(ascending=False)"
   ]
  },
  {
   "cell_type": "code",
   "execution_count": 32,
   "id": "cbfce87a-1c68-45b3-ba16-d3ebefcb0cec",
   "metadata": {},
   "outputs": [
    {
     "data": {
      "text/html": [
       "<div>\n",
       "<style scoped>\n",
       "    .dataframe tbody tr th:only-of-type {\n",
       "        vertical-align: middle;\n",
       "    }\n",
       "\n",
       "    .dataframe tbody tr th {\n",
       "        vertical-align: top;\n",
       "    }\n",
       "\n",
       "    .dataframe thead th {\n",
       "        text-align: right;\n",
       "    }\n",
       "</style>\n",
       "<table border=\"1\" class=\"dataframe\">\n",
       "  <thead>\n",
       "    <tr style=\"text-align: right;\">\n",
       "      <th></th>\n",
       "      <th>topic0</th>\n",
       "      <th>topic1</th>\n",
       "      <th>topic2</th>\n",
       "      <th>topic3</th>\n",
       "      <th>...</th>\n",
       "      <th>topic12</th>\n",
       "      <th>topic13</th>\n",
       "      <th>topic14</th>\n",
       "      <th>topic15</th>\n",
       "    </tr>\n",
       "  </thead>\n",
       "  <tbody>\n",
       "    <tr>\n",
       "      <th>comment 0</th>\n",
       "      <td>0.0</td>\n",
       "      <td>0.00</td>\n",
       "      <td>0.00</td>\n",
       "      <td>0.23</td>\n",
       "      <td>...</td>\n",
       "      <td>0.0</td>\n",
       "      <td>0.0</td>\n",
       "      <td>0.00</td>\n",
       "      <td>0.0</td>\n",
       "    </tr>\n",
       "    <tr>\n",
       "      <th>comment 1</th>\n",
       "      <td>0.0</td>\n",
       "      <td>0.71</td>\n",
       "      <td>0.00</td>\n",
       "      <td>0.00</td>\n",
       "      <td>...</td>\n",
       "      <td>0.0</td>\n",
       "      <td>0.0</td>\n",
       "      <td>0.00</td>\n",
       "      <td>0.0</td>\n",
       "    </tr>\n",
       "    <tr>\n",
       "      <th>comment 2</th>\n",
       "      <td>0.0</td>\n",
       "      <td>0.00</td>\n",
       "      <td>0.00</td>\n",
       "      <td>0.45</td>\n",
       "      <td>...</td>\n",
       "      <td>0.0</td>\n",
       "      <td>0.0</td>\n",
       "      <td>0.00</td>\n",
       "      <td>0.0</td>\n",
       "    </tr>\n",
       "    <tr>\n",
       "      <th>comment 3</th>\n",
       "      <td>0.0</td>\n",
       "      <td>0.00</td>\n",
       "      <td>0.45</td>\n",
       "      <td>0.00</td>\n",
       "      <td>...</td>\n",
       "      <td>0.0</td>\n",
       "      <td>0.0</td>\n",
       "      <td>0.00</td>\n",
       "      <td>0.0</td>\n",
       "    </tr>\n",
       "    <tr>\n",
       "      <th>comment 4</th>\n",
       "      <td>0.0</td>\n",
       "      <td>0.00</td>\n",
       "      <td>0.73</td>\n",
       "      <td>0.00</td>\n",
       "      <td>...</td>\n",
       "      <td>0.0</td>\n",
       "      <td>0.0</td>\n",
       "      <td>0.04</td>\n",
       "      <td>0.0</td>\n",
       "    </tr>\n",
       "  </tbody>\n",
       "</table>\n",
       "<p>5 rows × 16 columns</p>\n",
       "</div>"
      ],
      "text/plain": [
       "           topic0  topic1  topic2  topic3  ...  topic12  topic13  \\\n",
       "comment 0     0.0    0.00    0.00    0.23  ...      0.0      0.0   \n",
       "comment 1     0.0    0.71    0.00    0.00  ...      0.0      0.0   \n",
       "comment 2     0.0    0.00    0.00    0.45  ...      0.0      0.0   \n",
       "comment 3     0.0    0.00    0.45    0.00  ...      0.0      0.0   \n",
       "comment 4     0.0    0.00    0.73    0.00  ...      0.0      0.0   \n",
       "\n",
       "           topic14  topic15  \n",
       "comment 0     0.00      0.0  \n",
       "comment 1     0.00      0.0  \n",
       "comment 2     0.00      0.0  \n",
       "comment 3     0.00      0.0  \n",
       "comment 4     0.04      0.0  \n",
       "\n",
       "[5 rows x 16 columns]"
      ]
     },
     "execution_count": 32,
     "metadata": {},
     "output_type": "execute_result"
    }
   ],
   "source": [
    "ldia16_topic_vectors = ldia.transform(bow_docs)\n",
    "ldia16_topic_vectors = pd.DataFrame(ldia16_topic_vectors,\\\n",
    "    index=index, columns=columns)\n",
    "ldia16_topic_vectors.round(2).head()"
   ]
  },
  {
   "cell_type": "markdown",
   "id": "f887dc54-9a59-4357-ae4a-7b6047a037ac",
   "metadata": {},
   "source": [
    "### Toxicity Predictions with LDiA"
   ]
  },
  {
   "cell_type": "code",
   "execution_count": 33,
   "id": "e167cca3-161d-4031-9b1e-719b9db02f8e",
   "metadata": {},
   "outputs": [],
   "source": [
    "# def evaluate_model(X,y, classifier, classifier_name, features):\n",
    "#     X_train, X_test, y_train, y_test = train_test_split(\n",
    "#         X, y, test_size=0.5, random_state=271828)\n",
    "#     classifier = classifier.fit(X_train, y_train)\n",
    "#     return hparam_rec(classifier, X_train, y_train, X_test,y_test,\n",
    "#                       classifier_name, features)"
   ]
  },
  {
   "cell_type": "code",
   "execution_count": 34,
   "id": "038a23c4-f27f-45f6-82c9-aa509d1f8e59",
   "metadata": {},
   "outputs": [],
   "source": [
    "model_ldia16 = LinearDiscriminantAnalysis()\n",
    "ldia16_performance = evaluate_model(ldia16_topic_vectors, comments.toxic.values.astype(int),\n",
    "                                    model_ldia16, 'LDA', 'LDIA(16 components)')"
   ]
  },
  {
   "cell_type": "code",
   "execution_count": 35,
   "id": "a80a053d-c893-4cc5-ad1f-795e4cb5c136",
   "metadata": {},
   "outputs": [
    {
     "data": {
      "text/plain": [
       "[{'classifier': 'LDA',\n",
       "  'features': 'LSA (16 components)',\n",
       "  'train_accuracy': 0.8796,\n",
       "  'test_accuracy': 0.8804,\n",
       "  'test_precision': 0.6030534351145038,\n",
       "  'test_recall': 0.24233128834355827,\n",
       "  'test_f1': 0.34573304157549234},\n",
       " {'classifier': 'LDA',\n",
       "  'features': 'LDIA(16 components)',\n",
       "  'train_accuracy': 0.8748,\n",
       "  'test_accuracy': 0.8756,\n",
       "  'test_precision': 0.6086956521739131,\n",
       "  'test_recall': 0.12883435582822086,\n",
       "  'test_f1': 0.21265822784810126}]"
      ]
     },
     "execution_count": 35,
     "metadata": {},
     "output_type": "execute_result"
    }
   ],
   "source": [
    "hparam_table.append(ldia16_performance)\n",
    "hparam_table"
   ]
  },
  {
   "cell_type": "markdown",
   "id": "136cccad-853b-4862-b4bc-d9f216df9538",
   "metadata": {},
   "source": [
    "### LDiA with 32 Topics"
   ]
  },
  {
   "cell_type": "code",
   "execution_count": 36,
   "id": "f18a80d6-eb64-49cf-8ba3-72c00851d868",
   "metadata": {},
   "outputs": [],
   "source": [
    "ldia32 = LDiA(n_components=32, learning_method='batch')\n",
    "ldia32 = ldia32.fit(bow_docs)  # <1>"
   ]
  },
  {
   "cell_type": "code",
   "execution_count": 37,
   "id": "e57bdb3f-f8c4-45b5-9928-9c5e71ebd23e",
   "metadata": {},
   "outputs": [
    {
     "data": {
      "text/html": [
       "<div>\n",
       "<style scoped>\n",
       "    .dataframe tbody tr th:only-of-type {\n",
       "        vertical-align: middle;\n",
       "    }\n",
       "\n",
       "    .dataframe tbody tr th {\n",
       "        vertical-align: top;\n",
       "    }\n",
       "\n",
       "    .dataframe thead th {\n",
       "        text-align: right;\n",
       "    }\n",
       "</style>\n",
       "<table border=\"1\" class=\"dataframe\">\n",
       "  <thead>\n",
       "    <tr style=\"text-align: right;\">\n",
       "      <th></th>\n",
       "      <th>topic0</th>\n",
       "      <th>topic1</th>\n",
       "      <th>topic2</th>\n",
       "      <th>topic3</th>\n",
       "      <th>...</th>\n",
       "      <th>topic28</th>\n",
       "      <th>topic29</th>\n",
       "      <th>topic30</th>\n",
       "      <th>topic31</th>\n",
       "    </tr>\n",
       "  </thead>\n",
       "  <tbody>\n",
       "    <tr>\n",
       "      <th>comment 0</th>\n",
       "      <td>0.0</td>\n",
       "      <td>0.45</td>\n",
       "      <td>0.00</td>\n",
       "      <td>0.0</td>\n",
       "      <td>...</td>\n",
       "      <td>0.0</td>\n",
       "      <td>0.0</td>\n",
       "      <td>0.0</td>\n",
       "      <td>0.0</td>\n",
       "    </tr>\n",
       "    <tr>\n",
       "      <th>comment 1</th>\n",
       "      <td>0.0</td>\n",
       "      <td>0.00</td>\n",
       "      <td>0.00</td>\n",
       "      <td>0.0</td>\n",
       "      <td>...</td>\n",
       "      <td>0.0</td>\n",
       "      <td>0.0</td>\n",
       "      <td>0.0</td>\n",
       "      <td>0.0</td>\n",
       "    </tr>\n",
       "    <tr>\n",
       "      <th>comment 2</th>\n",
       "      <td>0.0</td>\n",
       "      <td>0.37</td>\n",
       "      <td>0.00</td>\n",
       "      <td>0.0</td>\n",
       "      <td>...</td>\n",
       "      <td>0.0</td>\n",
       "      <td>0.0</td>\n",
       "      <td>0.0</td>\n",
       "      <td>0.0</td>\n",
       "    </tr>\n",
       "    <tr>\n",
       "      <th>comment 3</th>\n",
       "      <td>0.0</td>\n",
       "      <td>0.60</td>\n",
       "      <td>0.00</td>\n",
       "      <td>0.0</td>\n",
       "      <td>...</td>\n",
       "      <td>0.0</td>\n",
       "      <td>0.0</td>\n",
       "      <td>0.0</td>\n",
       "      <td>0.0</td>\n",
       "    </tr>\n",
       "    <tr>\n",
       "      <th>comment 4</th>\n",
       "      <td>0.0</td>\n",
       "      <td>0.00</td>\n",
       "      <td>0.04</td>\n",
       "      <td>0.0</td>\n",
       "      <td>...</td>\n",
       "      <td>0.0</td>\n",
       "      <td>0.0</td>\n",
       "      <td>0.0</td>\n",
       "      <td>0.0</td>\n",
       "    </tr>\n",
       "  </tbody>\n",
       "</table>\n",
       "<p>5 rows × 32 columns</p>\n",
       "</div>"
      ],
      "text/plain": [
       "           topic0  topic1  topic2  topic3  ...  topic28  topic29  \\\n",
       "comment 0     0.0    0.45    0.00     0.0  ...      0.0      0.0   \n",
       "comment 1     0.0    0.00    0.00     0.0  ...      0.0      0.0   \n",
       "comment 2     0.0    0.37    0.00     0.0  ...      0.0      0.0   \n",
       "comment 3     0.0    0.60    0.00     0.0  ...      0.0      0.0   \n",
       "comment 4     0.0    0.00    0.04     0.0  ...      0.0      0.0   \n",
       "\n",
       "           topic30  topic31  \n",
       "comment 0      0.0      0.0  \n",
       "comment 1      0.0      0.0  \n",
       "comment 2      0.0      0.0  \n",
       "comment 3      0.0      0.0  \n",
       "comment 4      0.0      0.0  \n",
       "\n",
       "[5 rows x 32 columns]"
      ]
     },
     "execution_count": 37,
     "metadata": {},
     "output_type": "execute_result"
    }
   ],
   "source": [
    "model_ldia32 = LinearDiscriminantAnalysis()\n",
    "ldia32_topic_vectors = ldia32.transform(bow_docs)\n",
    "columns = ['topic{}'.format(i) for i in range(ldia32.n_components)]\n",
    "\n",
    "ldia32_topic_vectors = pd.DataFrame(ldia32_topic_vectors,\\\n",
    "    index=index, columns=columns)\n",
    "ldia32_topic_vectors.round(2).head()"
   ]
  },
  {
   "cell_type": "code",
   "execution_count": 38,
   "id": "78c828e7-0fb0-4e62-94b1-31c65e1b0ea3",
   "metadata": {},
   "outputs": [],
   "source": [
    "ldia32_performance = evaluate_model(ldia32_topic_vectors, comments.toxic.values.astype(int),\n",
    "                                    model_ldia32, 'LDA', 'LDIA(32 components)')"
   ]
  },
  {
   "cell_type": "code",
   "execution_count": 39,
   "id": "aa8f858d-50f4-43ec-8009-f1cc86417bbb",
   "metadata": {},
   "outputs": [
    {
     "data": {
      "text/plain": [
       "[{'classifier': 'LDA',\n",
       "  'features': 'LSA (16 components)',\n",
       "  'train_accuracy': 0.8796,\n",
       "  'test_accuracy': 0.8804,\n",
       "  'test_precision': 0.6030534351145038,\n",
       "  'test_recall': 0.24233128834355827,\n",
       "  'test_f1': 0.34573304157549234},\n",
       " {'classifier': 'LDA',\n",
       "  'features': 'LDIA(16 components)',\n",
       "  'train_accuracy': 0.8748,\n",
       "  'test_accuracy': 0.8756,\n",
       "  'test_precision': 0.6086956521739131,\n",
       "  'test_recall': 0.12883435582822086,\n",
       "  'test_f1': 0.21265822784810126},\n",
       " {'classifier': 'LDA',\n",
       "  'features': 'LDIA(32 components)',\n",
       "  'train_accuracy': 0.874,\n",
       "  'test_accuracy': 0.8696,\n",
       "  'test_precision': 0.5,\n",
       "  'test_recall': 0.1165644171779141,\n",
       "  'test_f1': 0.1890547263681592}]"
      ]
     },
     "execution_count": 39,
     "metadata": {},
     "output_type": "execute_result"
    }
   ],
   "source": [
    "hparam_table.append(ldia32_performance)\n",
    "hparam_table"
   ]
  },
  {
   "cell_type": "markdown",
   "id": "ddc8ad98-c718-4e47-8586-c03a478412bd",
   "metadata": {},
   "source": [
    "**the above scores are not as expected, there may be errors in the code**"
   ]
  },
  {
   "cell_type": "code",
   "execution_count": null,
   "id": "af438073-ad99-491d-b5e1-b25bd62c0563",
   "metadata": {},
   "outputs": [],
   "source": []
  }
 ],
 "metadata": {
  "kernelspec": {
   "display_name": "Python 3 (ipykernel)",
   "language": "python",
   "name": "python3"
  },
  "language_info": {
   "codemirror_mode": {
    "name": "ipython",
    "version": 3
   },
   "file_extension": ".py",
   "mimetype": "text/x-python",
   "name": "python",
   "nbconvert_exporter": "python",
   "pygments_lexer": "ipython3",
   "version": "3.11.8"
  }
 },
 "nbformat": 4,
 "nbformat_minor": 5
}
