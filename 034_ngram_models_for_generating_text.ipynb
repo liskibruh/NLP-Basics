{
 "cells": [
  {
   "cell_type": "markdown",
   "id": "f355e052",
   "metadata": {},
   "source": [
    "<center> <b> Owais Tahir </b> </center>\n",
    "<center> <b> P23-8004 </b> </center>\n",
    "<center> <b> MS(DS) </b> </center>"
   ]
  },
  {
   "cell_type": "markdown",
   "id": "5cb78e6c",
   "metadata": {},
   "source": [
    "# Task 1"
   ]
  },
  {
   "cell_type": "code",
   "execution_count": 1,
   "id": "45616291",
   "metadata": {},
   "outputs": [],
   "source": [
    "def load_text(path):\n",
    "    with open (path, 'r', encoding='utf-8') as file:\n",
    "        lines = [line.strip() for line in file if line.strip()]\n",
    "    \n",
    "    return lines"
   ]
  },
  {
   "cell_type": "code",
   "execution_count": 2,
   "id": "d53244c9",
   "metadata": {},
   "outputs": [
    {
     "data": {
      "text/plain": [
       "['بازیچۂ اطفال ہے دنیا مرے آگے',\n",
       " 'ہوتا ہے شب و روز تماشا مرے آگے',\n",
       " 'اک کھیل ہے اورنگ سلیماں مرے نزدیک',\n",
       " 'اک بات ہے اعجاز مسیحا مرے آگے',\n",
       " 'جز نام نہیں صورت عالم مجھے منظور']"
      ]
     },
     "execution_count": 2,
     "metadata": {},
     "output_type": "execute_result"
    }
   ],
   "source": [
    "text_file_paths = ['ghalib.txt', 'faiz.txt', 'iqbal.txt']\n",
    "cleaned_text = []\n",
    "lines = []\n",
    "\n",
    "for each_path in text_file_paths:\n",
    "    text = load_text(each_path)\n",
    "    lines.extend(text)\n",
    "    \n",
    "lines[0:5]"
   ]
  },
  {
   "cell_type": "code",
   "execution_count": 3,
   "id": "0bc1c301",
   "metadata": {},
   "outputs": [],
   "source": [
    "import spacy\n",
    "import random\n",
    "\n",
    "def tokenize_text(lines):\n",
    "    nlp = spacy.blank(\"ur\")\n",
    "    tokens = []\n",
    "    for line in lines:\n",
    "        doc = nlp(line)\n",
    "        tokens.extend([token.text for token in doc if not token.is_space])\n",
    "    return tokens"
   ]
  },
  {
   "cell_type": "code",
   "execution_count": 4,
   "id": "1188894f",
   "metadata": {},
   "outputs": [],
   "source": [
    "def train_unigram_model(tokens):\n",
    "    return tokens\n",
    "\n",
    "def train_bigram_model(tokens):\n",
    "    bigrams = [(tokens[i], tokens[i + 1]) for i in range(len(tokens) - 1)]\n",
    "    return bigrams"
   ]
  },
  {
   "cell_type": "code",
   "execution_count": 5,
   "id": "e2c2c51c",
   "metadata": {},
   "outputs": [],
   "source": [
    "def generate_poetry_unigram(tokens, num_stanzas=4, lines_per_stanza=4, words_per_line=7):\n",
    "    generated_poetry = []\n",
    "    for _ in range(num_stanzas):\n",
    "        stanza = []\n",
    "        for _ in range(lines_per_stanza):\n",
    "            line = [random.choice(tokens) for _ in range(words_per_line)]\n",
    "            stanza.append(' '.join(line))\n",
    "        generated_poetry.extend(stanza)\n",
    "        generated_poetry.append('')\n",
    "    return '\\n'.join(generated_poetry)\n",
    "\n",
    "def generate_poetry_bigram(tokens, bigrams, num_stanzas=4, lines_per_stanza=4, words_per_line=7):\n",
    "    generated_poetry = []\n",
    "    for _ in range(num_stanzas):\n",
    "        stanza = []\n",
    "        for _ in range(lines_per_stanza):\n",
    "            line = [random.choice(tokens)]\n",
    "            for _ in range(words_per_line - 1):\n",
    "                last_word = line[-1]\n",
    "                possible_bigrams = [bigram for bigram in bigrams if bigram[0] == last_word]\n",
    "                if possible_bigrams:\n",
    "                    next_word = random.choice(possible_bigrams)[1]\n",
    "                else:\n",
    "                    next_word = random.choice(tokens)\n",
    "                line.append(next_word)\n",
    "            stanza.append(' '.join(line))\n",
    "        generated_poetry.extend(stanza)\n",
    "        generated_poetry.append('')\n",
    "    return '\\n'.join(generated_poetry)"
   ]
  },
  {
   "cell_type": "code",
   "execution_count": 6,
   "id": "4c85ae03",
   "metadata": {},
   "outputs": [
    {
     "name": "stdout",
     "output_type": "stream",
     "text": [
      "Unigram Model Poetry:\n",
      "معشوق آفریدہ کیا کیوں جو ہے صدف\n",
      "کر بینش بلند زندگی وسعت گا یہ\n",
      "بجلی ’ تنگئ ‘ ورنہ جل دکھ\n",
      "چراغاں خون نازک کھجاتا خود رعونت کیا\n",
      "\n",
      "کہاں زوال اہلِ فقط سمجھتا ہیں ہے\n",
      "حسرت کو بتاں یاں کسے ! ہوئے\n",
      "کے کیا فسون جگر کون جام سیم\n",
      "نظریں ہے گاہ چمن “ اس تم\n",
      "\n",
      "گل جستجو دل دولت تھا کرتی گزر\n",
      "اعتبارِ رہنے جگہ یا فلکِ قسمت اس\n",
      "پڑا پر ہو تم عضو اپنا مجھے\n",
      "جگر تیغِ شوخیِ خشک گری ہوتا مر\n",
      "\n",
      "! کہ فرقاں والے و شعلہٴ ہم\n",
      "دھمکی اسی میں لگے نازک ریزِ ملتیں\n",
      "جنوں سراپا بے ہے ‘ خانے جزا\n",
      "ماندگی ہم ہے دام مرد کیا آئے\n",
      "\n",
      "\n",
      "Bigram Model Poetry:\n",
      "کا سمجھا شرحِ اسبابِ تمنا ستاتی رہی\n",
      "وفا کسی صورت نظر آيہ ' کیا\n",
      "آہنگ دنیا میں ! کہ رفت ،\n",
      "کہ پھر ہوشیار ہوگا زمانہ مرادِ دلِ\n",
      "\n",
      "اس رہ خوابیدہ نہ تھے بے رحمیِ\n",
      "نہ تو بھی ضرور کی قدرت ہے\n",
      "گا اُس کو حجاز کی قاعدے سے\n",
      "ہے ملوکیت آثار جنوں کی گلی جب\n",
      "\n",
      "رات ہے فردوس کی کیا جدا اقبال\n",
      "نہیں بھلا نہ پوچھ ننگ بالیدن ہیں\n",
      "نہیں ہے طاؤس ہے موجزن اک تماشا\n",
      "قائد ، کچھ بھی راضی کہ پھر\n",
      "\n",
      "خانقاہ جات مٹا سکا نظر کا ہے\n",
      "بزمِ غنچہ اگر فرصت برسرِ ذاقِ فنا\n",
      "عنبریں کیوں ؟ موج غم میرا قد\n",
      "دائم نقاب آئے جو نہ اٹھیں یہ\n",
      "\n"
     ]
    }
   ],
   "source": [
    "# tokenize text\n",
    "tokens = tokenize_text(lines)\n",
    "\n",
    "# train unigram model\n",
    "unigram_model = train_unigram_model(tokens)\n",
    "\n",
    "# train bigram model\n",
    "bigram_model = train_bigram_model(tokens)\n",
    "\n",
    "# generate poetry using the unigram model\n",
    "poetry_unigram = generate_poetry_unigram(tokens)\n",
    "print(\"Unigram Model Poetry:\")\n",
    "print(poetry_unigram)\n",
    "\n",
    "# generate poetry using the bigram model\n",
    "poetry_bigram = generate_poetry_bigram(tokens, bigram_model)\n",
    "print(\"\\nBigram Model Poetry:\")\n",
    "print(poetry_bigram)"
   ]
  },
  {
   "cell_type": "markdown",
   "id": "198e86d6",
   "metadata": {},
   "source": [
    "# Task 2"
   ]
  },
  {
   "cell_type": "code",
   "execution_count": 7,
   "id": "51d6712e",
   "metadata": {},
   "outputs": [
    {
     "data": {
      "text/plain": [
       "['بازیچۂ اطفال ہے دنیا مرے آگے',\n",
       " 'ہوتا ہے شب و روز تماشا مرے آگے',\n",
       " 'اک کھیل ہے اورنگ سلیماں مرے نزدیک',\n",
       " 'اک بات ہے اعجاز مسیحا مرے آگے',\n",
       " 'جز نام نہیں صورت عالم مجھے منظور']"
      ]
     },
     "execution_count": 7,
     "metadata": {},
     "output_type": "execute_result"
    }
   ],
   "source": [
    "#read data\n",
    "import pandas as pd\n",
    "\n",
    "lines = []\n",
    "file_paths = ['ghalib.txt', 'faiz.txt', 'ghalib.txt']\n",
    "\n",
    "def load_text(path):\n",
    "    with open (path, 'r', encoding='utf-8') as file:\n",
    "        lines = [line.strip() for line in file if line.strip()]\n",
    "    \n",
    "    return lines\n",
    "\n",
    "for each_path in file_paths:\n",
    "    text = load_text(each_path)\n",
    "    lines.extend(text)\n",
    "    \n",
    "lines[0:5]"
   ]
  },
  {
   "cell_type": "code",
   "execution_count": 8,
   "id": "5661d285",
   "metadata": {},
   "outputs": [],
   "source": [
    "#tokenize text\n",
    "import re\n",
    "\n",
    "words = []\n",
    "\n",
    "for each_line in lines:\n",
    "    words.extend(re.findall(r'\\b\\w+\\b', each_line))"
   ]
  },
  {
   "cell_type": "code",
   "execution_count": 9,
   "id": "4e9f56fe",
   "metadata": {},
   "outputs": [],
   "source": [
    "#function for creating n-grams\n",
    "\n",
    "def create_ngrams(n, words, backward=False, bidirectional=False):\n",
    "    ngrams = []\n",
    "    for i in range(len(words) - (n - 1)):\n",
    "        if not bidirectional or not backward:\n",
    "            if not backward:\n",
    "                ngram = \" \".join(words[i:i + n])  # regular n-gram\n",
    "            else:\n",
    "                ngram = \" \".join(words[i:i + n][::-1])  # backward n-gram\n",
    "            ngrams.append(ngram)\n",
    "        else:\n",
    "            regular_ngram = \" \".join(words[i:i + n])  # regular n-gram\n",
    "            backward_ngram = \" \".join(words[i:i + n][::-1])  # backward n-gram\n",
    "            ngrams.extend([regular_ngram, backward_ngram]) # bidirectional n-gram\n",
    "    return ngrams"
   ]
  },
  {
   "cell_type": "code",
   "execution_count": 10,
   "id": "0bc77b5d",
   "metadata": {},
   "outputs": [],
   "source": [
    "#function for generating stanzas\n",
    "import random\n",
    "\n",
    "def generate_stanzas(num_stanzas, num_verses, grams_per_verse, grams):\n",
    "    stanzas = []\n",
    "    for _ in range(num_stanzas):\n",
    "        stanza = []\n",
    "        for _ in range(num_verses):\n",
    "            current_verse = []\n",
    "            #append 1st word in the verse\n",
    "            current_verse.append(random.choice(grams))\n",
    "            for _ in range(grams_per_verse - 1):  #we've already appended one gram, so subtract 1\n",
    "                current_verse.append(random.choice(grams))\n",
    "                \n",
    "            #reverse (because Urdu text) and join the words in the verse\n",
    "            current_verse = \" \".join(current_verse[::-1])\n",
    "            stanza.append(current_verse)\n",
    "            \n",
    "        stanzas.append(stanza)\n",
    "        \n",
    "    return stanzas"
   ]
  },
  {
   "cell_type": "code",
   "execution_count": 11,
   "id": "291e96f2",
   "metadata": {},
   "outputs": [],
   "source": [
    "#function for printing the entire poem\n",
    "\n",
    "def print_poem(stanzas):\n",
    "    for stanza in stanzas:\n",
    "        for verse in stanza:\n",
    "            print(verse)\n",
    "        print()  #print an empty line between stanzas"
   ]
  },
  {
   "cell_type": "markdown",
   "id": "133c50eb",
   "metadata": {},
   "source": [
    "### Bigrams Poem"
   ]
  },
  {
   "cell_type": "code",
   "execution_count": 12,
   "id": "a15d53e4",
   "metadata": {},
   "outputs": [
    {
     "name": "stdout",
     "output_type": "stream",
     "text": [
      "شایان دست کھا گئی قیامت قامتوں خمار رسوم\n",
      "و نہ بھی جلدی ایک کاسۂ ہو گئیں\n",
      "جاوے مجھ کوئي پوچھے خاک ہو اسے مجھ\n",
      "درد کی جائیں یا زیادہ خستۂ تھا جل\n",
      "\n",
      "غالب تم اچھل رہے معلوم کون نہ ہو\n",
      "دوست یہ سے چنتا شرر ہوتے گنج کو\n",
      "کہ نظر ملیں کہاں ہو نہ ہنگامۂ زبونی\n",
      "میں بھی تھا فرش کہ میں روزگار تھا\n",
      "\n",
      "میں کوئی میں اک پوچھو کہ شہر چراغاں\n",
      "کشوں کو کہیں ا مرغ گرفتار کوۓ ملامت\n",
      "ناعاقبت اندیش ہم میں ساحل دریائے طبیعت نے\n",
      "نعش کو ہوں دل سکو بھلا سے وہ\n",
      "\n"
     ]
    }
   ],
   "source": [
    "bigrams = create_ngrams(n=2, words=words)\n",
    "stanzas = generate_stanzas(num_stanzas=3, num_verses=4, grams_per_verse=4, grams=bigrams)\n",
    "print_poem(stanzas)"
   ]
  },
  {
   "cell_type": "markdown",
   "id": "126aa31d",
   "metadata": {},
   "source": [
    "### Trigrams Poem"
   ]
  },
  {
   "cell_type": "code",
   "execution_count": 13,
   "id": "624e3d4e",
   "metadata": {},
   "outputs": [
    {
     "name": "stdout",
     "output_type": "stream",
     "text": [
      "طرفہ دل کشا کی وہ میرا صبا ہے کس اور کہہ کے\n",
      "جب آنکھ ہی کا چرایا زخم مزا نہ ہوا ہے اہل خاک\n",
      "درد ہوتا ہے ہے ہوں گرمی غالب وحشی ہ خم میرا اسد\n",
      "مسلماں سمجھا پھر ہو رشک فارسی مزا پایا درد شگفتن گلہاے عیش\n",
      "\n",
      "سکتا جو کبھی وہی دل کا دل ی میں غم اور کیا\n",
      "آتشیں سے بال سے پہلے آدمی صہبا مرے آگے تمثال ناز جلوۂ\n",
      "گ ل خزانی دل دلستاں روانہ گرگ تھی اسد کہتے ہو نہ\n",
      "تصو ر جاناں خست شراب میں اب لائیں گے کا تو اور\n",
      "\n",
      "کہاں کچھ خیال ہے مرا کام کا یاں زمیں کش گفتگو نہ\n",
      "ہی میں ہونی کا نام لوں حقیقت سے بعد کس سے میں\n",
      "ہے تقاضائے جفا واسطے آخر گناہگار انتظار تمنا کہیں ہو دین و\n",
      "کیوں غالب خستہ خلد امیدوار گہہ ایک بار روانہ تو کوہ گراں\n",
      "\n"
     ]
    }
   ],
   "source": [
    "trigrams = create_ngrams(n=3, words=words)\n",
    "stanzas = generate_stanzas(num_stanzas=3, num_verses=4, grams_per_verse=4, grams=trigrams)\n",
    "print_poem(stanzas)"
   ]
  },
  {
   "cell_type": "markdown",
   "id": "ef06cf9b",
   "metadata": {},
   "source": [
    "### Backward Bigrams Poem"
   ]
  },
  {
   "cell_type": "code",
   "execution_count": 14,
   "id": "4abfa59b",
   "metadata": {},
   "outputs": [
    {
     "name": "stdout",
     "output_type": "stream",
     "text": [
      "نوحہ رکھوں ہے دوستی جو ہے غالب اٹھایا\n",
      "مے خیال آہو رم نے تو میں حضور\n",
      "جاں اگرچہ پ ہےا طرف یک مجنوں نے\n",
      "ہوں میں کی ارغواں سے کہنے دار آب\n",
      "\n",
      "گزر سے کبھی آپکو ہمارے پیراہن میں پردے\n",
      "تھا روزگار کنج خال پسند مشکل دوست کیوں\n",
      "بیاباں خیال سے تن اے کی میں خواب\n",
      "بیٹھا ہوں گزر دل دریغ کیوں کہاں یہ\n",
      "\n",
      "تمثال ہو غیر انھیں بعد کے Rahay Badaltay\n",
      "ادا یہ نکتہ ہے مژگان بھی نزول کا\n",
      "ہیں دیکھتے تاکہ دوست تو ہوتی چپ جو\n",
      "کیوں آئے مسجد کیا عنبریں زلف ہر جام\n",
      "\n"
     ]
    }
   ],
   "source": [
    "back_bigrams = create_ngrams(n=2, words=words, backward=True)\n",
    "stanzas = generate_stanzas(num_stanzas=3, num_verses=4, grams_per_verse=4, grams=back_bigrams)\n",
    "print_poem(stanzas)"
   ]
  },
  {
   "cell_type": "markdown",
   "id": "12a200e7",
   "metadata": {},
   "source": [
    "### Bidirectional Bigrams Poem"
   ]
  },
  {
   "cell_type": "code",
   "execution_count": 15,
   "id": "e5c3c3f1",
   "metadata": {},
   "outputs": [
    {
     "name": "stdout",
     "output_type": "stream",
     "text": [
      "جیسے کسی کیا ہے نے پھر شرح اسباب\n",
      "جاں کی جدا ہر عشق نبرد اہل فنا\n",
      "تش گل ہ ے ترک رسوم آہ بے\n",
      "جو یا لگے بنا میرا اسد غبار خاطر\n",
      "\n",
      "بھی راضی ہنگامۂ محفل لیے لوح دوں یا\n",
      "بلا آئنہ تو خواب آيئنہٴ بے بے مہر\n",
      "میں یہ کا کہ دیکھ سکتا وہ زمانہ\n",
      "تمنا جل ديکھوں کہ نامۂ اعمال اختیار شوق\n",
      "\n",
      "ئینہ بند آئیو سر یار کی جاوید گوارا\n",
      "کچھ نھیں بہ ہر خ نگار پر پیچ\n",
      "دود تھا سے تپش دنداں نکلا آئینۂ دل\n",
      "استواری اصل نہ ہوتا دوا پائی افشاں جو\n",
      "\n"
     ]
    }
   ],
   "source": [
    "bidir_bigrams = create_ngrams(n=2, words=words, bidirectional=True)\n",
    "stanzas = generate_stanzas(num_stanzas=3, num_verses=4, grams_per_verse=4, grams=bidir_bigrams)\n",
    "print_poem(stanzas)"
   ]
  }
 ],
 "metadata": {
  "kernelspec": {
   "display_name": "Python 3 (ipykernel)",
   "language": "python",
   "name": "python3"
  },
  "language_info": {
   "codemirror_mode": {
    "name": "ipython",
    "version": 3
   },
   "file_extension": ".py",
   "mimetype": "text/x-python",
   "name": "python",
   "nbconvert_exporter": "python",
   "pygments_lexer": "ipython3",
   "version": "3.11.5"
  }
 },
 "nbformat": 4,
 "nbformat_minor": 5
}
