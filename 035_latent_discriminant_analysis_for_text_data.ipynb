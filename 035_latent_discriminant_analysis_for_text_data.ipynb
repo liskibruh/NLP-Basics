{
 "cells": [
  {
   "cell_type": "code",
   "execution_count": 1,
   "id": "8c15f667",
   "metadata": {},
   "outputs": [],
   "source": [
    "import pandas as pd\n",
    "pd.options.display.width = 120"
   ]
  },
  {
   "cell_type": "code",
   "execution_count": 2,
   "id": "15e5379c",
   "metadata": {},
   "outputs": [
    {
     "data": {
      "text/plain": [
       "5000"
      ]
     },
     "execution_count": 2,
     "metadata": {},
     "output_type": "execute_result"
    }
   ],
   "source": [
    "DATA_DIR = ('https://gitlab.com/tangibleai/nlpia/'\n",
    "            '-/raw/master/src/nlpia/data')\n",
    "\n",
    "url = DATA_DIR + '/toxic_comment_small.csv'\n",
    "\n",
    "comments = pd.read_csv(url)\n",
    "index = [f'comment {i},{\"!\"*j}' for (i,j) in zip(range(len(comments)), comments.toxic)]\n",
    "comments = pd.DataFrame(comments.values, columns=comments.columns, index=index)\n",
    "mask = comments.toxic.astype(bool).values\n",
    "comments['toxic'] = comments.toxic.astype(int)\n",
    "len(comments)"
   ]
  },
  {
   "cell_type": "code",
   "execution_count": 3,
   "id": "3b0a9bd4",
   "metadata": {},
   "outputs": [
    {
     "data": {
      "text/html": [
       "<div>\n",
       "<style scoped>\n",
       "    .dataframe tbody tr th:only-of-type {\n",
       "        vertical-align: middle;\n",
       "    }\n",
       "\n",
       "    .dataframe tbody tr th {\n",
       "        vertical-align: top;\n",
       "    }\n",
       "\n",
       "    .dataframe thead th {\n",
       "        text-align: right;\n",
       "    }\n",
       "</style>\n",
       "<table border=\"1\" class=\"dataframe\">\n",
       "  <thead>\n",
       "    <tr style=\"text-align: right;\">\n",
       "      <th></th>\n",
       "      <th>text</th>\n",
       "      <th>toxic</th>\n",
       "    </tr>\n",
       "  </thead>\n",
       "  <tbody>\n",
       "    <tr>\n",
       "      <th>comment 0,</th>\n",
       "      <td>you have yet to identify where my edits violat...</td>\n",
       "      <td>0</td>\n",
       "    </tr>\n",
       "    <tr>\n",
       "      <th>comment 1,</th>\n",
       "      <td>\"\\n as i have already said,wp:rfc or wp:ani. (...</td>\n",
       "      <td>0</td>\n",
       "    </tr>\n",
       "    <tr>\n",
       "      <th>comment 2,</th>\n",
       "      <td>your vote on wikiquote simple english when it ...</td>\n",
       "      <td>0</td>\n",
       "    </tr>\n",
       "    <tr>\n",
       "      <th>comment 3,</th>\n",
       "      <td>your stalking of my edits i've opened a thread...</td>\n",
       "      <td>0</td>\n",
       "    </tr>\n",
       "    <tr>\n",
       "      <th>comment 4,!</th>\n",
       "      <td>straight from the smear site itself. the perso...</td>\n",
       "      <td>1</td>\n",
       "    </tr>\n",
       "    <tr>\n",
       "      <th>...</th>\n",
       "      <td>...</td>\n",
       "      <td>...</td>\n",
       "    </tr>\n",
       "    <tr>\n",
       "      <th>comment 4995,</th>\n",
       "      <td>\"\\nyeah, sorry about that.  i didn't look clos...</td>\n",
       "      <td>0</td>\n",
       "    </tr>\n",
       "    <tr>\n",
       "      <th>comment 4996,</th>\n",
       "      <td>\"hmm, interesting.. oh, why would i make fun o...</td>\n",
       "      <td>0</td>\n",
       "    </tr>\n",
       "    <tr>\n",
       "      <th>comment 4997,!</th>\n",
       "      <td>\"put up or shut up\\nto all you people who thin...</td>\n",
       "      <td>1</td>\n",
       "    </tr>\n",
       "    <tr>\n",
       "      <th>comment 4998,!</th>\n",
       "      <td>this is your last warning \\nim warning u respo...</td>\n",
       "      <td>1</td>\n",
       "    </tr>\n",
       "    <tr>\n",
       "      <th>comment 4999,</th>\n",
       "      <td>sammy\\nyes i can see why it might be considere...</td>\n",
       "      <td>0</td>\n",
       "    </tr>\n",
       "  </tbody>\n",
       "</table>\n",
       "<p>5000 rows × 2 columns</p>\n",
       "</div>"
      ],
      "text/plain": [
       "                                                             text  toxic\n",
       "comment 0,      you have yet to identify where my edits violat...      0\n",
       "comment 1,      \"\\n as i have already said,wp:rfc or wp:ani. (...      0\n",
       "comment 2,      your vote on wikiquote simple english when it ...      0\n",
       "comment 3,      your stalking of my edits i've opened a thread...      0\n",
       "comment 4,!     straight from the smear site itself. the perso...      1\n",
       "...                                                           ...    ...\n",
       "comment 4995,   \"\\nyeah, sorry about that.  i didn't look clos...      0\n",
       "comment 4996,   \"hmm, interesting.. oh, why would i make fun o...      0\n",
       "comment 4997,!  \"put up or shut up\\nto all you people who thin...      1\n",
       "comment 4998,!  this is your last warning \\nim warning u respo...      1\n",
       "comment 4999,   sammy\\nyes i can see why it might be considere...      0\n",
       "\n",
       "[5000 rows x 2 columns]"
      ]
     },
     "execution_count": 3,
     "metadata": {},
     "output_type": "execute_result"
    }
   ],
   "source": [
    "comments"
   ]
  },
  {
   "cell_type": "code",
   "execution_count": 4,
   "id": "70f3b02c",
   "metadata": {},
   "outputs": [
    {
     "name": "stderr",
     "output_type": "stream",
     "text": [
      "C:\\Users\\oo_wa\\.conda\\envs\\nlpia2\\Lib\\site-packages\\sklearn\\feature_extraction\\text.py:525: UserWarning: The parameter 'token_pattern' will not be used since 'tokenizer' is not None'\n",
      "  warnings.warn(\n"
     ]
    },
    {
     "data": {
      "text/plain": [
       "(5000, 19160)"
      ]
     },
     "execution_count": 4,
     "metadata": {},
     "output_type": "execute_result"
    }
   ],
   "source": [
    "from sklearn.feature_extraction.text import TfidfVectorizer\n",
    "import spacy\n",
    "nlp = spacy.load(\"en_core_web_sm\")\n",
    "\n",
    "def spacy_tokenize(sentence):\n",
    "    return [token.text for token in nlp(sentence.lower())]\n",
    "\n",
    "tfidf_model = TfidfVectorizer(tokenizer=spacy_tokenize)\n",
    "tfidf_docs = tfidf_model.fit_transform(\\\n",
    "    raw_documents=comments.text).toarray()\n",
    "\n",
    "tfidf_docs.shape"
   ]
  },
  {
   "cell_type": "markdown",
   "id": "0ec8e984-ec0a-4229-83f4-aa8d564d3393",
   "metadata": {},
   "source": [
    "## Manual Prediction"
   ]
  },
  {
   "cell_type": "code",
   "execution_count": 6,
   "id": "e184a1e8-dfca-4e89-811e-f3c82a6032da",
   "metadata": {},
   "outputs": [],
   "source": [
    "# import re \n",
    "# import string\n",
    "# pattern = r'\\w+ '\n",
    "# all_tokens = []\n",
    "# for each_sentence in comments.text:\n",
    "#     all_tokens.extend(re.findall(pattern, str(each_sentence)))\n",
    "\n",
    "# len(all_tokens)\n",
    "\n",
    "# vocab = set(all_tokens)\n",
    "# print(len(vocab))"
   ]
  },
  {
   "cell_type": "code",
   "execution_count": 7,
   "id": "05b35653",
   "metadata": {},
   "outputs": [],
   "source": [
    "mask = comments.toxic.astype(bool).values  # <1>\n",
    "toxic_centroid = tfidf_docs[mask].mean(axis=0)  # <2>\n",
    "nontoxic_centroid = tfidf_docs[~mask].mean(axis=0)  # <3>"
   ]
  },
  {
   "cell_type": "code",
   "execution_count": 8,
   "id": "c825f40d-81a7-4d6b-a5dc-5f0449bc560d",
   "metadata": {},
   "outputs": [],
   "source": [
    "# toxic_centroid"
   ]
  },
  {
   "cell_type": "code",
   "execution_count": 9,
   "id": "cf13e950-1c60-4624-98c2-984a34f6502f",
   "metadata": {},
   "outputs": [],
   "source": [
    "# display(pd.DataFrame(tfidf_docs[mask]).mean(axis=0))"
   ]
  },
  {
   "cell_type": "code",
   "execution_count": 10,
   "id": "96bad0f4-336e-4cbc-8518-e55eba3ebab3",
   "metadata": {},
   "outputs": [],
   "source": [
    "# display(pd.DataFrame(tfidf_docs[mask][649]).mean(axis=0))\n",
    "# display(pd.DataFrame(tfidf_docs[mask][649]).mean())"
   ]
  },
  {
   "cell_type": "code",
   "execution_count": 11,
   "id": "955a0087-3323-45e4-ac99-22cb900e9955",
   "metadata": {},
   "outputs": [
    {
     "data": {
      "text/plain": [
       "array([-0.008, -0.022, -0.014, ..., -0.025, -0.001, -0.022])"
      ]
     },
     "execution_count": 11,
     "metadata": {},
     "output_type": "execute_result"
    }
   ],
   "source": [
    "centroid_axis = toxic_centroid - nontoxic_centroid\n",
    "toxicity_score = tfidf_docs.dot(centroid_axis)  # <1>\n",
    "toxicity_score.round(3)"
   ]
  },
  {
   "cell_type": "code",
   "execution_count": 26,
   "id": "1b4f4960-864f-4457-8eab-3e41c0f36379",
   "metadata": {},
   "outputs": [],
   "source": [
    "# centroid_axis.shape\n",
    "# toxic_centroid.shape\n",
    "#toxicity_score.shape"
   ]
  },
  {
   "cell_type": "code",
   "execution_count": 12,
   "id": "efd085b0-736c-4df2-904a-cba484d8e6ae",
   "metadata": {},
   "outputs": [
    {
     "data": {
      "text/html": [
       "<div>\n",
       "<style scoped>\n",
       "    .dataframe tbody tr th:only-of-type {\n",
       "        vertical-align: middle;\n",
       "    }\n",
       "\n",
       "    .dataframe tbody tr th {\n",
       "        vertical-align: top;\n",
       "    }\n",
       "\n",
       "    .dataframe thead th {\n",
       "        text-align: right;\n",
       "    }\n",
       "</style>\n",
       "<table border=\"1\" class=\"dataframe\">\n",
       "  <thead>\n",
       "    <tr style=\"text-align: right;\">\n",
       "      <th></th>\n",
       "      <th>toxic</th>\n",
       "      <th>manual_predict</th>\n",
       "      <th>manual_score</th>\n",
       "    </tr>\n",
       "  </thead>\n",
       "  <tbody>\n",
       "    <tr>\n",
       "      <th>comment 0,</th>\n",
       "      <td>0</td>\n",
       "      <td>0</td>\n",
       "      <td>0.41</td>\n",
       "    </tr>\n",
       "    <tr>\n",
       "      <th>comment 1,</th>\n",
       "      <td>0</td>\n",
       "      <td>0</td>\n",
       "      <td>0.27</td>\n",
       "    </tr>\n",
       "    <tr>\n",
       "      <th>comment 2,</th>\n",
       "      <td>0</td>\n",
       "      <td>0</td>\n",
       "      <td>0.35</td>\n",
       "    </tr>\n",
       "    <tr>\n",
       "      <th>comment 3,</th>\n",
       "      <td>0</td>\n",
       "      <td>0</td>\n",
       "      <td>0.47</td>\n",
       "    </tr>\n",
       "    <tr>\n",
       "      <th>comment 4,!</th>\n",
       "      <td>1</td>\n",
       "      <td>0</td>\n",
       "      <td>0.48</td>\n",
       "    </tr>\n",
       "    <tr>\n",
       "      <th>comment 5,</th>\n",
       "      <td>0</td>\n",
       "      <td>0</td>\n",
       "      <td>0.31</td>\n",
       "    </tr>\n",
       "  </tbody>\n",
       "</table>\n",
       "</div>"
      ],
      "text/plain": [
       "             toxic  manual_predict  manual_score\n",
       "comment 0,       0               0          0.41\n",
       "comment 1,       0               0          0.27\n",
       "comment 2,       0               0          0.35\n",
       "comment 3,       0               0          0.47\n",
       "comment 4,!      1               0          0.48\n",
       "comment 5,       0               0          0.31"
      ]
     },
     "execution_count": 12,
     "metadata": {},
     "output_type": "execute_result"
    }
   ],
   "source": [
    "from sklearn.preprocessing import MinMaxScaler\n",
    "comments['manual_score'] = MinMaxScaler().fit_transform(\\\n",
    "    toxicity_score.reshape(-1,1))\n",
    "comments['manual_predict'] = (comments.manual_score > .5).astype(int)\n",
    "comments['toxic manual_predict manual_score'.split()].round(2).head(6)"
   ]
  },
  {
   "cell_type": "code",
   "execution_count": 30,
   "id": "31e7822c-0f47-4dd9-8ae4-ff78c0cc818c",
   "metadata": {},
   "outputs": [],
   "source": [
    "#comments['manual_predict'].value_counts()\n",
    "#'toxic manual_predict manual_score'.split()"
   ]
  },
  {
   "cell_type": "code",
   "execution_count": 13,
   "id": "b79d5faf-7e0d-48cb-a967-7d3aaee5d490",
   "metadata": {},
   "outputs": [
    {
     "data": {
      "text/plain": [
       "0.8944"
      ]
     },
     "execution_count": 13,
     "metadata": {},
     "output_type": "execute_result"
    }
   ],
   "source": [
    "#(1-(actual_y - predicted_y).abs().sum()/len(comments))\n",
    "#(1 - (error))\n",
    "(1 - (comments.toxic - comments.manual_predict).abs().sum() / len(comments))"
   ]
  },
  {
   "cell_type": "markdown",
   "id": "e999e99e-dd5b-4280-88a0-9b41baf8ad72",
   "metadata": {},
   "source": [
    "## LDA Prediction"
   ]
  },
  {
   "cell_type": "code",
   "execution_count": 14,
   "id": "8925c04b-5fa5-40ab-839d-574118d6df7a",
   "metadata": {},
   "outputs": [
    {
     "data": {
      "text/plain": [
       "1"
      ]
     },
     "execution_count": 14,
     "metadata": {},
     "output_type": "execute_result"
    }
   ],
   "source": [
    "from sklearn.discriminant_analysis import LinearDiscriminantAnalysis as LDA\n",
    "\n",
    "lda_tfidf = LDA(n_components=1)\n",
    "#lda_tfidf = lda_tfidf.fit(x_train, y_train)\n",
    "lda_tfidf = lda_tfidf.fit(tfidf_docs, comments['toxic'])\n",
    "#comments['tfidf_predict'] = lda_tfidf.predict(x_train)\n",
    "comments['tfidf_predict'] = lda_tfidf.predict(tfidf_docs)\n",
    "round(float(lda_tfidf.score(tfidf_docs, comments['toxic'])))"
   ]
  },
  {
   "cell_type": "code",
   "execution_count": 15,
   "id": "c27038fd-d342-49ea-a133-f87c5735897a",
   "metadata": {},
   "outputs": [
    {
     "data": {
      "text/plain": [
       "0.999"
      ]
     },
     "execution_count": 15,
     "metadata": {},
     "output_type": "execute_result"
    }
   ],
   "source": [
    "from sklearn.model_selection import train_test_split\n",
    "\n",
    "X_train, X_test, y_train, y_test = train_test_split(tfidf_docs,\\\n",
    "    comments.toxic.values, test_size=0.5, random_state=271828)\n",
    "lda_tfidf = LDA(n_components=1)\n",
    "lda = lda_tfidf.fit(X_train, y_train)  # <1>\n",
    "round(float(lda.score(X_train, y_train)), 3) #score on training data"
   ]
  },
  {
   "cell_type": "code",
   "execution_count": 16,
   "id": "b37e7f7c-d6cf-4b22-a03a-8d246f8b8c65",
   "metadata": {},
   "outputs": [
    {
     "data": {
      "text/plain": [
       "0.555"
      ]
     },
     "execution_count": 16,
     "metadata": {},
     "output_type": "execute_result"
    }
   ],
   "source": [
    "round(float(lda.score(X_test, y_test)), 3) #score on validation data"
   ]
  },
  {
   "cell_type": "code",
   "execution_count": 17,
   "id": "56ba8d4a-d09a-4c0e-9cc2-46101ca7bbe0",
   "metadata": {},
   "outputs": [
    {
     "data": {
      "text/plain": [
       "array([[1265,  909],\n",
       "       [ 204,  122]], dtype=int64)"
      ]
     },
     "execution_count": 17,
     "metadata": {},
     "output_type": "execute_result"
    }
   ],
   "source": [
    "from sklearn.metrics import confusion_matrix\n",
    "confusion_matrix(y_test, lda.predict(X_test))"
   ]
  },
  {
   "cell_type": "code",
   "execution_count": 31,
   "id": "ad00f142-f3ef-4284-8c24-c09dcfd65fb4",
   "metadata": {},
   "outputs": [
    {
     "data": {
      "image/png": "[encoded data removed]",
      "text/plain": [
       "<Figure size 640x480 with 2 Axes>"
      ]
     },
     "metadata": {},
     "output_type": "display_data"
    }
   ],
   "source": [
    "from sklearn.metrics import confusion_matrix, ConfusionMatrixDisplay\n",
    "import matplotlib.pyplot as plt\n",
    "\n",
    "# Calculate the confusion matrix\n",
    "conf_matrix = confusion_matrix(y_test, lda.predict(X_test))\n",
    "\n",
    "# Display the confusion matrix\n",
    "disp = ConfusionMatrixDisplay(confusion_matrix=conf_matrix, display_labels=['Non-Toxic', 'Toxic'])\n",
    "disp.plot(cmap='Blues')\n",
    "plt.title('Confusion Matrix')\n",
    "plt.show()"
   ]
  },
  {
   "cell_type": "code",
   "execution_count": null,
   "id": "e2650312-92d3-4d23-859b-e55f6b14411c",
   "metadata": {},
   "outputs": [],
   "source": []
  }
 ],
 "metadata": {
  "kernelspec": {
   "display_name": "Python 3 (ipykernel)",
   "language": "python",
   "name": "python3"
  },
  "language_info": {
   "codemirror_mode": {
    "name": "ipython",
    "version": 3
   },
   "file_extension": ".py",
   "mimetype": "text/x-python",
   "name": "python",
   "nbconvert_exporter": "python",
   "pygments_lexer": "ipython3",
   "version": "3.11.8"
  }
 },
 "nbformat": 4,
 "nbformat_minor": 5
}
